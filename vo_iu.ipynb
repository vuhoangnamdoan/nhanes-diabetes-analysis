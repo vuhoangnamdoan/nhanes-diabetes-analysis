{
 "cells": [
  {
   "cell_type": "markdown",
   "id": "d2d7ccc9",
   "metadata": {
    "tags": []
   },
   "source": [
    "# Topic: <span style=\"color:red\">Diabetes Risk Analysis</span>\n",
    "**Name:** Vu Hoang Nam Doan \n",
    "\n",
    "**Student Number:** s224021565\n",
    "\n",
    "**Email:** s224021565@deakin.edu.au  \n",
    "\n",
    "**Course:** S379 - Bachelor of Data Science\n",
    "\n",
    "**Unit:** Undergraduate (SIT220)\n"
   ]
  },
  {
   "cell_type": "markdown",
   "id": "097b7b23-74d1-447e-a87a-44c438bf1136",
   "metadata": {
    "tags": []
   },
   "source": [
    "## <span style=\"color:red\">Ethical Considerations in Health Data Analysis</span>\n",
    "While analyzing the NHANES dataset, some important ethical issues came up regarding demographic variables, especially ethnicity:\n",
    "\n",
    "1. **Avoiding Stereotypes**: When discussing the link between ethnicity and health outcomes, we must clarify that these connections are shaped by complex social factors, not biological differences.\n",
    "\n",
    "2. **Researcher Responsibility**: We must work to prevent the spread of harmful stereotypes while still recognizing health differences that exist among various communities.\n",
    "\n",
    "3. **Context Matters**: Any differences in health outcomes between groups should be viewed in relation to social, economic, and historical factors, not seen as traits of the groups themselves.\n",
    "\n",
    "4. **Protecting Privacy**: Although the NHANES dataset is anonymized, combining various data points may still increase the risk of identifying individuals in small groups.\n",
    "\n",
    "5. **Clear Visuals**: When creating visuals that include ethnicity data, I made sure that color choices and labels do not support stereotypes.\n",
    "\n",
    "6. **Purpose Limitation**: The demographic analysis was conducted to demonstrate visualization techniques rather than to make definitive claims about health differences between ethnic groups.\n",
    "\n",
    "Throughout this analysis, I've attempted to balance the need for comprehensive health analysis with ethical responsibility, recognizing that data scientists play an important role in how demographic health information is interpreted and understood by others."
   ]
  },
  {
   "cell_type": "markdown",
   "id": "b397f9f7",
   "metadata": {},
   "source": [
    "## Abstract\n",
    "\n",
    "This report presents a comprehensive analysis of NHANES health data focusing on diabetes risk factors through multiple analytical approaches. After thorough data preparation—including comparative evaluation of imputation techniques with KNN selected for numerical variables and mode imputation for categorical variables—the analysis explores diabetes prevalence across demographic factors through interactive Bokeh visualizations. The investigation employs Random Forest classification to identify and rank key diabetes risk predictors, achieving an AUC score of 0.737, followed by examination of socioeconomic disparities in diabetes rates across income levels. Finally, K-means clustering groups participants into four distinct health profiles based on the elbow method's determination, while Principal Component Analysis reduces data dimensionality to two components capturing 47.60% of variance, enabling effective visualization of relationships between multiple health factors and diabetes risk through interactive scatter plots that integrate both original variables and principal components."
   ]
  },
  {
   "cell_type": "markdown",
   "id": "6c4ab3ee-1886-47bc-a26c-bff073f917c0",
   "metadata": {},
   "source": [
    "## I. Introduction\n",
    "This notebook explores the application of the `bokeh` library and its extensions in data analysis and machine learning. `Bokeh` is a powerful tool for creating interactive visualizations, showcasing its capabilities in presenting data effectively. The content is organized into three sections, with a link provided in a code block for easy access.\n",
    "\n",
    "The report begins by importing a variety of essential Python libraries to facilitate data analysis, visualization, and machine learning, including tools for data manipulation and algorithms like KMeans, PCA, and RandomForest. The primary focus will be on leveraging the `bokeh` library and its extensions, which enhance its functionality for specific tasks, making it an invaluable resource for interactive data visualization in Python.\n",
    "\n",
    "*The notebook is configured for inline plotting within the Jupyter environment, enabling seamless integration of visualizations with analysis.*"
   ]
  },
  {
   "cell_type": "code",
   "execution_count": 1,
   "id": "a8c84f46-0156-4590-aa3e-9048cf935faa",
   "metadata": {
    "tags": []
   },
   "outputs": [
    {
     "data": {
      "text/html": [
       "    <style>\n",
       "        .bk-notebook-logo {\n",
       "            display: block;\n",
       "            width: 20px;\n",
       "            height: 20px;\n",
       "            background-image: url(data:image/png;base64,iVBORw0KGgoAAAANSUhEUgAAABQAAAAUCAYAAACNiR0NAAAABHNCSVQICAgIfAhkiAAAAAlwSFlzAAALEgAACxIB0t1+/AAAABx0RVh0U29mdHdhcmUAQWRvYmUgRmlyZXdvcmtzIENTNui8sowAAAOkSURBVDiNjZRtaJVlGMd/1/08zzln5zjP1LWcU9N0NkN8m2CYjpgQYQXqSs0I84OLIC0hkEKoPtiH3gmKoiJDU7QpLgoLjLIQCpEsNJ1vqUOdO7ppbuec5+V+rj4ctwzd8IIbbi6u+8f1539dt3A78eXC7QizUF7gyV1fD1Yqg4JWz84yffhm0qkFqBogB9rM8tZdtwVsPUhWhGcFJngGeWrPzHm5oaMmkfEg1usvLFyc8jLRqDOMru7AyC8saQr7GG7f5fvDeH7Ej8CM66nIF+8yngt6HWaKh7k49Soy9nXurCi1o3qUbS3zWfrYeQDTB/Qj6kX6Ybhw4B+bOYoLKCC9H3Nu/leUTZ1JdRWkkn2ldcCamzrcf47KKXdAJllSlxAOkRgyHsGC/zRday5Qld9DyoM4/q/rUoy/CXh3jzOu3bHUVZeU+DEn8FInkPBFlu3+nW3Nw0mk6vCDiWg8CeJaxEwuHS3+z5RgY+YBR6V1Z1nxSOfoaPa4LASWxxdNp+VWTk7+4vzaou8v8PN+xo+KY2xsw6une2frhw05CTYOmQvsEhjhWjn0bmXPjpE1+kplmmkP3suftwTubK9Vq22qKmrBhpY4jvd5afdRA3wGjFAgcnTK2s4hY0/GPNIb0nErGMCRxWOOX64Z8RAC4oCXdklmEvcL8o0BfkNK4lUg9HTl+oPlQxdNo3Mg4Nv175e/1LDGzZen30MEjRUtmXSfiTVu1kK8W4txyV6BMKlbgk3lMwYCiusNy9fVfvvwMxv8Ynl6vxoByANLTWplvuj/nF9m2+PDtt1eiHPBr1oIfhCChQMBw6Aw0UulqTKZdfVvfG7VcfIqLG9bcldL/+pdWTLxLUy8Qq38heUIjh4XlzZxzQm19lLFlr8vdQ97rjZVOLf8nclzckbcD4wxXMidpX30sFd37Fv/GtwwhzhxGVAprjbg0gCAEeIgwCZyTV2Z1REEW8O4py0wsjeloKoMr6iCY6dP92H6Vw/oTyICIthibxjm/DfN9lVz8IqtqKYLUXfoKVMVQVVJOElGjrnnUt9T9wbgp8AyYKaGlqingHZU/uG2NTZSVqwHQTWkx9hxjkpWDaCg6Ckj5qebgBVbT3V3NNXMSiWSDdGV3hrtzla7J+duwPOToIg42ChPQOQjspnSlp1V+Gjdged7+8UN5CRAV7a5EdFNwCjEaBR27b3W890TE7g24NAP/mMDXRWrGoFPQI9ls/MWO2dWFAar/xcOIImbbpA3zgAAAABJRU5ErkJggg==);\n",
       "        }\n",
       "    </style>\n",
       "    <div>\n",
       "        <a href=\"https://bokeh.org\" target=\"_blank\" class=\"bk-notebook-logo\"></a>\n",
       "        <span id=\"c4384963-701b-44ce-b08f-b87d8dccf2ce\">Loading BokehJS ...</span>\n",
       "    </div>\n"
      ]
     },
     "metadata": {},
     "output_type": "display_data"
    },
    {
     "data": {
      "application/javascript": [
       "(function(root) {\n",
       "  function now() {\n",
       "    return new Date();\n",
       "  }\n",
       "\n",
       "  const force = true;\n",
       "\n",
       "  if (typeof root._bokeh_onload_callbacks === \"undefined\" || force === true) {\n",
       "    root._bokeh_onload_callbacks = [];\n",
       "    root._bokeh_is_loading = undefined;\n",
       "  }\n",
       "\n",
       "const JS_MIME_TYPE = 'application/javascript';\n",
       "  const HTML_MIME_TYPE = 'text/html';\n",
       "  const EXEC_MIME_TYPE = 'application/vnd.bokehjs_exec.v0+json';\n",
       "  const CLASS_NAME = 'output_bokeh rendered_html';\n",
       "\n",
       "  /**\n",
       "   * Render data to the DOM node\n",
       "   */\n",
       "  function render(props, node) {\n",
       "    const script = document.createElement(\"script\");\n",
       "    node.appendChild(script);\n",
       "  }\n",
       "\n",
       "  /**\n",
       "   * Handle when an output is cleared or removed\n",
       "   */\n",
       "  function handleClearOutput(event, handle) {\n",
       "    function drop(id) {\n",
       "      const view = Bokeh.index.get_by_id(id)\n",
       "      if (view != null) {\n",
       "        view.model.document.clear()\n",
       "        Bokeh.index.delete(view)\n",
       "      }\n",
       "    }\n",
       "\n",
       "    const cell = handle.cell;\n",
       "\n",
       "    const id = cell.output_area._bokeh_element_id;\n",
       "    const server_id = cell.output_area._bokeh_server_id;\n",
       "\n",
       "    // Clean up Bokeh references\n",
       "    if (id != null) {\n",
       "      drop(id)\n",
       "    }\n",
       "\n",
       "    if (server_id !== undefined) {\n",
       "      // Clean up Bokeh references\n",
       "      const cmd_clean = \"from bokeh.io.state import curstate; print(curstate().uuid_to_server['\" + server_id + \"'].get_sessions()[0].document.roots[0]._id)\";\n",
       "      cell.notebook.kernel.execute(cmd_clean, {\n",
       "        iopub: {\n",
       "          output: function(msg) {\n",
       "            const id = msg.content.text.trim()\n",
       "            drop(id)\n",
       "          }\n",
       "        }\n",
       "      });\n",
       "      // Destroy server and session\n",
       "      const cmd_destroy = \"import bokeh.io.notebook as ion; ion.destroy_server('\" + server_id + \"')\";\n",
       "      cell.notebook.kernel.execute(cmd_destroy);\n",
       "    }\n",
       "  }\n",
       "\n",
       "  /**\n",
       "   * Handle when a new output is added\n",
       "   */\n",
       "  function handleAddOutput(event, handle) {\n",
       "    const output_area = handle.output_area;\n",
       "    const output = handle.output;\n",
       "\n",
       "    // limit handleAddOutput to display_data with EXEC_MIME_TYPE content only\n",
       "    if ((output.output_type != \"display_data\") || (!Object.prototype.hasOwnProperty.call(output.data, EXEC_MIME_TYPE))) {\n",
       "      return\n",
       "    }\n",
       "\n",
       "    const toinsert = output_area.element.find(\".\" + CLASS_NAME.split(' ')[0]);\n",
       "\n",
       "    if (output.metadata[EXEC_MIME_TYPE][\"id\"] !== undefined) {\n",
       "      toinsert[toinsert.length - 1].firstChild.textContent = output.data[JS_MIME_TYPE];\n",
       "      // store reference to embed id on output_area\n",
       "      output_area._bokeh_element_id = output.metadata[EXEC_MIME_TYPE][\"id\"];\n",
       "    }\n",
       "    if (output.metadata[EXEC_MIME_TYPE][\"server_id\"] !== undefined) {\n",
       "      const bk_div = document.createElement(\"div\");\n",
       "      bk_div.innerHTML = output.data[HTML_MIME_TYPE];\n",
       "      const script_attrs = bk_div.children[0].attributes;\n",
       "      for (let i = 0; i < script_attrs.length; i++) {\n",
       "        toinsert[toinsert.length - 1].firstChild.setAttribute(script_attrs[i].name, script_attrs[i].value);\n",
       "        toinsert[toinsert.length - 1].firstChild.textContent = bk_div.children[0].textContent\n",
       "      }\n",
       "      // store reference to server id on output_area\n",
       "      output_area._bokeh_server_id = output.metadata[EXEC_MIME_TYPE][\"server_id\"];\n",
       "    }\n",
       "  }\n",
       "\n",
       "  function register_renderer(events, OutputArea) {\n",
       "\n",
       "    function append_mime(data, metadata, element) {\n",
       "      // create a DOM node to render to\n",
       "      const toinsert = this.create_output_subarea(\n",
       "        metadata,\n",
       "        CLASS_NAME,\n",
       "        EXEC_MIME_TYPE\n",
       "      );\n",
       "      this.keyboard_manager.register_events(toinsert);\n",
       "      // Render to node\n",
       "      const props = {data: data, metadata: metadata[EXEC_MIME_TYPE]};\n",
       "      render(props, toinsert[toinsert.length - 1]);\n",
       "      element.append(toinsert);\n",
       "      return toinsert\n",
       "    }\n",
       "\n",
       "    /* Handle when an output is cleared or removed */\n",
       "    events.on('clear_output.CodeCell', handleClearOutput);\n",
       "    events.on('delete.Cell', handleClearOutput);\n",
       "\n",
       "    /* Handle when a new output is added */\n",
       "    events.on('output_added.OutputArea', handleAddOutput);\n",
       "\n",
       "    /**\n",
       "     * Register the mime type and append_mime function with output_area\n",
       "     */\n",
       "    OutputArea.prototype.register_mime_type(EXEC_MIME_TYPE, append_mime, {\n",
       "      /* Is output safe? */\n",
       "      safe: true,\n",
       "      /* Index of renderer in `output_area.display_order` */\n",
       "      index: 0\n",
       "    });\n",
       "  }\n",
       "\n",
       "  // register the mime type if in Jupyter Notebook environment and previously unregistered\n",
       "  if (root.Jupyter !== undefined) {\n",
       "    const events = require('base/js/events');\n",
       "    const OutputArea = require('notebook/js/outputarea').OutputArea;\n",
       "\n",
       "    if (OutputArea.prototype.mime_types().indexOf(EXEC_MIME_TYPE) == -1) {\n",
       "      register_renderer(events, OutputArea);\n",
       "    }\n",
       "  }\n",
       "  if (typeof (root._bokeh_timeout) === \"undefined\" || force === true) {\n",
       "    root._bokeh_timeout = Date.now() + 5000;\n",
       "    root._bokeh_failed_load = false;\n",
       "  }\n",
       "\n",
       "  const NB_LOAD_WARNING = {'data': {'text/html':\n",
       "     \"<div style='background-color: #fdd'>\\n\"+\n",
       "     \"<p>\\n\"+\n",
       "     \"BokehJS does not appear to have successfully loaded. If loading BokehJS from CDN, this \\n\"+\n",
       "     \"may be due to a slow or bad network connection. Possible fixes:\\n\"+\n",
       "     \"</p>\\n\"+\n",
       "     \"<ul>\\n\"+\n",
       "     \"<li>re-rerun `output_notebook()` to attempt to load from CDN again, or</li>\\n\"+\n",
       "     \"<li>use INLINE resources instead, as so:</li>\\n\"+\n",
       "     \"</ul>\\n\"+\n",
       "     \"<code>\\n\"+\n",
       "     \"from bokeh.resources import INLINE\\n\"+\n",
       "     \"output_notebook(resources=INLINE)\\n\"+\n",
       "     \"</code>\\n\"+\n",
       "     \"</div>\"}};\n",
       "\n",
       "  function display_loaded() {\n",
       "    const el = document.getElementById(\"c4384963-701b-44ce-b08f-b87d8dccf2ce\");\n",
       "    if (el != null) {\n",
       "      el.textContent = \"BokehJS is loading...\";\n",
       "    }\n",
       "    if (root.Bokeh !== undefined) {\n",
       "      if (el != null) {\n",
       "        el.textContent = \"BokehJS \" + root.Bokeh.version + \" successfully loaded.\";\n",
       "      }\n",
       "    } else if (Date.now() < root._bokeh_timeout) {\n",
       "      setTimeout(display_loaded, 100)\n",
       "    }\n",
       "  }\n",
       "\n",
       "  function run_callbacks() {\n",
       "    try {\n",
       "      root._bokeh_onload_callbacks.forEach(function(callback) {\n",
       "        if (callback != null)\n",
       "          callback();\n",
       "      });\n",
       "    } finally {\n",
       "      delete root._bokeh_onload_callbacks\n",
       "    }\n",
       "    console.debug(\"Bokeh: all callbacks have finished\");\n",
       "  }\n",
       "\n",
       "  function load_libs(css_urls, js_urls, callback) {\n",
       "    if (css_urls == null) css_urls = [];\n",
       "    if (js_urls == null) js_urls = [];\n",
       "\n",
       "    root._bokeh_onload_callbacks.push(callback);\n",
       "    if (root._bokeh_is_loading > 0) {\n",
       "      console.debug(\"Bokeh: BokehJS is being loaded, scheduling callback at\", now());\n",
       "      return null;\n",
       "    }\n",
       "    if (js_urls == null || js_urls.length === 0) {\n",
       "      run_callbacks();\n",
       "      return null;\n",
       "    }\n",
       "    console.debug(\"Bokeh: BokehJS not loaded, scheduling load and callback at\", now());\n",
       "    root._bokeh_is_loading = css_urls.length + js_urls.length;\n",
       "\n",
       "    function on_load() {\n",
       "      root._bokeh_is_loading--;\n",
       "      if (root._bokeh_is_loading === 0) {\n",
       "        console.debug(\"Bokeh: all BokehJS libraries/stylesheets loaded\");\n",
       "        run_callbacks()\n",
       "      }\n",
       "    }\n",
       "\n",
       "    function on_error(url) {\n",
       "      console.error(\"failed to load \" + url);\n",
       "    }\n",
       "\n",
       "    for (let i = 0; i < css_urls.length; i++) {\n",
       "      const url = css_urls[i];\n",
       "      const element = document.createElement(\"link\");\n",
       "      element.onload = on_load;\n",
       "      element.onerror = on_error.bind(null, url);\n",
       "      element.rel = \"stylesheet\";\n",
       "      element.type = \"text/css\";\n",
       "      element.href = url;\n",
       "      console.debug(\"Bokeh: injecting link tag for BokehJS stylesheet: \", url);\n",
       "      document.body.appendChild(element);\n",
       "    }\n",
       "\n",
       "    for (let i = 0; i < js_urls.length; i++) {\n",
       "      const url = js_urls[i];\n",
       "      const element = document.createElement('script');\n",
       "      element.onload = on_load;\n",
       "      element.onerror = on_error.bind(null, url);\n",
       "      element.async = false;\n",
       "      element.src = url;\n",
       "      console.debug(\"Bokeh: injecting script tag for BokehJS library: \", url);\n",
       "      document.head.appendChild(element);\n",
       "    }\n",
       "  };\n",
       "\n",
       "  function inject_raw_css(css) {\n",
       "    const element = document.createElement(\"style\");\n",
       "    element.appendChild(document.createTextNode(css));\n",
       "    document.body.appendChild(element);\n",
       "  }\n",
       "\n",
       "  const js_urls = [\"https://cdn.bokeh.org/bokeh/release/bokeh-3.3.4.min.js\", \"https://cdn.bokeh.org/bokeh/release/bokeh-gl-3.3.4.min.js\", \"https://cdn.bokeh.org/bokeh/release/bokeh-widgets-3.3.4.min.js\", \"https://cdn.bokeh.org/bokeh/release/bokeh-tables-3.3.4.min.js\", \"https://cdn.bokeh.org/bokeh/release/bokeh-mathjax-3.3.4.min.js\"];\n",
       "  const css_urls = [];\n",
       "\n",
       "  const inline_js = [    function(Bokeh) {\n",
       "      Bokeh.set_log_level(\"info\");\n",
       "    },\n",
       "function(Bokeh) {\n",
       "    }\n",
       "  ];\n",
       "\n",
       "  function run_inline_js() {\n",
       "    if (root.Bokeh !== undefined || force === true) {\n",
       "          for (let i = 0; i < inline_js.length; i++) {\n",
       "      inline_js[i].call(root, root.Bokeh);\n",
       "    }\n",
       "if (force === true) {\n",
       "        display_loaded();\n",
       "      }} else if (Date.now() < root._bokeh_timeout) {\n",
       "      setTimeout(run_inline_js, 100);\n",
       "    } else if (!root._bokeh_failed_load) {\n",
       "      console.log(\"Bokeh: BokehJS failed to load within specified timeout.\");\n",
       "      root._bokeh_failed_load = true;\n",
       "    } else if (force !== true) {\n",
       "      const cell = $(document.getElementById(\"c4384963-701b-44ce-b08f-b87d8dccf2ce\")).parents('.cell').data().cell;\n",
       "      cell.output_area.append_execute_result(NB_LOAD_WARNING)\n",
       "    }\n",
       "  }\n",
       "\n",
       "  if (root._bokeh_is_loading === 0) {\n",
       "    console.debug(\"Bokeh: BokehJS loaded, going straight to plotting\");\n",
       "    run_inline_js();\n",
       "  } else {\n",
       "    load_libs(css_urls, js_urls, function() {\n",
       "      console.debug(\"Bokeh: BokehJS plotting callback run at\", now());\n",
       "      run_inline_js();\n",
       "    });\n",
       "  }\n",
       "}(window));"
      ],
      "application/vnd.bokehjs_load.v0+json": "(function(root) {\n  function now() {\n    return new Date();\n  }\n\n  const force = true;\n\n  if (typeof root._bokeh_onload_callbacks === \"undefined\" || force === true) {\n    root._bokeh_onload_callbacks = [];\n    root._bokeh_is_loading = undefined;\n  }\n\n\n  if (typeof (root._bokeh_timeout) === \"undefined\" || force === true) {\n    root._bokeh_timeout = Date.now() + 5000;\n    root._bokeh_failed_load = false;\n  }\n\n  const NB_LOAD_WARNING = {'data': {'text/html':\n     \"<div style='background-color: #fdd'>\\n\"+\n     \"<p>\\n\"+\n     \"BokehJS does not appear to have successfully loaded. If loading BokehJS from CDN, this \\n\"+\n     \"may be due to a slow or bad network connection. Possible fixes:\\n\"+\n     \"</p>\\n\"+\n     \"<ul>\\n\"+\n     \"<li>re-rerun `output_notebook()` to attempt to load from CDN again, or</li>\\n\"+\n     \"<li>use INLINE resources instead, as so:</li>\\n\"+\n     \"</ul>\\n\"+\n     \"<code>\\n\"+\n     \"from bokeh.resources import INLINE\\n\"+\n     \"output_notebook(resources=INLINE)\\n\"+\n     \"</code>\\n\"+\n     \"</div>\"}};\n\n  function display_loaded() {\n    const el = document.getElementById(\"c4384963-701b-44ce-b08f-b87d8dccf2ce\");\n    if (el != null) {\n      el.textContent = \"BokehJS is loading...\";\n    }\n    if (root.Bokeh !== undefined) {\n      if (el != null) {\n        el.textContent = \"BokehJS \" + root.Bokeh.version + \" successfully loaded.\";\n      }\n    } else if (Date.now() < root._bokeh_timeout) {\n      setTimeout(display_loaded, 100)\n    }\n  }\n\n  function run_callbacks() {\n    try {\n      root._bokeh_onload_callbacks.forEach(function(callback) {\n        if (callback != null)\n          callback();\n      });\n    } finally {\n      delete root._bokeh_onload_callbacks\n    }\n    console.debug(\"Bokeh: all callbacks have finished\");\n  }\n\n  function load_libs(css_urls, js_urls, callback) {\n    if (css_urls == null) css_urls = [];\n    if (js_urls == null) js_urls = [];\n\n    root._bokeh_onload_callbacks.push(callback);\n    if (root._bokeh_is_loading > 0) {\n      console.debug(\"Bokeh: BokehJS is being loaded, scheduling callback at\", now());\n      return null;\n    }\n    if (js_urls == null || js_urls.length === 0) {\n      run_callbacks();\n      return null;\n    }\n    console.debug(\"Bokeh: BokehJS not loaded, scheduling load and callback at\", now());\n    root._bokeh_is_loading = css_urls.length + js_urls.length;\n\n    function on_load() {\n      root._bokeh_is_loading--;\n      if (root._bokeh_is_loading === 0) {\n        console.debug(\"Bokeh: all BokehJS libraries/stylesheets loaded\");\n        run_callbacks()\n      }\n    }\n\n    function on_error(url) {\n      console.error(\"failed to load \" + url);\n    }\n\n    for (let i = 0; i < css_urls.length; i++) {\n      const url = css_urls[i];\n      const element = document.createElement(\"link\");\n      element.onload = on_load;\n      element.onerror = on_error.bind(null, url);\n      element.rel = \"stylesheet\";\n      element.type = \"text/css\";\n      element.href = url;\n      console.debug(\"Bokeh: injecting link tag for BokehJS stylesheet: \", url);\n      document.body.appendChild(element);\n    }\n\n    for (let i = 0; i < js_urls.length; i++) {\n      const url = js_urls[i];\n      const element = document.createElement('script');\n      element.onload = on_load;\n      element.onerror = on_error.bind(null, url);\n      element.async = false;\n      element.src = url;\n      console.debug(\"Bokeh: injecting script tag for BokehJS library: \", url);\n      document.head.appendChild(element);\n    }\n  };\n\n  function inject_raw_css(css) {\n    const element = document.createElement(\"style\");\n    element.appendChild(document.createTextNode(css));\n    document.body.appendChild(element);\n  }\n\n  const js_urls = [\"https://cdn.bokeh.org/bokeh/release/bokeh-3.3.4.min.js\", \"https://cdn.bokeh.org/bokeh/release/bokeh-gl-3.3.4.min.js\", \"https://cdn.bokeh.org/bokeh/release/bokeh-widgets-3.3.4.min.js\", \"https://cdn.bokeh.org/bokeh/release/bokeh-tables-3.3.4.min.js\", \"https://cdn.bokeh.org/bokeh/release/bokeh-mathjax-3.3.4.min.js\"];\n  const css_urls = [];\n\n  const inline_js = [    function(Bokeh) {\n      Bokeh.set_log_level(\"info\");\n    },\nfunction(Bokeh) {\n    }\n  ];\n\n  function run_inline_js() {\n    if (root.Bokeh !== undefined || force === true) {\n          for (let i = 0; i < inline_js.length; i++) {\n      inline_js[i].call(root, root.Bokeh);\n    }\nif (force === true) {\n        display_loaded();\n      }} else if (Date.now() < root._bokeh_timeout) {\n      setTimeout(run_inline_js, 100);\n    } else if (!root._bokeh_failed_load) {\n      console.log(\"Bokeh: BokehJS failed to load within specified timeout.\");\n      root._bokeh_failed_load = true;\n    } else if (force !== true) {\n      const cell = $(document.getElementById(\"c4384963-701b-44ce-b08f-b87d8dccf2ce\")).parents('.cell').data().cell;\n      cell.output_area.append_execute_result(NB_LOAD_WARNING)\n    }\n  }\n\n  if (root._bokeh_is_loading === 0) {\n    console.debug(\"Bokeh: BokehJS loaded, going straight to plotting\");\n    run_inline_js();\n  } else {\n    load_libs(css_urls, js_urls, function() {\n      console.debug(\"Bokeh: BokehJS plotting callback run at\", now());\n      run_inline_js();\n    });\n  }\n}(window));"
     },
     "metadata": {},
     "output_type": "display_data"
    }
   ],
   "source": [
    "# Standard library imports\n",
    "import json\n",
    "import re\n",
    "import itertools\n",
    "from pathlib import Path\n",
    "\n",
    "# Data manipulation and analysis\n",
    "import numpy as np\n",
    "import pandas as pd\n",
    "\n",
    "# Machine Learning\n",
    "from sklearn.cluster import KMeans\n",
    "from sklearn.decomposition import PCA\n",
    "from sklearn.ensemble import RandomForestClassifier\n",
    "from sklearn.impute import KNNImputer, SimpleImputer\n",
    "from sklearn.metrics import auc, roc_curve\n",
    "from sklearn.model_selection import train_test_split\n",
    "from sklearn.preprocessing import StandardScaler\n",
    "\n",
    "# Visualization - Matplotlib        \n",
    "import matplotlib.pyplot as plt\n",
    "\n",
    "# Visualization - Bokeh\n",
    "from bokeh.io import output_notebook\n",
    "from bokeh.models import (\n",
    "    CDSView, \n",
    "    ColumnDataSource, \n",
    "    HoverTool, \n",
    "    IndexFilter, \n",
    "    LabelSet, \n",
    "    Range1d, \n",
    "    Span\n",
    ")\n",
    "from bokeh.palettes import Category10\n",
    "from bokeh.plotting import figure, show\n",
    "\n",
    "# Interactive widgets\n",
    "from ipywidgets import Dropdown, IntSlider, interact\n",
    "from IPython.display import display\n",
    "\n",
    "# Configure plotting environment\n",
    "%matplotlib inline\n",
    "output_notebook()"
   ]
  },
  {
   "cell_type": "markdown",
   "id": "5457b82e-cfec-418c-a6d9-dbe04092b0c0",
   "metadata": {
    "tags": []
   },
   "source": [
    "## II. Data Ingestion: Selecting Key Variables\n",
    "\n",
    "In this section, we define the source URLs for accessing NHANES 2021-2023 data files directly from the CDC's website. The National Health and Nutrition Examination Survey (NHANES) is a program of studies designed to assess the health and nutritional status of adults and children in the United States.\n",
    "\n",
    "Each component dataset is stored in XPT format (SAS transport files), containing specialized health information critical for diabetes risk and health status assessment. The datasets are selected based on their relevance to diabetes risk factors, including demographics, body measurements, glycohemoglobin levels, physical activity, income, diabetes history, and dietary intake.\n",
    "\n",
    "- **DEMO_L**: Demographics dataset capturing fundamental participant characteristics\n",
    "  - Age, gender, race/ethnicity variables necessary for population stratification\n",
    "  - Socioeconomic indicators that may correlate with health outcomes\n",
    "  - Sampling weights for national population estimates\n",
    "\n",
    "- **BMX_L**: Body Measurements examining anthropometrics\n",
    "  - Body Mass Index (BMI) - a key diabetes risk factor\n",
    "  - Height, weight, and other physical measurements\n",
    "  - Used to classify participants into weight categories\n",
    "\n",
    "- **GHB_L**: Glycohemoglobin laboratory results\n",
    "  - HbA1c percentages - the gold standard biomarker for diabetes\n",
    "  - Reflects average blood glucose over previous 2-3 months\n",
    "  - Clinical cutoff ≥6.5% indicates diabetes\n",
    "\n",
    "- **PAQ_L**: Physical Activity Questionnaire data\n",
    "  - Self-reported exercise frequency, duration, and intensity\n",
    "  - Sedentary behavior indicators\n",
    "  - Essential for evaluating lifestyle contributions to health\n",
    "\n",
    "- **INQ_L**: Income Questionnaire information\n",
    "  - Family monthly poverty level index categories\n",
    "  - Important social determinant of health access and outcomes\n",
    "\n",
    "- **DIQ_L**: Diabetes Questionnaire responses\n",
    "  - Self-reported diabetes diagnoses\n",
    "  - Age at diagnosis, treatment patterns\n",
    "  - Family history and diabetes awareness\n",
    "\n",
    "- **DR1TOT_L**: Dietary Recall total nutrients\n",
    "  - Calorie intake, macronutrient distribution\n",
    "  - Sugar consumption, dietary patterns\n",
    "  - Nutritional factors affecting diabetes risk\n",
    "\n",
    "We establishes a centralized reference dictionary for all NHANES 2021-2023 data files mapping short dataset names to their full URLs. This dictionary implementation improves code readability, ensures consistency across the notebook, and provides a single location for URL updates if newer datasets become available. The XPT files are read directly from the CDC servers, ensuring we're using the most current published versions."
   ]
  },
  {
   "cell_type": "code",
   "execution_count": 2,
   "id": "fab733c9-0980-4972-a26f-ebf1315d3434",
   "metadata": {
    "tags": []
   },
   "outputs": [],
   "source": [
    "files = {\n",
    "    \"DEMO\": 'DEMO_L.XPT',\n",
    "    \"BMX\":  'BMX_L.XPT',\n",
    "    \"GHB\":  'GHB_L.XPT',\n",
    "    \"PAQ\": 'PAQ_L.XPT',\n",
    "    \"INQ\": 'INQ_L.XPT',\n",
    "    \"DIQ\": 'DIQ_L.XPT',\n",
    "    \"DR1TOT\": 'DR1TOT_L.XPT',\n",
    "}"
   ]
  },
  {
   "cell_type": "markdown",
   "id": "eb928c68",
   "metadata": {},
   "source": [
    "### A Demographics\n",
    "\n",
    "Now we will load the demographics data. Rather than importing the entire demographics file (which contains dozens of variables), we extract only four essential identifiers and demographic characteristics needed for our health analysis:\n",
    "\n",
    "- **SEQN**: The unique participant sequence number that serves as the primary key for linking all NHANES datasets together\n",
    "- **RIAGENDR**: Gender/sex identification coded as 1 (Male) or 2 (Female)\n",
    "- **RIDAGEYR**: Age in years at the time of screening\n",
    "- **RIDRETH1**: Race/ethnicity classification using NHANES standard codes (1-5)\n",
    "\n",
    "These demographic data categoric columns has specific codes, we will use the following dictionaries to convert them to human-readable strings. Here are the tables for the codes\n",
    "\n",
    "- The gender of the respondent\n",
    "\n",
    "| RIAGENDR | Gender of the respondent |\n",
    "|----------|------------------------- |\n",
    "| 1        | Male                     |\n",
    "| 2        | Female                   |\n",
    "| .        | Missing                  |\n",
    "\n",
    "- The ethnicity of the respondent\n",
    "\n",
    "| RIDRETH1 | Ethnicity of the respondent        |\n",
    "|----------|---------------------------         |\n",
    "| 1        | Mexican American                              |\n",
    "| 2        | Other Hispanic                     |\n",
    "| 3        | Non-Hispanic White                 |\n",
    "| 4        | Non-Hispanic Black                 |\n",
    "| 5        | Other Race - Including Multi-Racial|\n",
    "| .       | Missing                             |\n",
    "\n",
    "The `pd.read_sas()` function directly reads the SAS XPT (transport) file format that NHANES provides from the CDC files we defined earlier. By passing the column list as an indexer `[demo_columns]`, we efficiently load only the subset of variables needed\n",
    "\n",
    "The print statement confirms successful data retrieval by displaying the dimensions of the loaded dataset - specifically how many participants (rows) and variables (columns) were imported. This demographic information will later be merged with other NHANES components like body measurements, laboratory results, and questionnaire responses to create a comprehensive dataset for diabetes risk analysis."
   ]
  },
  {
   "cell_type": "code",
   "execution_count": 3,
   "id": "81e9c057-42f1-463d-b9aa-c83b2ab4d99f",
   "metadata": {
    "tags": []
   },
   "outputs": [
    {
     "name": "stdout",
     "output_type": "stream",
     "text": [
      "DEMO: loaded 11933 rows, 4 columns\n"
     ]
    }
   ],
   "source": [
    "demo_columns = [\"SEQN\", \"RIAGENDR\", \"RIDAGEYR\", \"RIDRETH1\"]\n",
    "demo = pd.read_sas(files[\"DEMO\"], format=\"xport\")[demo_columns]\n",
    "print(f\"DEMO: loaded {len(demo)} rows, {len(demo.columns)} columns\")\n"
   ]
  },
  {
   "cell_type": "markdown",
   "id": "b2e290d8",
   "metadata": {},
   "source": [
    "Afterwards, we perform essential exploratory data analysis (EDA) on the newly loaded demographics dataset. It provides a comprehensive overview of the data structure, contents, and quality through three key components:\n",
    "\n",
    "1. **Shape Output**: Displays the dimensions of the DataFrame as `(rows, columns)`, showing exactly how many participants are in the NHANES sample\n",
    "\n",
    "2. **DataFrame Info**: Provides a concise summary of the dataset structure, including name, data types, and non-null counts for each column\n",
    "\n",
    "3. **Data Preview**: Displays the first 5 rows of raw data using `head()` to observe the format and values of the loaded dataset"
   ]
  },
  {
   "cell_type": "code",
   "execution_count": 4,
   "id": "635a973e-f938-4c81-a920-fb39d74d11d1",
   "metadata": {
    "tags": []
   },
   "outputs": [
    {
     "name": "stdout",
     "output_type": "stream",
     "text": [
      "Shape: (11933, 4)\n",
      "\n",
      "Info:\n",
      "<class 'pandas.core.frame.DataFrame'>\n",
      "RangeIndex: 11933 entries, 0 to 11932\n",
      "Data columns (total 4 columns):\n",
      " #   Column    Non-Null Count  Dtype  \n",
      "---  ------    --------------  -----  \n",
      " 0   SEQN      11933 non-null  float64\n",
      " 1   RIAGENDR  11933 non-null  float64\n",
      " 2   RIDAGEYR  11933 non-null  float64\n",
      " 3   RIDRETH1  11933 non-null  float64\n",
      "dtypes: float64(4)\n",
      "memory usage: 373.0 KB\n",
      "\n",
      "Preview:\n"
     ]
    },
    {
     "data": {
      "text/html": [
       "<div>\n",
       "<style scoped>\n",
       "    .dataframe tbody tr th:only-of-type {\n",
       "        vertical-align: middle;\n",
       "    }\n",
       "\n",
       "    .dataframe tbody tr th {\n",
       "        vertical-align: top;\n",
       "    }\n",
       "\n",
       "    .dataframe thead th {\n",
       "        text-align: right;\n",
       "    }\n",
       "</style>\n",
       "<table border=\"1\" class=\"dataframe\">\n",
       "  <thead>\n",
       "    <tr style=\"text-align: right;\">\n",
       "      <th></th>\n",
       "      <th>SEQN</th>\n",
       "      <th>RIAGENDR</th>\n",
       "      <th>RIDAGEYR</th>\n",
       "      <th>RIDRETH1</th>\n",
       "    </tr>\n",
       "  </thead>\n",
       "  <tbody>\n",
       "    <tr>\n",
       "      <th>0</th>\n",
       "      <td>130378.0</td>\n",
       "      <td>1.0</td>\n",
       "      <td>43.0</td>\n",
       "      <td>5.0</td>\n",
       "    </tr>\n",
       "    <tr>\n",
       "      <th>1</th>\n",
       "      <td>130379.0</td>\n",
       "      <td>1.0</td>\n",
       "      <td>66.0</td>\n",
       "      <td>3.0</td>\n",
       "    </tr>\n",
       "    <tr>\n",
       "      <th>2</th>\n",
       "      <td>130380.0</td>\n",
       "      <td>2.0</td>\n",
       "      <td>44.0</td>\n",
       "      <td>2.0</td>\n",
       "    </tr>\n",
       "    <tr>\n",
       "      <th>3</th>\n",
       "      <td>130381.0</td>\n",
       "      <td>2.0</td>\n",
       "      <td>5.0</td>\n",
       "      <td>5.0</td>\n",
       "    </tr>\n",
       "    <tr>\n",
       "      <th>4</th>\n",
       "      <td>130382.0</td>\n",
       "      <td>1.0</td>\n",
       "      <td>2.0</td>\n",
       "      <td>3.0</td>\n",
       "    </tr>\n",
       "  </tbody>\n",
       "</table>\n",
       "</div>"
      ],
      "text/plain": [
       "       SEQN  RIAGENDR  RIDAGEYR  RIDRETH1\n",
       "0  130378.0       1.0      43.0       5.0\n",
       "1  130379.0       1.0      66.0       3.0\n",
       "2  130380.0       2.0      44.0       2.0\n",
       "3  130381.0       2.0       5.0       5.0\n",
       "4  130382.0       1.0       2.0       3.0"
      ]
     },
     "execution_count": 4,
     "metadata": {},
     "output_type": "execute_result"
    }
   ],
   "source": [
    "print(\"Shape:\", demo.shape)\n",
    "print(\"\\nInfo:\")\n",
    "demo.info()\n",
    "print(\"\\nPreview:\")\n",
    "demo.head()"
   ]
  },
  {
   "cell_type": "markdown",
   "id": "0f540112",
   "metadata": {},
   "source": [
    "Before we merge, we standardize variable names across all our component tables so that downstream code is clear and uniform.\n",
    "\n",
    "We rename:\n",
    "- `RIDAGEYR` → `age`  \n",
    "- `RIAGENDR` → `gender`  \n",
    "- `RIDRETH1` → `ethnicity`\n"
   ]
  },
  {
   "cell_type": "code",
   "execution_count": 5,
   "id": "25ff1155",
   "metadata": {},
   "outputs": [
    {
     "name": "stdout",
     "output_type": "stream",
     "text": [
      "Demo columns: ['SEQN', 'gender', 'age', 'ethnicity']\n"
     ]
    }
   ],
   "source": [
    "demo = demo.rename(columns={\n",
    "    'RIDAGEYR':  'age',\n",
    "    'RIAGENDR':  'gender',\n",
    "    'RIDRETH1':  'ethnicity'\n",
    "})\n",
    "print(\"Demo columns:\", demo.columns.tolist())"
   ]
  },
  {
   "cell_type": "markdown",
   "id": "a4add17c",
   "metadata": {},
   "source": [
    "Then we perform the data type conversions for demographics variables, optimizing both storage and analytical operations by:\n",
    "\n",
    "1. Transforming `age` from its original floating-point representation to integer\n",
    "   - Removes unnecessary decimal places (since age in years is discrete)\n",
    "   - Speeds up calculations by using a more appropriate data type\n",
    "\n",
    "2. Using pandas' `category` data type for `ethnicity` and `gender`\n",
    "\n",
    "3. Using `.cat.codes` to return zero-based integer category codes, adding 1 to codes maintains consistency with original NHANES coding standards"
   ]
  },
  {
   "cell_type": "code",
   "execution_count": 6,
   "id": "00a4be93",
   "metadata": {},
   "outputs": [
    {
     "data": {
      "text/html": [
       "<div>\n",
       "<style scoped>\n",
       "    .dataframe tbody tr th:only-of-type {\n",
       "        vertical-align: middle;\n",
       "    }\n",
       "\n",
       "    .dataframe tbody tr th {\n",
       "        vertical-align: top;\n",
       "    }\n",
       "\n",
       "    .dataframe thead th {\n",
       "        text-align: right;\n",
       "    }\n",
       "</style>\n",
       "<table border=\"1\" class=\"dataframe\">\n",
       "  <thead>\n",
       "    <tr style=\"text-align: right;\">\n",
       "      <th></th>\n",
       "      <th>SEQN</th>\n",
       "      <th>gender</th>\n",
       "      <th>age</th>\n",
       "      <th>ethnicity</th>\n",
       "    </tr>\n",
       "  </thead>\n",
       "  <tbody>\n",
       "    <tr>\n",
       "      <th>0</th>\n",
       "      <td>130378.0</td>\n",
       "      <td>1</td>\n",
       "      <td>43</td>\n",
       "      <td>5</td>\n",
       "    </tr>\n",
       "    <tr>\n",
       "      <th>1</th>\n",
       "      <td>130379.0</td>\n",
       "      <td>1</td>\n",
       "      <td>66</td>\n",
       "      <td>3</td>\n",
       "    </tr>\n",
       "    <tr>\n",
       "      <th>2</th>\n",
       "      <td>130380.0</td>\n",
       "      <td>2</td>\n",
       "      <td>44</td>\n",
       "      <td>2</td>\n",
       "    </tr>\n",
       "    <tr>\n",
       "      <th>3</th>\n",
       "      <td>130381.0</td>\n",
       "      <td>2</td>\n",
       "      <td>5</td>\n",
       "      <td>5</td>\n",
       "    </tr>\n",
       "    <tr>\n",
       "      <th>4</th>\n",
       "      <td>130382.0</td>\n",
       "      <td>1</td>\n",
       "      <td>2</td>\n",
       "      <td>3</td>\n",
       "    </tr>\n",
       "    <tr>\n",
       "      <th>...</th>\n",
       "      <td>...</td>\n",
       "      <td>...</td>\n",
       "      <td>...</td>\n",
       "      <td>...</td>\n",
       "    </tr>\n",
       "    <tr>\n",
       "      <th>11928</th>\n",
       "      <td>142306.0</td>\n",
       "      <td>1</td>\n",
       "      <td>9</td>\n",
       "      <td>2</td>\n",
       "    </tr>\n",
       "    <tr>\n",
       "      <th>11929</th>\n",
       "      <td>142307.0</td>\n",
       "      <td>2</td>\n",
       "      <td>49</td>\n",
       "      <td>4</td>\n",
       "    </tr>\n",
       "    <tr>\n",
       "      <th>11930</th>\n",
       "      <td>142308.0</td>\n",
       "      <td>1</td>\n",
       "      <td>50</td>\n",
       "      <td>2</td>\n",
       "    </tr>\n",
       "    <tr>\n",
       "      <th>11931</th>\n",
       "      <td>142309.0</td>\n",
       "      <td>1</td>\n",
       "      <td>40</td>\n",
       "      <td>2</td>\n",
       "    </tr>\n",
       "    <tr>\n",
       "      <th>11932</th>\n",
       "      <td>142310.0</td>\n",
       "      <td>2</td>\n",
       "      <td>80</td>\n",
       "      <td>3</td>\n",
       "    </tr>\n",
       "  </tbody>\n",
       "</table>\n",
       "<p>11933 rows × 4 columns</p>\n",
       "</div>"
      ],
      "text/plain": [
       "           SEQN  gender  age  ethnicity\n",
       "0      130378.0       1   43          5\n",
       "1      130379.0       1   66          3\n",
       "2      130380.0       2   44          2\n",
       "3      130381.0       2    5          5\n",
       "4      130382.0       1    2          3\n",
       "...         ...     ...  ...        ...\n",
       "11928  142306.0       1    9          2\n",
       "11929  142307.0       2   49          4\n",
       "11930  142308.0       1   50          2\n",
       "11931  142309.0       1   40          2\n",
       "11932  142310.0       2   80          3\n",
       "\n",
       "[11933 rows x 4 columns]"
      ]
     },
     "metadata": {},
     "output_type": "display_data"
    }
   ],
   "source": [
    "demo['age'] = demo['age'].astype(int)\n",
    "demo['ethnicity'] = demo['ethnicity'].astype('category').cat.codes + 1\n",
    "demo['gender'] = demo['gender'].astype('category').cat.codes + 1\n",
    "\n",
    "display(demo)"
   ]
  },
  {
   "cell_type": "markdown",
   "id": "62289091",
   "metadata": {},
   "source": [
    "For better readability, we should convert the numeric demographic codes into meaningful human-readable categories. This step requires a two-step process to make the demographic data more interpretable while maintaining efficient storage:\n",
    "\n",
    "1. Creating `eth_map` for the standard NHANES ethnicity/race classifications, connecting numeric codes (1-5) to their descriptive labels and `gender_map` for the binary gender mapping from numeric codes to text labels\n",
    "\n",
    "2. Using the `.map()` method transforms each numeric code to its corresponding text label\n",
    "\n",
    "The mapping follows the official NHANES documentation standards for demographic variable coding, ensuring consistency with CDC data definitions while making the data more accessible for downstream analysis."
   ]
  },
  {
   "cell_type": "code",
   "execution_count": 7,
   "id": "f3aa1828",
   "metadata": {},
   "outputs": [],
   "source": [
    "eth_map = {\n",
    "    1: 'Mexican American',\n",
    "    2: 'Other Hispanic',\n",
    "    3: 'Non-Hispanic White',\n",
    "    4: 'Non-Hispanic Black',\n",
    "    5: 'Other Race - Including Multi-Racial'\n",
    "}\n",
    "\n",
    "gender_map = {\n",
    "    1: 'Male',\n",
    "    2: 'Female',\n",
    "}\n",
    "\n",
    "\n",
    "demo['ethnicity'] = demo['ethnicity'].map(eth_map)\n",
    "demo['ethnicity'] = demo['ethnicity'].astype('category')\n",
    "\n",
    "demo['gender'] = demo['gender'].map(gender_map)\n",
    "demo['gender'] = demo['gender'].astype('category')"
   ]
  },
  {
   "cell_type": "markdown",
   "id": "5564bad1",
   "metadata": {},
   "source": [
    "### B. Body Measures\n",
    "Now we will load the body measures data. This is a large file, so we will only load the columns we need. The columns we need are:\n",
    "\n",
    "- **SEQN**: Respondent sequence number\n",
    "- **BMXBMI**: Body Mass Index (BMI) of the respondent\n",
    "\n",
    "BMI is a key anthropometric measure calculated as weight(kg)/height(m)² that serves as an important indicator for weight status classification. This measurement is particularly relevant for our health analysis as:\n",
    "\n",
    "- It's strongly associated with diabetes risk and other metabolic conditions\n",
    "- It allows us to categorize participants into clinically meaningful weight groups (underweight, normal, overweight, obese)\n",
    "- It's a standardized measure that accounts for both height and weight\n",
    "\n",
    "The BMX component dataset contains numerous physical measurements, but we extract only BMI to minimize memory usage while obtaining this critical health predictor."
   ]
  },
  {
   "cell_type": "code",
   "execution_count": 8,
   "id": "dffd9e90-ad92-47fb-ab82-29ddbb98d9ad",
   "metadata": {
    "tags": []
   },
   "outputs": [
    {
     "name": "stdout",
     "output_type": "stream",
     "text": [
      "BMX: loaded 8860 rows, 2 columns\n"
     ]
    }
   ],
   "source": [
    "bmx_columns = [\"SEQN\", \"BMXBMI\"]\n",
    "bmx = pd.read_sas(files[\"BMX\"], format=\"xport\")[bmx_columns]\n",
    "print(f\"BMX: loaded {len(bmx)} rows, {len(bmx.columns)} columns\")"
   ]
  },
  {
   "cell_type": "markdown",
   "id": "e981b985",
   "metadata": {},
   "source": [
    "Similar to the demographics dataset, we use `pd.read_sas()` to read the body measures data directly from the CDC website. We pass the column list as an indexer `[bmx_columns]` to efficiently load only the subset of variables needed."
   ]
  },
  {
   "cell_type": "code",
   "execution_count": 9,
   "id": "dc43318e-8d94-4d30-b37b-bc5d491af884",
   "metadata": {
    "tags": []
   },
   "outputs": [
    {
     "name": "stdout",
     "output_type": "stream",
     "text": [
      "Shape: (8860, 2)\n",
      "\n",
      "Info:\n",
      "<class 'pandas.core.frame.DataFrame'>\n",
      "RangeIndex: 8860 entries, 0 to 8859\n",
      "Data columns (total 2 columns):\n",
      " #   Column  Non-Null Count  Dtype  \n",
      "---  ------  --------------  -----  \n",
      " 0   SEQN    8860 non-null   float64\n",
      " 1   BMXBMI  8471 non-null   float64\n",
      "dtypes: float64(2)\n",
      "memory usage: 138.6 KB\n",
      "\n",
      "Preview:\n"
     ]
    },
    {
     "data": {
      "text/html": [
       "<div>\n",
       "<style scoped>\n",
       "    .dataframe tbody tr th:only-of-type {\n",
       "        vertical-align: middle;\n",
       "    }\n",
       "\n",
       "    .dataframe tbody tr th {\n",
       "        vertical-align: top;\n",
       "    }\n",
       "\n",
       "    .dataframe thead th {\n",
       "        text-align: right;\n",
       "    }\n",
       "</style>\n",
       "<table border=\"1\" class=\"dataframe\">\n",
       "  <thead>\n",
       "    <tr style=\"text-align: right;\">\n",
       "      <th></th>\n",
       "      <th>SEQN</th>\n",
       "      <th>BMXBMI</th>\n",
       "    </tr>\n",
       "  </thead>\n",
       "  <tbody>\n",
       "    <tr>\n",
       "      <th>0</th>\n",
       "      <td>130378.0</td>\n",
       "      <td>27.0</td>\n",
       "    </tr>\n",
       "    <tr>\n",
       "      <th>1</th>\n",
       "      <td>130379.0</td>\n",
       "      <td>33.5</td>\n",
       "    </tr>\n",
       "    <tr>\n",
       "      <th>2</th>\n",
       "      <td>130380.0</td>\n",
       "      <td>29.7</td>\n",
       "    </tr>\n",
       "    <tr>\n",
       "      <th>3</th>\n",
       "      <td>130381.0</td>\n",
       "      <td>23.8</td>\n",
       "    </tr>\n",
       "    <tr>\n",
       "      <th>4</th>\n",
       "      <td>130382.0</td>\n",
       "      <td>NaN</td>\n",
       "    </tr>\n",
       "  </tbody>\n",
       "</table>\n",
       "</div>"
      ],
      "text/plain": [
       "       SEQN  BMXBMI\n",
       "0  130378.0    27.0\n",
       "1  130379.0    33.5\n",
       "2  130380.0    29.7\n",
       "3  130381.0    23.8\n",
       "4  130382.0     NaN"
      ]
     },
     "execution_count": 9,
     "metadata": {},
     "output_type": "execute_result"
    }
   ],
   "source": [
    "print(\"Shape:\", bmx.shape)\n",
    "print(\"\\nInfo:\")\n",
    "bmx.info()\n",
    "print(\"\\nPreview:\")\n",
    "bmx.head()"
   ]
  },
  {
   "cell_type": "markdown",
   "id": "6e2f9f13",
   "metadata": {},
   "source": [
    "For better readability, we should convert the numeric demographic codes into meaningful human-readable categories.\n",
    "\n",
    "We rename:\n",
    "- `BMXBMI` → `bmi`"
   ]
  },
  {
   "cell_type": "code",
   "execution_count": 10,
   "id": "ecb33cd2",
   "metadata": {},
   "outputs": [
    {
     "name": "stdout",
     "output_type": "stream",
     "text": [
      "BMX columns: ['SEQN', 'bmi']\n"
     ]
    }
   ],
   "source": [
    "bmx = bmx.rename(columns={\n",
    "    'BMXBMI': 'bmi'\n",
    "})\n",
    "print(\"BMX columns:\", bmx.columns.tolist())"
   ]
  },
  {
   "cell_type": "markdown",
   "id": "f7bf7a1c",
   "metadata": {},
   "source": [
    "### C. Glycohemoglobin\n",
    "Now we load glycohemoglobin (HbA1c) measurements - the clinical gold standard for diabetes diagnosis and monitoring. This blood test reflects average blood glucose levels over the previous 2-3 months and is critical for our health status assessment:\n",
    "\n",
    "- **SEQN**: Respondent sequence number (primary key for linkage)\n",
    "- **LBXGH**: Glycohemoglobin percentage (HbA1c level)\n",
    "\n",
    "HbA1c is especially valuable for our analysis because:\n",
    "\n",
    "- It provides a precise, standardized measure of glycemic control\n",
    "- Values ≥6.5% are diagnostic for diabetes according to clinical guidelines\n",
    "- Values between 5.7% and 6.4% indicate prediabetes\n",
    "- Unlike fasting glucose tests, it reflects longer-term blood sugar management\n",
    "\n",
    "As with previous datasets, we efficiently extract only the needed variables from the much larger NHANES laboratory component file."
   ]
  },
  {
   "cell_type": "code",
   "execution_count": 11,
   "id": "0e137fa7-2429-48c5-92f1-1c72f010a968",
   "metadata": {
    "tags": []
   },
   "outputs": [
    {
     "name": "stdout",
     "output_type": "stream",
     "text": [
      "GHB: loaded 7199 rows, 2 columns\n"
     ]
    }
   ],
   "source": [
    "ghb_columns = [\"SEQN\", \"LBXGH\"]\n",
    "ghb = pd.read_sas(files[\"GHB\"], format=\"xport\")[ghb_columns]\n",
    "print(f\"GHB: loaded {len(ghb)} rows, {len(ghb.columns)} columns\")\n"
   ]
  },
  {
   "cell_type": "markdown",
   "id": "8438ab27",
   "metadata": {},
   "source": [
    "Similar to the demographics dataset, we observe the shape of the loaded dataset, confirming successful data retrieval by displaying the dimensions of the loaded dataset."
   ]
  },
  {
   "cell_type": "code",
   "execution_count": 12,
   "id": "4a384394-789c-4d2d-89ec-56d09a526563",
   "metadata": {
    "tags": []
   },
   "outputs": [
    {
     "name": "stdout",
     "output_type": "stream",
     "text": [
      "Shape: (7199, 2)\n",
      "\n",
      "Info:\n",
      "<class 'pandas.core.frame.DataFrame'>\n",
      "RangeIndex: 7199 entries, 0 to 7198\n",
      "Data columns (total 2 columns):\n",
      " #   Column  Non-Null Count  Dtype  \n",
      "---  ------  --------------  -----  \n",
      " 0   SEQN    7199 non-null   float64\n",
      " 1   LBXGH   6715 non-null   float64\n",
      "dtypes: float64(2)\n",
      "memory usage: 112.6 KB\n",
      "\n",
      "Preview:\n"
     ]
    },
    {
     "data": {
      "text/html": [
       "<div>\n",
       "<style scoped>\n",
       "    .dataframe tbody tr th:only-of-type {\n",
       "        vertical-align: middle;\n",
       "    }\n",
       "\n",
       "    .dataframe tbody tr th {\n",
       "        vertical-align: top;\n",
       "    }\n",
       "\n",
       "    .dataframe thead th {\n",
       "        text-align: right;\n",
       "    }\n",
       "</style>\n",
       "<table border=\"1\" class=\"dataframe\">\n",
       "  <thead>\n",
       "    <tr style=\"text-align: right;\">\n",
       "      <th></th>\n",
       "      <th>SEQN</th>\n",
       "      <th>LBXGH</th>\n",
       "    </tr>\n",
       "  </thead>\n",
       "  <tbody>\n",
       "    <tr>\n",
       "      <th>0</th>\n",
       "      <td>130378.0</td>\n",
       "      <td>5.6</td>\n",
       "    </tr>\n",
       "    <tr>\n",
       "      <th>1</th>\n",
       "      <td>130379.0</td>\n",
       "      <td>5.6</td>\n",
       "    </tr>\n",
       "    <tr>\n",
       "      <th>2</th>\n",
       "      <td>130380.0</td>\n",
       "      <td>6.2</td>\n",
       "    </tr>\n",
       "    <tr>\n",
       "      <th>3</th>\n",
       "      <td>130386.0</td>\n",
       "      <td>5.1</td>\n",
       "    </tr>\n",
       "    <tr>\n",
       "      <th>4</th>\n",
       "      <td>130387.0</td>\n",
       "      <td>5.9</td>\n",
       "    </tr>\n",
       "  </tbody>\n",
       "</table>\n",
       "</div>"
      ],
      "text/plain": [
       "       SEQN  LBXGH\n",
       "0  130378.0    5.6\n",
       "1  130379.0    5.6\n",
       "2  130380.0    6.2\n",
       "3  130386.0    5.1\n",
       "4  130387.0    5.9"
      ]
     },
     "execution_count": 12,
     "metadata": {},
     "output_type": "execute_result"
    }
   ],
   "source": [
    "print(\"Shape:\", ghb.shape)\n",
    "print(\"\\nInfo:\")\n",
    "ghb.info()\n",
    "print(\"\\nPreview:\")\n",
    "ghb.head()"
   ]
  },
  {
   "cell_type": "markdown",
   "id": "2ddc1120",
   "metadata": {},
   "source": [
    "We rename the glycohemoglobin variable to a more descriptive name that reflects its clinical significance.\n",
    "\n",
    "We rename:\n",
    "- `SEQN` → `SEQN` (keep as is)\n",
    "- `LBXGH` → `glycohemoglobin`"
   ]
  },
  {
   "cell_type": "code",
   "execution_count": 13,
   "id": "4c55a2e0",
   "metadata": {},
   "outputs": [
    {
     "name": "stdout",
     "output_type": "stream",
     "text": [
      "GHB columns: ['SEQN', 'glycohemoglobin']\n"
     ]
    }
   ],
   "source": [
    "ghb = ghb.rename(columns={\n",
    "    'LBXGH': 'glycohemoglobin'\n",
    "})\n",
    "print(\"GHB columns:\", ghb.columns.tolist())"
   ]
  },
  {
   "cell_type": "markdown",
   "id": "b475f35a",
   "metadata": {},
   "source": [
    "### D. Physical Activity\n",
    "\n",
    "We now efficiently extract key physical activity metrics from the NHANES Physical Activity Questionnaire (PAQ) component. We target eight essential variables that capture both moderate and vigorous activity patterns along with sedentary behavior:\n",
    "\n",
    "- **SEQN**: Unique participant identifier enabling data linkage\n",
    "- **PAD790Q/PAD790U**: Frequency and time unit of moderate activity (e.g., 3 times per week)\n",
    "- **PAD800**: Average duration (minutes) of each moderate activity session\n",
    "- **PAD810Q/PAD810U**: Frequency and time unit of vigorous activity\n",
    "- **PAD820**: Average duration (minutes) of each vigorous activity session\n",
    "- **PAD680**: Daily time spent in sedentary activities (minutes)\n",
    "\n",
    "The physical activity variables are particularly valuable for health assessment because:\n",
    "\n",
    "2. **Time dimensionality**: Records both frequency (how often) and duration (how long)\n",
    "3. **Sedentary behavior**: Tracks inactivity, which has independent health effects beyond exercise\n",
    "4. **Time unit flexibility**: Accommodates various reporting patterns (daily, weekly, monthly)\n",
    "\n",
    "Like previous dataset imports, we use `pd.read_sas()` with column filtering to obtain all variables needed for comprehensive physical activity assessment. The selected variables will be processed into standardized weekly activity metrics that are essential predictors for diabetes risk modeling.\n"
   ]
  },
  {
   "cell_type": "code",
   "execution_count": 14,
   "id": "a05b47a8-cadd-4356-a931-362ad784d0b9",
   "metadata": {
    "tags": []
   },
   "outputs": [
    {
     "name": "stdout",
     "output_type": "stream",
     "text": [
      "Diet: loaded 8153 rows, 8 columns\n"
     ]
    }
   ],
   "source": [
    "paq_columns = [\"SEQN\", \"PAD790Q\", \"PAD790U\", \"PAD800\", \"PAD810Q\", \"PAD810U\", \"PAD820\", \"PAD680\"]\n",
    "paq = pd.read_sas(files[\"PAQ\"], format=\"xport\")[paq_columns]\n",
    "print(f\"Diet: loaded {len(paq)} rows, {len(paq.columns)} columns\")\n"
   ]
  },
  {
   "cell_type": "markdown",
   "id": "36bca066",
   "metadata": {},
   "source": [
    "We then observe the shape of the loaded dataset, confirming successful data retrieval by displaying the dimensions of the loaded dataset."
   ]
  },
  {
   "cell_type": "code",
   "execution_count": 15,
   "id": "cf51a2ed-3003-41af-8510-bad09c1303bb",
   "metadata": {
    "tags": []
   },
   "outputs": [
    {
     "name": "stdout",
     "output_type": "stream",
     "text": [
      "Shape: (8153, 8)\n",
      "\n",
      "Info:\n",
      "<class 'pandas.core.frame.DataFrame'>\n",
      "RangeIndex: 8153 entries, 0 to 8152\n",
      "Data columns (total 8 columns):\n",
      " #   Column   Non-Null Count  Dtype  \n",
      "---  ------   --------------  -----  \n",
      " 0   SEQN     8153 non-null   float64\n",
      " 1   PAD790Q  8135 non-null   float64\n",
      " 2   PAD790U  8153 non-null   object \n",
      " 3   PAD800   6390 non-null   float64\n",
      " 4   PAD810Q  8139 non-null   float64\n",
      " 5   PAD810U  8153 non-null   object \n",
      " 6   PAD820   3687 non-null   float64\n",
      " 7   PAD680   8138 non-null   float64\n",
      "dtypes: float64(6), object(2)\n",
      "memory usage: 509.7+ KB\n",
      "\n",
      "Missing counts:\n",
      "SEQN          0\n",
      "PAD790Q      18\n",
      "PAD790U       0\n",
      "PAD800     1763\n",
      "PAD810Q      14\n",
      "PAD810U       0\n",
      "PAD820     4466\n",
      "PAD680       15\n",
      "dtype: int64\n",
      "\n",
      "Preview:\n"
     ]
    },
    {
     "data": {
      "text/html": [
       "<div>\n",
       "<style scoped>\n",
       "    .dataframe tbody tr th:only-of-type {\n",
       "        vertical-align: middle;\n",
       "    }\n",
       "\n",
       "    .dataframe tbody tr th {\n",
       "        vertical-align: top;\n",
       "    }\n",
       "\n",
       "    .dataframe thead th {\n",
       "        text-align: right;\n",
       "    }\n",
       "</style>\n",
       "<table border=\"1\" class=\"dataframe\">\n",
       "  <thead>\n",
       "    <tr style=\"text-align: right;\">\n",
       "      <th></th>\n",
       "      <th>SEQN</th>\n",
       "      <th>PAD790Q</th>\n",
       "      <th>PAD790U</th>\n",
       "      <th>PAD800</th>\n",
       "      <th>PAD810Q</th>\n",
       "      <th>PAD810U</th>\n",
       "      <th>PAD820</th>\n",
       "      <th>PAD680</th>\n",
       "    </tr>\n",
       "  </thead>\n",
       "  <tbody>\n",
       "    <tr>\n",
       "      <th>0</th>\n",
       "      <td>130378.0</td>\n",
       "      <td>3.000000e+00</td>\n",
       "      <td>b'W'</td>\n",
       "      <td>45.0</td>\n",
       "      <td>3.000000e+00</td>\n",
       "      <td>b'W'</td>\n",
       "      <td>45.0</td>\n",
       "      <td>360.0</td>\n",
       "    </tr>\n",
       "    <tr>\n",
       "      <th>1</th>\n",
       "      <td>130379.0</td>\n",
       "      <td>4.000000e+00</td>\n",
       "      <td>b'W'</td>\n",
       "      <td>45.0</td>\n",
       "      <td>3.000000e+00</td>\n",
       "      <td>b'W'</td>\n",
       "      <td>45.0</td>\n",
       "      <td>480.0</td>\n",
       "    </tr>\n",
       "    <tr>\n",
       "      <th>2</th>\n",
       "      <td>130380.0</td>\n",
       "      <td>1.000000e+00</td>\n",
       "      <td>b'W'</td>\n",
       "      <td>20.0</td>\n",
       "      <td>5.397605e-79</td>\n",
       "      <td>b''</td>\n",
       "      <td>NaN</td>\n",
       "      <td>240.0</td>\n",
       "    </tr>\n",
       "    <tr>\n",
       "      <th>3</th>\n",
       "      <td>130384.0</td>\n",
       "      <td>5.397605e-79</td>\n",
       "      <td>b''</td>\n",
       "      <td>NaN</td>\n",
       "      <td>5.397605e-79</td>\n",
       "      <td>b''</td>\n",
       "      <td>NaN</td>\n",
       "      <td>60.0</td>\n",
       "    </tr>\n",
       "    <tr>\n",
       "      <th>4</th>\n",
       "      <td>130385.0</td>\n",
       "      <td>1.000000e+00</td>\n",
       "      <td>b'D'</td>\n",
       "      <td>90.0</td>\n",
       "      <td>1.000000e+00</td>\n",
       "      <td>b'W'</td>\n",
       "      <td>60.0</td>\n",
       "      <td>180.0</td>\n",
       "    </tr>\n",
       "  </tbody>\n",
       "</table>\n",
       "</div>"
      ],
      "text/plain": [
       "       SEQN       PAD790Q PAD790U  PAD800       PAD810Q PAD810U  PAD820  \\\n",
       "0  130378.0  3.000000e+00    b'W'    45.0  3.000000e+00    b'W'    45.0   \n",
       "1  130379.0  4.000000e+00    b'W'    45.0  3.000000e+00    b'W'    45.0   \n",
       "2  130380.0  1.000000e+00    b'W'    20.0  5.397605e-79     b''     NaN   \n",
       "3  130384.0  5.397605e-79     b''     NaN  5.397605e-79     b''     NaN   \n",
       "4  130385.0  1.000000e+00    b'D'    90.0  1.000000e+00    b'W'    60.0   \n",
       "\n",
       "   PAD680  \n",
       "0   360.0  \n",
       "1   480.0  \n",
       "2   240.0  \n",
       "3    60.0  \n",
       "4   180.0  "
      ]
     },
     "execution_count": 15,
     "metadata": {},
     "output_type": "execute_result"
    }
   ],
   "source": [
    "print(\"Shape:\", paq.shape)\n",
    "print(\"\\nInfo:\")\n",
    "paq.info()\n",
    "print(\"\\nMissing counts:\")\n",
    "print(paq.isna().sum())\n",
    "print(\"\\nPreview:\")\n",
    "paq.head()"
   ]
  },
  {
   "cell_type": "markdown",
   "id": "1d0435a8",
   "metadata": {},
   "source": [
    "We can see the raw data of the data set needs cleaning and preprocessing, especially for the numerical and unit variables. We rename the physical activity variables to more descriptive names that reflect their content and purpose."
   ]
  },
  {
   "cell_type": "code",
   "execution_count": 16,
   "id": "4a78bf3a",
   "metadata": {},
   "outputs": [
    {
     "name": "stdout",
     "output_type": "stream",
     "text": [
      "PAQ columns: ['SEQN', 'mode_freq', 'mode_unit', 'mode_min', 'vig_freq', 'vig_unit', 'vig_min', 'sed_min']\n"
     ]
    }
   ],
   "source": [
    "paq = paq.rename(columns={\n",
    "    'PAD790Q': 'mode_freq',\n",
    "    'PAD790U': 'mode_unit',\n",
    "    'PAD800':  'mode_min',\n",
    "    'PAD810Q': 'vig_freq',\n",
    "    'PAD810U': 'vig_unit',\n",
    "    'PAD820':  'vig_min',\n",
    "    'PAD680':  'sed_min'\n",
    "})\n",
    "print(\"PAQ columns:\", paq.columns.tolist())"
   ]
  },
  {
   "cell_type": "markdown",
   "id": "27029063",
   "metadata": {},
   "source": [
    "We then identify and properly handle missing value codes in the physical activity dataset. In NHANES studies, missing values are often encoded with special numeric codes rather than actual nulls, which can severely distort statistical analyses if not properly addressed.\n",
    "\n",
    "We performs the following operations\n",
    "\n",
    "1. Identifies common NHANES missing value codes (7777 and 9999) that typically represent:\n",
    "   - 7777: Refused to answer\n",
    "   - 9999: Don't know/Cannot determine\n",
    "\n",
    "2. Systematically converts these special codes to proper `np.nan` values across all physical activity numeric columns.\n"
   ]
  },
  {
   "cell_type": "code",
   "execution_count": 17,
   "id": "20d24c9e",
   "metadata": {},
   "outputs": [
    {
     "name": "stdout",
     "output_type": "stream",
     "text": [
      "After recode, missing counts:\n",
      "SEQN            0\n",
      "mode_freq      67\n",
      "mode_unit       0\n",
      "mode_min     1782\n",
      "vig_freq       54\n",
      "vig_unit        0\n",
      "vig_min      4480\n",
      "sed_min        88\n",
      "dtype: int64\n"
     ]
    }
   ],
   "source": [
    "miss_codes = [7777, 9999]\n",
    "for col in ['mode_freq','mode_min','vig_freq','vig_min','sed_min']:\n",
    "    paq[col] = paq[col].replace(miss_codes, np.nan)\n",
    "\n",
    "print(\"After recode, missing counts:\")\n",
    "print(paq.isna().sum())"
   ]
  },
  {
   "cell_type": "markdown",
   "id": "b8d10167",
   "metadata": {},
   "source": [
    "We must handle data transformation for preparing the time unit variables in the physical activity dataset. In this step, we perform some important following operations:\n",
    "\n",
    "1. Converting the SAS-encoded byte strings to human-readable UTF-8 text using `.str.decode('utf-8')` because time units initially appear as byte literals (e.g., `b'D'`, `b'W'`) rather than plain text characters\n",
    "\n",
    "2. Transforming the string columns to pandas' efficient `category` data type because these columns contain a small, fixed set of values (D=daily, W=weekly, M=monthly, Y=yearly)\n",
    "\n",
    "The time unit fields are critical contextual information for calculating standardized activity metrics, as they determine how frequency values should be interpreted (e.g., \"3 times per week\" vs \"3 times per day\"). This transformation ensures that we can correctly interpret and standardize physical activity measurements across all participants, regardless of their reporting timeframe."
   ]
  },
  {
   "cell_type": "code",
   "execution_count": 18,
   "id": "d0bbcaec",
   "metadata": {},
   "outputs": [],
   "source": [
    "paq['mode_unit'] = paq['mode_unit'].str.decode('utf-8')\n",
    "paq['vig_unit'] = paq['vig_unit'].str.decode('utf-8')\n",
    "paq['mode_unit'] = paq['mode_unit'].astype('category')\n",
    "paq['vig_unit'] = paq['vig_unit'].astype('category')\n"
   ]
  },
  {
   "cell_type": "markdown",
   "id": "22d4add0",
   "metadata": {},
   "source": [
    "Next we have to perform a vital data validation on the physical activity time units. After the previous step converted byte strings to text, this validation ensures only standard time period codes are preserved:\n",
    "\n",
    "1. **Defines a controlled vocabulary** of valid time units:\n",
    "   - `'D'` - Daily measurements\n",
    "   - `'W'` - Weekly measurements  \n",
    "   - `'M'` - Monthly measurements\n",
    "   - `'Y'` - Yearly measurements\n",
    "\n",
    "2. **Applies conditional replacement** using the `.where()` method, which:\n",
    "   - Preserves values that appear in the valid_units list\n",
    "   - Replaces any other values with pandas' `pd.NA` marker\n",
    "   - Creates explicit missing values rather than leaving invalid data\n",
    "\n",
    "This validation step is essential because:\n",
    "\n",
    "1. **Prevents calculation errors** - Downstream code that converts frequencies to a standard weekly basis (using multipliers like 7 for daily, 1/4.345 for monthly) would produce meaningless results with invalid unit codes\n",
    "\n",
    "2. **Improves data quality** - By handling unexpected or corrupted unit codes consistently\n",
    "\n",
    "3. **Makes missingness explicit** - Distinguishes between true missing values and invalid entries\n",
    "\n",
    "4. **Maintains data integrity** - Ensures that only standardized, interpretable time units are used in subsequent analyses\n",
    "\n",
    "The properly validated unit codes will be essential for calculating standardized activity metrics in the later feature engineering stages."
   ]
  },
  {
   "cell_type": "code",
   "execution_count": 19,
   "id": "4be286db",
   "metadata": {},
   "outputs": [],
   "source": [
    "valid_units = ['D','W','M','Y']\n",
    "\n",
    "paq['mode_unit'] = paq['mode_unit'].where(paq['mode_unit'].isin(valid_units), pd.NA)\n",
    "paq['vig_unit'] = paq['vig_unit'].where(paq['vig_unit'].isin(valid_units), pd.NA)\n"
   ]
  },
  {
   "cell_type": "markdown",
   "id": "8b80aebe",
   "metadata": {},
   "source": [
    "After that, we check the missing value of those columns."
   ]
  },
  {
   "cell_type": "code",
   "execution_count": 20,
   "id": "d226e034",
   "metadata": {},
   "outputs": [
    {
     "name": "stdout",
     "output_type": "stream",
     "text": [
      "After decode, missing counts:\n",
      "SEQN            0\n",
      "mode_freq      67\n",
      "mode_unit    1763\n",
      "mode_min     1782\n",
      "vig_freq       54\n",
      "vig_unit     4467\n",
      "vig_min      4480\n",
      "sed_min        88\n",
      "dtype: int64\n"
     ]
    }
   ],
   "source": [
    "print(\"After decode, missing counts:\")\n",
    "print(paq.isna().sum())"
   ]
  },
  {
   "cell_type": "markdown",
   "id": "56ef1c69",
   "metadata": {},
   "source": [
    "We can see that the missing value of the columns `mode_unit` and `vig_unit` are similar to the documentation of the dataset from the CDC website. Now we check the whole dataset for the missing value. We will extrasct the columns that have more than 30% missing value."
   ]
  },
  {
   "cell_type": "code",
   "execution_count": 21,
   "id": "8a4c5f3a",
   "metadata": {},
   "outputs": [
    {
     "name": "stdout",
     "output_type": "stream",
     "text": [
      "Missing fraction per column:\n",
      " vig_min      0.549491\n",
      "vig_unit     0.547896\n",
      "mode_min     0.218570\n",
      "mode_unit    0.216239\n",
      "sed_min      0.010794\n",
      "mode_freq    0.008218\n",
      "vig_freq     0.006623\n",
      "SEQN         0.000000\n",
      "dtype: float64\n",
      "\n",
      "Columns to drop (>30% missing): ['vig_min', 'vig_unit']\n"
     ]
    }
   ],
   "source": [
    "missing_paq = paq.isna().mean().sort_values(ascending=False)\n",
    "print(\"Missing fraction per column:\\n\", missing_paq)\n",
    "\n",
    "to_drop = missing_paq[missing_paq > 0.30].index.tolist()\n",
    "print(\"\\nColumns to drop (>30% missing):\", to_drop)"
   ]
  },
  {
   "cell_type": "markdown",
   "id": "5037f9df",
   "metadata": {},
   "source": [
    "Then we will drop those columns."
   ]
  },
  {
   "cell_type": "code",
   "execution_count": 22,
   "id": "f4f8422b",
   "metadata": {},
   "outputs": [],
   "source": [
    "paq.drop(columns=to_drop, inplace=True)"
   ]
  },
  {
   "cell_type": "markdown",
   "id": "84a28dcc",
   "metadata": {},
   "source": [
    "Because the `vig_unit` and `vig_min` columns are dropped, we can drop the `vig_freq` column as well."
   ]
  },
  {
   "cell_type": "code",
   "execution_count": 23,
   "id": "e1ec7077",
   "metadata": {},
   "outputs": [],
   "source": [
    "paq.drop(columns=['vig_freq'], inplace=True)"
   ]
  },
  {
   "cell_type": "markdown",
   "id": "c447864e",
   "metadata": {},
   "source": [
    "### E. Income Data Processing\n",
    "\n",
    "This section extracts and processes socioeconomic data from the NHANES Income Questionnaire (INQ_L), focusing on:\n",
    "\n",
    "- **Poverty-to-Income Ratio**: A standardized measure comparing household income to poverty thresholds\n",
    "- **Social Determinants of Health**: Economic factors that influence health outcomes and healthcare access\n",
    "\n",
    "We load only the essential columns:\n",
    "- `SEQN`: Unique participant identifier for cross-dataset linkage  \n",
    "- `INDFMMPC`: Family monthly poverty level index categories, stratified as:\n",
    "\n",
    "| Code | Economic Status | Description |\n",
    "|------|----------------|-------------|\n",
    "| 1    | Low Income     | Monthly poverty level ratio ≤ 1.30 |\n",
    "| 2    | Middle Income  | Monthly poverty level ratio 1.30-1.85 |\n",
    "| 3    | High Income    | Monthly poverty level ratio > 1.85 |\n",
    "\n",
    "This poverty-to-income ratio provides crucial context for analyzing health disparities in diabetes prevalence, as numerous studies have demonstrated that socioeconomic status significantly influences:\n",
    "\n",
    "- Access to healthcare services\n",
    "- Quality of available nutrition\n",
    "- Lifestyle choices (e.g., physical activity, smoking)\n",
    "- Health literacy and awareness\n",
    "\n",
    "Later in our analysis, this categorical variable will be mapped to more descriptive labels and used to examine how economic factors correlate with diabetes risk and management.\n"
   ]
  },
  {
   "cell_type": "code",
   "execution_count": 24,
   "id": "6216f07b",
   "metadata": {},
   "outputs": [
    {
     "name": "stdout",
     "output_type": "stream",
     "text": [
      "Income: loaded 11933 rows, 2 columns\n"
     ]
    }
   ],
   "source": [
    "inq_columns = [\"SEQN\", \"INDFMMPC\"]\n",
    "inq = pd.read_sas(files[\"INQ\"], format=\"xport\")[inq_columns]\n",
    "print(f\"Income: loaded {len(inq)} rows, {len(inq.columns)} columns\")\n"
   ]
  },
  {
   "cell_type": "markdown",
   "id": "87743625",
   "metadata": {},
   "source": [
    "Similar to the previous datasets, we observe the shape of the loaded dataset, confirming successful data retrieval by displaying the dimensions of the loaded dataset."
   ]
  },
  {
   "cell_type": "code",
   "execution_count": 25,
   "id": "350b3863",
   "metadata": {},
   "outputs": [
    {
     "name": "stdout",
     "output_type": "stream",
     "text": [
      "Shape: (11933, 2)\n",
      "\n",
      "Info:\n",
      "<class 'pandas.core.frame.DataFrame'>\n",
      "RangeIndex: 11933 entries, 0 to 11932\n",
      "Data columns (total 2 columns):\n",
      " #   Column    Non-Null Count  Dtype  \n",
      "---  ------    --------------  -----  \n",
      " 0   SEQN      11933 non-null  float64\n",
      " 1   INDFMMPC  10464 non-null  float64\n",
      "dtypes: float64(2)\n",
      "memory usage: 186.6 KB\n",
      "\n",
      "Preview:\n"
     ]
    },
    {
     "data": {
      "text/html": [
       "<div>\n",
       "<style scoped>\n",
       "    .dataframe tbody tr th:only-of-type {\n",
       "        vertical-align: middle;\n",
       "    }\n",
       "\n",
       "    .dataframe tbody tr th {\n",
       "        vertical-align: top;\n",
       "    }\n",
       "\n",
       "    .dataframe thead th {\n",
       "        text-align: right;\n",
       "    }\n",
       "</style>\n",
       "<table border=\"1\" class=\"dataframe\">\n",
       "  <thead>\n",
       "    <tr style=\"text-align: right;\">\n",
       "      <th></th>\n",
       "      <th>SEQN</th>\n",
       "      <th>INDFMMPC</th>\n",
       "    </tr>\n",
       "  </thead>\n",
       "  <tbody>\n",
       "    <tr>\n",
       "      <th>0</th>\n",
       "      <td>130378.0</td>\n",
       "      <td>3.0</td>\n",
       "    </tr>\n",
       "    <tr>\n",
       "      <th>1</th>\n",
       "      <td>130379.0</td>\n",
       "      <td>3.0</td>\n",
       "    </tr>\n",
       "    <tr>\n",
       "      <th>2</th>\n",
       "      <td>130380.0</td>\n",
       "      <td>2.0</td>\n",
       "    </tr>\n",
       "    <tr>\n",
       "      <th>3</th>\n",
       "      <td>130381.0</td>\n",
       "      <td>1.0</td>\n",
       "    </tr>\n",
       "    <tr>\n",
       "      <th>4</th>\n",
       "      <td>130382.0</td>\n",
       "      <td>3.0</td>\n",
       "    </tr>\n",
       "  </tbody>\n",
       "</table>\n",
       "</div>"
      ],
      "text/plain": [
       "       SEQN  INDFMMPC\n",
       "0  130378.0       3.0\n",
       "1  130379.0       3.0\n",
       "2  130380.0       2.0\n",
       "3  130381.0       1.0\n",
       "4  130382.0       3.0"
      ]
     },
     "execution_count": 25,
     "metadata": {},
     "output_type": "execute_result"
    }
   ],
   "source": [
    "print(\"Shape:\", inq.shape)\n",
    "print(\"\\nInfo:\")\n",
    "inq.info()\n",
    "print(\"\\nPreview:\")\n",
    "inq.head()"
   ]
  },
  {
   "cell_type": "markdown",
   "id": "8c68bcdf",
   "metadata": {},
   "source": [
    "First we need to convert the `INDFMMPC` column to a categorical data type. This conversion is important because it allows us to efficiently store and manipulate categorical data, which is particularly useful for variables with a limited number of distinct values."
   ]
  },
  {
   "cell_type": "code",
   "execution_count": 26,
   "id": "a3cd2cfb",
   "metadata": {},
   "outputs": [],
   "source": [
    "inq['INDFMMPC'] = inq['INDFMMPC'].astype('category')"
   ]
  },
  {
   "cell_type": "markdown",
   "id": "28ba2ecc",
   "metadata": {},
   "source": [
    "Then we rename the `INDFMMPC` column to `monthly_income_category` to make it more descriptive and meaningful."
   ]
  },
  {
   "cell_type": "code",
   "execution_count": 27,
   "id": "979901bd",
   "metadata": {},
   "outputs": [
    {
     "name": "stdout",
     "output_type": "stream",
     "text": [
      "INQ columns: ['SEQN', 'monthly_income_category']\n"
     ]
    }
   ],
   "source": [
    "inq = inq.rename(columns={\n",
    "    'INDFMMPC': 'monthly_income_category'\n",
    "})\n",
    "print(\"INQ columns:\", inq.columns.tolist())"
   ]
  },
  {
   "cell_type": "markdown",
   "id": "1e77523a",
   "metadata": {},
   "source": [
    "### F. Diabetes\n",
    "\n",
    "This section loads diabetes diagnosis information from the NHANES Diabetes Questionnaire (DIQ_L).\n",
    "\n",
    "- **SEQN**: Unique participant identifier that serves as the primary key for merging datasets\n",
    "- **DIQ010**: Response to the question \"Has a doctor ever told you that you have diabetes?\"\n",
    "\n",
    "DIQ010 uses the following coding system:\n",
    "| Code | Interpretation |\n",
    "|------|----------------|\n",
    "| 1    | Yes - diagnosed with diabetes |\n",
    "| 2    | No |\n",
    "| 3    | Borderline/Prediabetes |\n",
    "| 9    | Don't know/refused (treated as missing) |\n",
    "\n",
    "This diagnosis data will later be combined with laboratory glycohemoglobin (HbA1c) measurements to create a comprehensive diabetes status variable that can identify both:\n",
    "\n",
    "- Diagnosed cases (self-reported)\n",
    "- Undiagnosed cases (normal self-report but elevated HbA1c ≥6.5%)\n",
    "- Prediabetes (HbA1c between 5.7-6.4%)"
   ]
  },
  {
   "cell_type": "code",
   "execution_count": 28,
   "id": "d1fcad45",
   "metadata": {},
   "outputs": [
    {
     "name": "stdout",
     "output_type": "stream",
     "text": [
      "Income: loaded 11744 rows, 2 columns\n"
     ]
    }
   ],
   "source": [
    "diq_columns = [\"SEQN\", \"DIQ010\"]\n",
    "diq = pd.read_sas(files[\"DIQ\"], format=\"xport\")[diq_columns]\n",
    "print(f\"Income: loaded {len(diq)} rows, {len(diq.columns)} columns\")\n"
   ]
  },
  {
   "cell_type": "markdown",
   "id": "1554302c",
   "metadata": {},
   "source": [
    "We again observe the shape and info of the loaded dataset."
   ]
  },
  {
   "cell_type": "code",
   "execution_count": 29,
   "id": "d5476bc7",
   "metadata": {},
   "outputs": [
    {
     "name": "stdout",
     "output_type": "stream",
     "text": [
      "Shape: (11744, 2)\n",
      "\n",
      "Info:\n",
      "<class 'pandas.core.frame.DataFrame'>\n",
      "RangeIndex: 11744 entries, 0 to 11743\n",
      "Data columns (total 2 columns):\n",
      " #   Column  Non-Null Count  Dtype  \n",
      "---  ------  --------------  -----  \n",
      " 0   SEQN    11744 non-null  float64\n",
      " 1   DIQ010  11740 non-null  float64\n",
      "dtypes: float64(2)\n",
      "memory usage: 183.6 KB\n",
      "\n",
      "Preview:\n"
     ]
    },
    {
     "data": {
      "text/html": [
       "<div>\n",
       "<style scoped>\n",
       "    .dataframe tbody tr th:only-of-type {\n",
       "        vertical-align: middle;\n",
       "    }\n",
       "\n",
       "    .dataframe tbody tr th {\n",
       "        vertical-align: top;\n",
       "    }\n",
       "\n",
       "    .dataframe thead th {\n",
       "        text-align: right;\n",
       "    }\n",
       "</style>\n",
       "<table border=\"1\" class=\"dataframe\">\n",
       "  <thead>\n",
       "    <tr style=\"text-align: right;\">\n",
       "      <th></th>\n",
       "      <th>SEQN</th>\n",
       "      <th>DIQ010</th>\n",
       "    </tr>\n",
       "  </thead>\n",
       "  <tbody>\n",
       "    <tr>\n",
       "      <th>0</th>\n",
       "      <td>130378.0</td>\n",
       "      <td>2.0</td>\n",
       "    </tr>\n",
       "    <tr>\n",
       "      <th>1</th>\n",
       "      <td>130379.0</td>\n",
       "      <td>2.0</td>\n",
       "    </tr>\n",
       "    <tr>\n",
       "      <th>2</th>\n",
       "      <td>130380.0</td>\n",
       "      <td>1.0</td>\n",
       "    </tr>\n",
       "    <tr>\n",
       "      <th>3</th>\n",
       "      <td>130381.0</td>\n",
       "      <td>2.0</td>\n",
       "    </tr>\n",
       "    <tr>\n",
       "      <th>4</th>\n",
       "      <td>130382.0</td>\n",
       "      <td>2.0</td>\n",
       "    </tr>\n",
       "  </tbody>\n",
       "</table>\n",
       "</div>"
      ],
      "text/plain": [
       "       SEQN  DIQ010\n",
       "0  130378.0     2.0\n",
       "1  130379.0     2.0\n",
       "2  130380.0     1.0\n",
       "3  130381.0     2.0\n",
       "4  130382.0     2.0"
      ]
     },
     "execution_count": 29,
     "metadata": {},
     "output_type": "execute_result"
    }
   ],
   "source": [
    "print(\"Shape:\", diq.shape)\n",
    "print(\"\\nInfo:\")\n",
    "diq.info()\n",
    "print(\"\\nPreview:\")\n",
    "diq.head()"
   ]
  },
  {
   "cell_type": "markdown",
   "id": "03f6d635",
   "metadata": {},
   "source": [
    "We then rename the column `DIQ010` to `diagnosed` to make it more descriptive and meaningful."
   ]
  },
  {
   "cell_type": "code",
   "execution_count": 30,
   "id": "9a130ad6",
   "metadata": {},
   "outputs": [
    {
     "name": "stdout",
     "output_type": "stream",
     "text": [
      "DIQ columns: ['SEQN', 'diagnosed']\n"
     ]
    }
   ],
   "source": [
    "diq = diq.rename(columns={\n",
    "    'DIQ010': 'diagnosed'\n",
    "})\n",
    "print(\"DIQ columns:\", diq.columns.tolist())"
   ]
  },
  {
   "cell_type": "markdown",
   "id": "45c4a0d3",
   "metadata": {},
   "source": [
    "As we see at the begining, the column has some code for the missing value. We will convert those codes to `np.nan` values, then convert the column to a categorical data type."
   ]
  },
  {
   "cell_type": "code",
   "execution_count": 31,
   "id": "e62b4692",
   "metadata": {},
   "outputs": [],
   "source": [
    "diq['diagnosed'] = diq['diagnosed'].replace(9.0, np.nan)\n",
    "diq['diagnosed'] = diq['diagnosed'].astype('category')\n"
   ]
  },
  {
   "cell_type": "markdown",
   "id": "5767de2a",
   "metadata": {},
   "source": [
    "### G. Day 1 Interview - Nutrient Intake\n",
    "Now we will load the day 1 interview nutrient intake data.  This is a large file, so we will only load the columns we need.  The columns we need are:\n",
    "- SEQN: Respondent sequence number\n",
    "- DR1TKCAL: Total energy intake in kilocalories\n",
    "- DR1TCARB: Total carbohydrate intake in grams \n",
    "- DR1TTFAT: Total fat intake in grams\n",
    "- DR1TSUGR: Total sugar intake in grams\n",
    "\n",
    "These dietary components are critical for diabetes risk assessment because:\n",
    "\n",
    "- Caloric balance affects weight management and metabolic health\n",
    "- Carbohydrate quantity and quality impacts blood glucose regulation\n",
    "- Sugar intake is directly linked to diabetes risk\n",
    "- Fat consumption patterns influence insulin sensitivity\n",
    "\n",
    "When combined with demographic and clinical data, these nutritional variables will help identify dietary patterns associated with different diabetes risk profiles and provide insights into potential lifestyle interventions."
   ]
  },
  {
   "cell_type": "code",
   "execution_count": 32,
   "id": "8ef8b2de",
   "metadata": {},
   "outputs": [
    {
     "name": "stdout",
     "output_type": "stream",
     "text": [
      "Income: loaded 8860 rows, 5 columns\n"
     ]
    }
   ],
   "source": [
    "dr1tot_columns = [\"SEQN\", \"DR1TKCAL\", \"DR1TCARB\", \"DR1TSUGR\", \"DR1TTFAT\"]\n",
    "dr1tot = pd.read_sas(files[\"DR1TOT\"], format=\"xport\")[dr1tot_columns]\n",
    "print(f\"Income: loaded {len(dr1tot)} rows, {len(dr1tot.columns)} columns\")"
   ]
  },
  {
   "cell_type": "markdown",
   "id": "e181603f",
   "metadata": {},
   "source": [
    "We then observe the shape of the loaded dataset."
   ]
  },
  {
   "cell_type": "code",
   "execution_count": 33,
   "id": "f5b10d28",
   "metadata": {},
   "outputs": [
    {
     "name": "stdout",
     "output_type": "stream",
     "text": [
      "Shape: (8860, 5)\n",
      "\n",
      "Info:\n",
      "<class 'pandas.core.frame.DataFrame'>\n",
      "RangeIndex: 8860 entries, 0 to 8859\n",
      "Data columns (total 5 columns):\n",
      " #   Column    Non-Null Count  Dtype  \n",
      "---  ------    --------------  -----  \n",
      " 0   SEQN      8860 non-null   float64\n",
      " 1   DR1TKCAL  6694 non-null   float64\n",
      " 2   DR1TCARB  6694 non-null   float64\n",
      " 3   DR1TSUGR  6694 non-null   float64\n",
      " 4   DR1TTFAT  6694 non-null   float64\n",
      "dtypes: float64(5)\n",
      "memory usage: 346.2 KB\n",
      "\n",
      "Preview:\n"
     ]
    },
    {
     "data": {
      "text/html": [
       "<div>\n",
       "<style scoped>\n",
       "    .dataframe tbody tr th:only-of-type {\n",
       "        vertical-align: middle;\n",
       "    }\n",
       "\n",
       "    .dataframe tbody tr th {\n",
       "        vertical-align: top;\n",
       "    }\n",
       "\n",
       "    .dataframe thead th {\n",
       "        text-align: right;\n",
       "    }\n",
       "</style>\n",
       "<table border=\"1\" class=\"dataframe\">\n",
       "  <thead>\n",
       "    <tr style=\"text-align: right;\">\n",
       "      <th></th>\n",
       "      <th>SEQN</th>\n",
       "      <th>DR1TKCAL</th>\n",
       "      <th>DR1TCARB</th>\n",
       "      <th>DR1TSUGR</th>\n",
       "      <th>DR1TTFAT</th>\n",
       "    </tr>\n",
       "  </thead>\n",
       "  <tbody>\n",
       "    <tr>\n",
       "      <th>0</th>\n",
       "      <td>130378.0</td>\n",
       "      <td>1740.0</td>\n",
       "      <td>169.66</td>\n",
       "      <td>43.71</td>\n",
       "      <td>55.07</td>\n",
       "    </tr>\n",
       "    <tr>\n",
       "      <th>1</th>\n",
       "      <td>130379.0</td>\n",
       "      <td>2741.0</td>\n",
       "      <td>314.86</td>\n",
       "      <td>113.58</td>\n",
       "      <td>67.18</td>\n",
       "    </tr>\n",
       "    <tr>\n",
       "      <th>2</th>\n",
       "      <td>130380.0</td>\n",
       "      <td>1995.0</td>\n",
       "      <td>281.67</td>\n",
       "      <td>114.66</td>\n",
       "      <td>65.38</td>\n",
       "    </tr>\n",
       "    <tr>\n",
       "      <th>3</th>\n",
       "      <td>130381.0</td>\n",
       "      <td>1676.0</td>\n",
       "      <td>224.98</td>\n",
       "      <td>117.83</td>\n",
       "      <td>63.57</td>\n",
       "    </tr>\n",
       "    <tr>\n",
       "      <th>4</th>\n",
       "      <td>130382.0</td>\n",
       "      <td>1222.0</td>\n",
       "      <td>194.30</td>\n",
       "      <td>112.99</td>\n",
       "      <td>39.80</td>\n",
       "    </tr>\n",
       "  </tbody>\n",
       "</table>\n",
       "</div>"
      ],
      "text/plain": [
       "       SEQN  DR1TKCAL  DR1TCARB  DR1TSUGR  DR1TTFAT\n",
       "0  130378.0    1740.0    169.66     43.71     55.07\n",
       "1  130379.0    2741.0    314.86    113.58     67.18\n",
       "2  130380.0    1995.0    281.67    114.66     65.38\n",
       "3  130381.0    1676.0    224.98    117.83     63.57\n",
       "4  130382.0    1222.0    194.30    112.99     39.80"
      ]
     },
     "execution_count": 33,
     "metadata": {},
     "output_type": "execute_result"
    }
   ],
   "source": [
    "print(\"Shape:\", dr1tot.shape)\n",
    "print(\"\\nInfo:\")\n",
    "dr1tot.info()\n",
    "print(\"\\nPreview:\")\n",
    "dr1tot.head()"
   ]
  },
  {
   "cell_type": "markdown",
   "id": "62e533ab",
   "metadata": {},
   "source": [
    "The column names in the nutrient intake dataset are quite easy to understand, but we will rename them to make them more descriptive and meaningful.\n",
    "\n",
    "We rename:\n",
    "- `DR1TKCAL`: `k_calories`,\n",
    "- `DR1TCARB`: `carb`,\n",
    "- `DR1TSUGR`: `sugar`,\n",
    "- `DR1TTFAT`: `fat`"
   ]
  },
  {
   "cell_type": "code",
   "execution_count": 34,
   "id": "a87c4318",
   "metadata": {},
   "outputs": [
    {
     "name": "stdout",
     "output_type": "stream",
     "text": [
      "Diet columns: ['SEQN', 'k_calories', 'carb', 'sugar', 'fat']\n"
     ]
    }
   ],
   "source": [
    "dr1tot = dr1tot.rename(columns={\n",
    "    'DR1TKCAL': 'k_calories',\n",
    "    'DR1TCARB': 'carb',\n",
    "    'DR1TSUGR': 'sugar',\n",
    "    'DR1TTFAT': 'fat'\n",
    "})\n",
    "print(\"Diet columns:\", dr1tot.columns.tolist())"
   ]
  },
  {
   "cell_type": "markdown",
   "id": "5fb1fb04",
   "metadata": {},
   "source": [
    "## III. Merge All Key Datasets\n",
    "\n",
    "We join our seven cleaned tables on the respondent identifier `SEQN`.  We use an **inner** merge to keep only participants who have data in all domains to minimize the number of extra missing values.\n",
    "\n",
    "We will merge all the cleaned tables into one table.  We will use the `pd.merge()` function to do this.  We will merge on the `SEQN` column.  We will use an inner join to keep only participants who have data in all domains."
   ]
  },
  {
   "cell_type": "code",
   "execution_count": 35,
   "id": "b0638106-2017-4115-802d-9d7a310325ec",
   "metadata": {},
   "outputs": [],
   "source": [
    "data = (\n",
    "    demo\n",
    "    .merge(bmx, on='SEQN', how='inner')\n",
    "    .merge(ghb, on='SEQN', how='inner')\n",
    "    .merge(paq, on='SEQN', how='inner')\n",
    "    .merge(inq, on='SEQN', how='inner')\n",
    "    .merge(diq, on='SEQN', how='inner')\n",
    "    .merge(dr1tot, on='SEQN', how='inner')\n",
    ")"
   ]
  },
  {
   "cell_type": "markdown",
   "id": "bc6ea8e3",
   "metadata": {},
   "source": [
    "Now we will check the shape of the merged dataset like the previous sections of loading data."
   ]
  },
  {
   "cell_type": "code",
   "execution_count": 36,
   "id": "eab20a2f-5f89-472c-af70-d6c4636a40cc",
   "metadata": {
    "tags": []
   },
   "outputs": [
    {
     "name": "stdout",
     "output_type": "stream",
     "text": [
      "Shape: (6337, 16)\n",
      "\n",
      "Info:\n",
      "<class 'pandas.core.frame.DataFrame'>\n",
      "RangeIndex: 6337 entries, 0 to 6336\n",
      "Data columns (total 16 columns):\n",
      " #   Column                   Non-Null Count  Dtype   \n",
      "---  ------                   --------------  -----   \n",
      " 0   SEQN                     6337 non-null   float64 \n",
      " 1   gender                   6337 non-null   category\n",
      " 2   age                      6337 non-null   int64   \n",
      " 3   ethnicity                6337 non-null   category\n",
      " 4   bmi                      6235 non-null   float64 \n",
      " 5   glycohemoglobin          6002 non-null   float64 \n",
      " 6   mode_freq                6299 non-null   float64 \n",
      " 7   mode_unit                5031 non-null   category\n",
      " 8   mode_min                 5018 non-null   float64 \n",
      " 9   sed_min                  6290 non-null   float64 \n",
      " 10  monthly_income_category  5817 non-null   category\n",
      " 11  diagnosed                6336 non-null   category\n",
      " 12  k_calories               4986 non-null   float64 \n",
      " 13  carb                     4986 non-null   float64 \n",
      " 14  sugar                    4986 non-null   float64 \n",
      " 15  fat                      4986 non-null   float64 \n",
      "dtypes: category(5), float64(10), int64(1)\n",
      "memory usage: 576.5 KB\n",
      "\n",
      "Preview:\n"
     ]
    },
    {
     "data": {
      "text/html": [
       "<div>\n",
       "<style scoped>\n",
       "    .dataframe tbody tr th:only-of-type {\n",
       "        vertical-align: middle;\n",
       "    }\n",
       "\n",
       "    .dataframe tbody tr th {\n",
       "        vertical-align: top;\n",
       "    }\n",
       "\n",
       "    .dataframe thead th {\n",
       "        text-align: right;\n",
       "    }\n",
       "</style>\n",
       "<table border=\"1\" class=\"dataframe\">\n",
       "  <thead>\n",
       "    <tr style=\"text-align: right;\">\n",
       "      <th></th>\n",
       "      <th>SEQN</th>\n",
       "      <th>gender</th>\n",
       "      <th>age</th>\n",
       "      <th>ethnicity</th>\n",
       "      <th>bmi</th>\n",
       "      <th>glycohemoglobin</th>\n",
       "      <th>mode_freq</th>\n",
       "      <th>mode_unit</th>\n",
       "      <th>mode_min</th>\n",
       "      <th>sed_min</th>\n",
       "      <th>monthly_income_category</th>\n",
       "      <th>diagnosed</th>\n",
       "      <th>k_calories</th>\n",
       "      <th>carb</th>\n",
       "      <th>sugar</th>\n",
       "      <th>fat</th>\n",
       "    </tr>\n",
       "  </thead>\n",
       "  <tbody>\n",
       "    <tr>\n",
       "      <th>0</th>\n",
       "      <td>130378.0</td>\n",
       "      <td>Male</td>\n",
       "      <td>43</td>\n",
       "      <td>Other Race - Including Multi-Racial</td>\n",
       "      <td>27.0</td>\n",
       "      <td>5.6</td>\n",
       "      <td>3.000000e+00</td>\n",
       "      <td>W</td>\n",
       "      <td>45.0</td>\n",
       "      <td>360.0</td>\n",
       "      <td>3.0</td>\n",
       "      <td>2.0</td>\n",
       "      <td>1740.0</td>\n",
       "      <td>169.66</td>\n",
       "      <td>43.71</td>\n",
       "      <td>55.07</td>\n",
       "    </tr>\n",
       "    <tr>\n",
       "      <th>1</th>\n",
       "      <td>130379.0</td>\n",
       "      <td>Male</td>\n",
       "      <td>66</td>\n",
       "      <td>Non-Hispanic White</td>\n",
       "      <td>33.5</td>\n",
       "      <td>5.6</td>\n",
       "      <td>4.000000e+00</td>\n",
       "      <td>W</td>\n",
       "      <td>45.0</td>\n",
       "      <td>480.0</td>\n",
       "      <td>3.0</td>\n",
       "      <td>2.0</td>\n",
       "      <td>2741.0</td>\n",
       "      <td>314.86</td>\n",
       "      <td>113.58</td>\n",
       "      <td>67.18</td>\n",
       "    </tr>\n",
       "    <tr>\n",
       "      <th>2</th>\n",
       "      <td>130380.0</td>\n",
       "      <td>Female</td>\n",
       "      <td>44</td>\n",
       "      <td>Other Hispanic</td>\n",
       "      <td>29.7</td>\n",
       "      <td>6.2</td>\n",
       "      <td>1.000000e+00</td>\n",
       "      <td>W</td>\n",
       "      <td>20.0</td>\n",
       "      <td>240.0</td>\n",
       "      <td>2.0</td>\n",
       "      <td>1.0</td>\n",
       "      <td>1995.0</td>\n",
       "      <td>281.67</td>\n",
       "      <td>114.66</td>\n",
       "      <td>65.38</td>\n",
       "    </tr>\n",
       "    <tr>\n",
       "      <th>3</th>\n",
       "      <td>130386.0</td>\n",
       "      <td>Male</td>\n",
       "      <td>34</td>\n",
       "      <td>Mexican American</td>\n",
       "      <td>30.2</td>\n",
       "      <td>5.1</td>\n",
       "      <td>1.000000e+00</td>\n",
       "      <td>W</td>\n",
       "      <td>30.0</td>\n",
       "      <td>180.0</td>\n",
       "      <td>2.0</td>\n",
       "      <td>2.0</td>\n",
       "      <td>2422.0</td>\n",
       "      <td>207.53</td>\n",
       "      <td>37.89</td>\n",
       "      <td>116.54</td>\n",
       "    </tr>\n",
       "    <tr>\n",
       "      <th>4</th>\n",
       "      <td>130387.0</td>\n",
       "      <td>Female</td>\n",
       "      <td>68</td>\n",
       "      <td>Non-Hispanic White</td>\n",
       "      <td>42.6</td>\n",
       "      <td>5.9</td>\n",
       "      <td>5.397605e-79</td>\n",
       "      <td>NaN</td>\n",
       "      <td>NaN</td>\n",
       "      <td>1200.0</td>\n",
       "      <td>2.0</td>\n",
       "      <td>2.0</td>\n",
       "      <td>3849.0</td>\n",
       "      <td>376.54</td>\n",
       "      <td>227.99</td>\n",
       "      <td>234.39</td>\n",
       "    </tr>\n",
       "  </tbody>\n",
       "</table>\n",
       "</div>"
      ],
      "text/plain": [
       "       SEQN  gender  age                            ethnicity   bmi  \\\n",
       "0  130378.0    Male   43  Other Race - Including Multi-Racial  27.0   \n",
       "1  130379.0    Male   66                   Non-Hispanic White  33.5   \n",
       "2  130380.0  Female   44                       Other Hispanic  29.7   \n",
       "3  130386.0    Male   34                     Mexican American  30.2   \n",
       "4  130387.0  Female   68                   Non-Hispanic White  42.6   \n",
       "\n",
       "   glycohemoglobin     mode_freq mode_unit  mode_min  sed_min  \\\n",
       "0              5.6  3.000000e+00         W      45.0    360.0   \n",
       "1              5.6  4.000000e+00         W      45.0    480.0   \n",
       "2              6.2  1.000000e+00         W      20.0    240.0   \n",
       "3              5.1  1.000000e+00         W      30.0    180.0   \n",
       "4              5.9  5.397605e-79       NaN       NaN   1200.0   \n",
       "\n",
       "  monthly_income_category diagnosed  k_calories    carb   sugar     fat  \n",
       "0                     3.0       2.0      1740.0  169.66   43.71   55.07  \n",
       "1                     3.0       2.0      2741.0  314.86  113.58   67.18  \n",
       "2                     2.0       1.0      1995.0  281.67  114.66   65.38  \n",
       "3                     2.0       2.0      2422.0  207.53   37.89  116.54  \n",
       "4                     2.0       2.0      3849.0  376.54  227.99  234.39  "
      ]
     },
     "execution_count": 36,
     "metadata": {},
     "output_type": "execute_result"
    }
   ],
   "source": [
    "print(\"Shape:\", data.shape)\n",
    "print(\"\\nInfo:\")\n",
    "data.info()\n",
    "print(\"\\nPreview:\")\n",
    "data.head()"
   ]
  },
  {
   "cell_type": "markdown",
   "id": "b59dc789",
   "metadata": {},
   "source": [
    "We can see that we have 6337 rows and 16 columns. This means that we have 6337 participants with data in all domains."
   ]
  },
  {
   "cell_type": "markdown",
   "id": "1d855df0",
   "metadata": {},
   "source": [
    "## IV. Data Cleaning"
   ]
  },
  {
   "cell_type": "markdown",
   "id": "913b27e6-e935-428d-b2f2-d51440751490",
   "metadata": {},
   "source": [
    "### A. Merged Data Final Clean Up\n",
    "We will now perform some final clean up on the merged dataset."
   ]
  },
  {
   "cell_type": "markdown",
   "id": "279e8a12",
   "metadata": {},
   "source": [
    "Observing the display of the merged dataset, we can see that the column `mode_freq` has some values less than 1, which is not possible for the frequency of an activity.  We will set those values to `np.nan`. This step is crucial because later we will analyze the imputation of the missing values and their impact on the overall dataset. Cleaning this column's invalid values ensures that our analysis is based on accurate and meaningful data, which is essential for drawing valid conclusions about the relationships between physical activity and health outcomes."
   ]
  },
  {
   "cell_type": "code",
   "execution_count": 37,
   "id": "c288f2c5",
   "metadata": {
    "tags": []
   },
   "outputs": [],
   "source": [
    "data['mode_freq'] = data['mode_freq'].mask(data['mode_freq'] < 1, np.nan)"
   ]
  },
  {
   "cell_type": "markdown",
   "id": "ac8db56c",
   "metadata": {},
   "source": [
    "After that, we will copy the merged dataset to a new variable called `clean_data` to avoid modification in the original dataset. This copied dataset will be used for all further analysis and modeling, including the imputation step.\n"
   ]
  },
  {
   "cell_type": "code",
   "execution_count": 38,
   "id": "61feae02-35ed-43de-a423-41b77f953540",
   "metadata": {
    "tags": []
   },
   "outputs": [
    {
     "data": {
      "text/html": [
       "<div>\n",
       "<style scoped>\n",
       "    .dataframe tbody tr th:only-of-type {\n",
       "        vertical-align: middle;\n",
       "    }\n",
       "\n",
       "    .dataframe tbody tr th {\n",
       "        vertical-align: top;\n",
       "    }\n",
       "\n",
       "    .dataframe thead th {\n",
       "        text-align: right;\n",
       "    }\n",
       "</style>\n",
       "<table border=\"1\" class=\"dataframe\">\n",
       "  <thead>\n",
       "    <tr style=\"text-align: right;\">\n",
       "      <th></th>\n",
       "      <th>SEQN</th>\n",
       "      <th>gender</th>\n",
       "      <th>age</th>\n",
       "      <th>ethnicity</th>\n",
       "      <th>bmi</th>\n",
       "      <th>glycohemoglobin</th>\n",
       "      <th>mode_freq</th>\n",
       "      <th>mode_unit</th>\n",
       "      <th>mode_min</th>\n",
       "      <th>sed_min</th>\n",
       "      <th>monthly_income_category</th>\n",
       "      <th>diagnosed</th>\n",
       "      <th>k_calories</th>\n",
       "      <th>carb</th>\n",
       "      <th>sugar</th>\n",
       "      <th>fat</th>\n",
       "    </tr>\n",
       "  </thead>\n",
       "  <tbody>\n",
       "    <tr>\n",
       "      <th>0</th>\n",
       "      <td>130378.0</td>\n",
       "      <td>Male</td>\n",
       "      <td>43</td>\n",
       "      <td>Other Race - Including Multi-Racial</td>\n",
       "      <td>27.0</td>\n",
       "      <td>5.6</td>\n",
       "      <td>3.0</td>\n",
       "      <td>W</td>\n",
       "      <td>45.0</td>\n",
       "      <td>360.0</td>\n",
       "      <td>3.0</td>\n",
       "      <td>2.0</td>\n",
       "      <td>1740.0</td>\n",
       "      <td>169.66</td>\n",
       "      <td>43.71</td>\n",
       "      <td>55.07</td>\n",
       "    </tr>\n",
       "    <tr>\n",
       "      <th>1</th>\n",
       "      <td>130379.0</td>\n",
       "      <td>Male</td>\n",
       "      <td>66</td>\n",
       "      <td>Non-Hispanic White</td>\n",
       "      <td>33.5</td>\n",
       "      <td>5.6</td>\n",
       "      <td>4.0</td>\n",
       "      <td>W</td>\n",
       "      <td>45.0</td>\n",
       "      <td>480.0</td>\n",
       "      <td>3.0</td>\n",
       "      <td>2.0</td>\n",
       "      <td>2741.0</td>\n",
       "      <td>314.86</td>\n",
       "      <td>113.58</td>\n",
       "      <td>67.18</td>\n",
       "    </tr>\n",
       "    <tr>\n",
       "      <th>2</th>\n",
       "      <td>130380.0</td>\n",
       "      <td>Female</td>\n",
       "      <td>44</td>\n",
       "      <td>Other Hispanic</td>\n",
       "      <td>29.7</td>\n",
       "      <td>6.2</td>\n",
       "      <td>1.0</td>\n",
       "      <td>W</td>\n",
       "      <td>20.0</td>\n",
       "      <td>240.0</td>\n",
       "      <td>2.0</td>\n",
       "      <td>1.0</td>\n",
       "      <td>1995.0</td>\n",
       "      <td>281.67</td>\n",
       "      <td>114.66</td>\n",
       "      <td>65.38</td>\n",
       "    </tr>\n",
       "    <tr>\n",
       "      <th>3</th>\n",
       "      <td>130386.0</td>\n",
       "      <td>Male</td>\n",
       "      <td>34</td>\n",
       "      <td>Mexican American</td>\n",
       "      <td>30.2</td>\n",
       "      <td>5.1</td>\n",
       "      <td>1.0</td>\n",
       "      <td>W</td>\n",
       "      <td>30.0</td>\n",
       "      <td>180.0</td>\n",
       "      <td>2.0</td>\n",
       "      <td>2.0</td>\n",
       "      <td>2422.0</td>\n",
       "      <td>207.53</td>\n",
       "      <td>37.89</td>\n",
       "      <td>116.54</td>\n",
       "    </tr>\n",
       "    <tr>\n",
       "      <th>4</th>\n",
       "      <td>130387.0</td>\n",
       "      <td>Female</td>\n",
       "      <td>68</td>\n",
       "      <td>Non-Hispanic White</td>\n",
       "      <td>42.6</td>\n",
       "      <td>5.9</td>\n",
       "      <td>NaN</td>\n",
       "      <td>NaN</td>\n",
       "      <td>NaN</td>\n",
       "      <td>1200.0</td>\n",
       "      <td>2.0</td>\n",
       "      <td>2.0</td>\n",
       "      <td>3849.0</td>\n",
       "      <td>376.54</td>\n",
       "      <td>227.99</td>\n",
       "      <td>234.39</td>\n",
       "    </tr>\n",
       "  </tbody>\n",
       "</table>\n",
       "</div>"
      ],
      "text/plain": [
       "       SEQN  gender  age                            ethnicity   bmi  \\\n",
       "0  130378.0    Male   43  Other Race - Including Multi-Racial  27.0   \n",
       "1  130379.0    Male   66                   Non-Hispanic White  33.5   \n",
       "2  130380.0  Female   44                       Other Hispanic  29.7   \n",
       "3  130386.0    Male   34                     Mexican American  30.2   \n",
       "4  130387.0  Female   68                   Non-Hispanic White  42.6   \n",
       "\n",
       "   glycohemoglobin  mode_freq mode_unit  mode_min  sed_min  \\\n",
       "0              5.6        3.0         W      45.0    360.0   \n",
       "1              5.6        4.0         W      45.0    480.0   \n",
       "2              6.2        1.0         W      20.0    240.0   \n",
       "3              5.1        1.0         W      30.0    180.0   \n",
       "4              5.9        NaN       NaN       NaN   1200.0   \n",
       "\n",
       "  monthly_income_category diagnosed  k_calories    carb   sugar     fat  \n",
       "0                     3.0       2.0      1740.0  169.66   43.71   55.07  \n",
       "1                     3.0       2.0      2741.0  314.86  113.58   67.18  \n",
       "2                     2.0       1.0      1995.0  281.67  114.66   65.38  \n",
       "3                     2.0       2.0      2422.0  207.53   37.89  116.54  \n",
       "4                     2.0       2.0      3849.0  376.54  227.99  234.39  "
      ]
     },
     "metadata": {},
     "output_type": "display_data"
    }
   ],
   "source": [
    "clean_data = data.copy()\n",
    "display(clean_data.head())"
   ]
  },
  {
   "cell_type": "markdown",
   "id": "a6e2f9ed",
   "metadata": {},
   "source": [
    "### B Impute Numeric Columns\n",
    "\n",
    "There're various imputation method for missing values but they can lead to different statistical measurement. To determine the most appropriate method, we have to try each of them and compare the data distribution. In this section, we will try 3 imputation methods to fill in the missing values in the numeric columns. We will use the `SimpleImputer` class from the `sklearn.impute` module to do this. The three imputation methods we will try are:\n",
    "- Mean\n",
    "- Median\n",
    "- KNN\n",
    "\n",
    "The mean and median imputation methods are simple and fast, but they can introduce bias into the data. The KNN imputation method is more complex and slower, but it can provide better results in some cases. KNN imputation uses the K-nearest neighbors algorithm to find the most similar observations in the dataset and uses their values to fill in the missing values. This method can be more accurate than mean or median imputation, especially when the data is not normally distributed.\n",
    "\n",
    "First, we define the list of numeric columns that we want to impute.  We will use the `select_dtypes()` method to select only the numeric columns from the dataset."
   ]
  },
  {
   "cell_type": "code",
   "execution_count": 39,
   "id": "762f8e35",
   "metadata": {
    "tags": []
   },
   "outputs": [
    {
     "name": "stdout",
     "output_type": "stream",
     "text": [
      "Index(['SEQN', 'bmi', 'glycohemoglobin', 'mode_freq', 'mode_min', 'sed_min',\n",
      "       'k_calories', 'carb', 'sugar', 'fat'],\n",
      "      dtype='object')\n"
     ]
    }
   ],
   "source": [
    "numeric_cols = data.select_dtypes(include=['float64','int32']).columns\n",
    "print(numeric_cols)"
   ]
  },
  {
   "cell_type": "markdown",
   "id": "aca5125d",
   "metadata": {},
   "source": [
    "After that, we then extract the numeric columns from the dataset and store them in a new variable called `numeric_data`.  We will use this variable to perform the imputation."
   ]
  },
  {
   "cell_type": "code",
   "execution_count": 40,
   "id": "14b5d556-44c5-4bf2-bcbd-9f238ec4be21",
   "metadata": {
    "tags": []
   },
   "outputs": [],
   "source": [
    "numeric_data = clean_data[numeric_cols].copy()"
   ]
  },
  {
   "cell_type": "markdown",
   "id": "ba0f9618",
   "metadata": {},
   "source": [
    "Now we will define the imputation methods we want to use.  We will use the `SimpleImputer` class from the `sklearn.impute` module to do this, assigning them to 3 different variables. \n",
    "\n",
    "- For the mean and median, the `SimpleImputer` class will use the `strategy` parameter to specify the imputation method.\n",
    "- For the KNN imputation, we will use the `KNNImputer` class from the `sklearn.impute` module.  We will set the number of neighbors to 5."
   ]
  },
  {
   "cell_type": "code",
   "execution_count": 41,
   "id": "b22d7519-06cd-4ea1-8e29-6b10aca8e328",
   "metadata": {
    "tags": []
   },
   "outputs": [],
   "source": [
    "mean_imputer = SimpleImputer(strategy='mean')\n",
    "median_imputer = SimpleImputer(strategy='median')\n",
    "knn_imputer = KNNImputer(n_neighbors=5)"
   ]
  },
  {
   "cell_type": "markdown",
   "id": "1f3f7ac9",
   "metadata": {},
   "source": [
    "Now everything is prepared, we will perform the imputation on the numeric columns. We use the `fit_transform()` method to do this, then store the results in different DataFrame."
   ]
  },
  {
   "cell_type": "code",
   "execution_count": 42,
   "id": "8d344778-1b7e-4d8f-b1a2-38358a878d96",
   "metadata": {
    "tags": []
   },
   "outputs": [],
   "source": [
    "data_mean = pd.DataFrame(\n",
    "    mean_imputer.fit_transform(numeric_data),\n",
    "    columns=numeric_cols,\n",
    "    index=clean_data.index\n",
    ")\n",
    "\n",
    "data_median = pd.DataFrame(\n",
    "    median_imputer.fit_transform(numeric_data),\n",
    "    columns=numeric_cols,\n",
    "    index=clean_data.index\n",
    ")\n",
    "\n",
    "data_knn = pd.DataFrame(\n",
    "    knn_imputer.fit_transform(numeric_data),\n",
    "    columns=numeric_cols,\n",
    "    index=clean_data.index\n",
    ")"
   ]
  },
  {
   "cell_type": "markdown",
   "id": "5e904c49",
   "metadata": {},
   "source": [
    "The next step is to retrieve the list of numeric columns with missing values."
   ]
  },
  {
   "cell_type": "code",
   "execution_count": 43,
   "id": "d083dfa0-b87c-437b-b725-89895f97e047",
   "metadata": {
    "tags": []
   },
   "outputs": [],
   "source": [
    "missing_cols = []\n",
    "for col in numeric_cols:\n",
    "    if numeric_data[col].isna().sum() > 0:\n",
    "        missing_cols.append(col)"
   ]
  },
  {
   "cell_type": "markdown",
   "id": "7f17eb7b",
   "metadata": {},
   "source": [
    "We can move to the data visualization section for the imputed data comparison. As mentioned earlier, we will use the `bokeh` library to visualize the imputed data. First we define the widget Dropdown for each column to compare the imputed data across different methods."
   ]
  },
  {
   "cell_type": "code",
   "execution_count": 44,
   "id": "4f9d4730-d468-4129-8104-f169bde4b1ec",
   "metadata": {
    "tags": []
   },
   "outputs": [],
   "source": [
    "column_widget = Dropdown(\n",
    "    options=missing_cols,\n",
    "    description='Column:'\n",
    ")"
   ]
  },
  {
   "cell_type": "markdown",
   "id": "afe39734",
   "metadata": {},
   "source": [
    "Now we create a function to update the plot based on the selected imputation method. The function takes the selected column and imputation method as input and updates the plot accordingly. \n",
    "\n",
    "This function leverages `Bokeh` to create side-by-side histogram comparisons that help assess how different imputation techniques affect data distributions:\n",
    "\n",
    "The visualization uses consistent bin ranges across all methods to highlight distribution differences. The interactive legend allows toggling methods on/off to better compare shape changes and evaluate which approach least distorts the original data's statistical properties.\n",
    "\n",
    "This visual assessment complements the numerical evaluation (means, standard deviations, skewness) to select the optimal imputation strategy for our health dataset."
   ]
  },
  {
   "cell_type": "code",
   "execution_count": 45,
   "id": "18ae82da-54ac-44e2-b56e-fd43dacf3241",
   "metadata": {
    "tags": []
   },
   "outputs": [],
   "source": [
    "def plot_imputation_histograms(col_name):\n",
    "    data_min = numeric_data[col_name].dropna().min()\n",
    "    data_max = numeric_data[col_name].dropna().max()\n",
    "    \n",
    "    bin_edges = np.linspace(data_min, data_max, 21)\n",
    "    centers = [(bin_edges[i] + bin_edges[i+1])/2 for i in range(20)]\n",
    "    width = (bin_edges[1] - bin_edges[0]) * 0.9\n",
    "    \n",
    "    hist_data = {\n",
    "        'Mean': np.histogram(data_mean[col_name], bins=bin_edges)[0],\n",
    "        'Median': np.histogram(data_median[col_name], bins=bin_edges)[0],\n",
    "        'KNN': np.histogram(data_knn[col_name], bins=bin_edges)[0],\n",
    "        'Original': np.histogram(numeric_data[col_name].dropna(), bins=bin_edges)[0]\n",
    "    }\n",
    "    p = figure(\n",
    "        title=f\"Distribution Comparison: {col_name}\",\n",
    "        height=400, width=800, \n",
    "        x_axis_label=col_name, y_axis_label=\"Count\"\n",
    "    )\n",
    "    colors = {\"Original\": \"#c9d9d3\", \"Mean\": \"#718dbf\", \"Median\": \"#e84d60\", \"KNN\": \"#ddb7b1\"}\n",
    "\n",
    "    for label, hist in list(hist_data.items()):\n",
    "        p.vbar(\n",
    "            x=centers, top=hist, width=width,\n",
    "            color=colors[label],\n",
    "            legend_label=label,\n",
    "        )\n",
    "        \n",
    "    p.legend.title = \"Imputation Method\"\n",
    "    p.legend.click_policy = \"hide\"\n",
    "\n",
    "    show(p)"
   ]
  },
  {
   "cell_type": "markdown",
   "id": "267baa10",
   "metadata": {},
   "source": [
    "Now we can call the function with the @interact decorator to show the interactive plot. The `interact` function will call the dropdown menu for each column we defined earlier."
   ]
  },
  {
   "cell_type": "code",
   "execution_count": 46,
   "id": "c2cf46fc-71e8-46cf-80ea-0ecdb4674851",
   "metadata": {
    "tags": []
   },
   "outputs": [
    {
     "data": {
      "application/vnd.jupyter.widget-view+json": {
       "model_id": "418c2196f030448f9027f9377e764229",
       "version_major": 2,
       "version_minor": 0
      },
      "text/plain": [
       "interactive(children=(Dropdown(description='Column:', options=('bmi', 'glycohemoglobin', 'mode_freq', 'mode_mi…"
      ]
     },
     "metadata": {},
     "output_type": "display_data"
    }
   ],
   "source": [
    "@interact(col_name=column_widget)\n",
    "def show_plot(col_name): \n",
    "    plot_imputation_histograms(col_name)"
   ]
  },
  {
   "cell_type": "markdown",
   "id": "8dd9dc7f",
   "metadata": {},
   "source": [
    "The plot shows the distribution of the imputed data for each method. However, to determine the best method more correctly, we need to analyze the mean, standard deviation, and skewness of the imputed data. We then create a table to show the mean, standard deviation, and skewness difference of the imputed data to the original data for each method.\n",
    "\n",
    "To do this, we calculate the mean, standard deviation, and skewness of the original data and the imputed data. We then create a table to show the difference between the imputed data and the original data for each method. The final difference are the total deviation by summing the absolute differences."
   ]
  },
  {
   "cell_type": "code",
   "execution_count": 47,
   "id": "0237bc3e-1c0b-4b06-b634-8b6814d99529",
   "metadata": {
    "tags": []
   },
   "outputs": [],
   "source": [
    "evaluation = []\n",
    "methods = ['Mean', 'Median', 'KNN']\n",
    "imputed_data = [data_mean, data_median, data_knn]\n",
    "\n",
    "for col in missing_cols:\n",
    "    num_data = numeric_data[col].dropna()\n",
    "    num_stats = [num_data.mean(), num_data.std(), num_data.skew()]\n",
    "\n",
    "    diffs = []\n",
    "    for data in imputed_data:\n",
    "        col_data = data[col]\n",
    "        imputed_stats = [col_data.mean(), col_data.std(), col_data.skew()]\n",
    "        diffs.append(sum(abs(o - i) for o, i in zip(num_stats, imputed_stats)))\n",
    "\n",
    "    evaluation.append({\n",
    "        'Column': col,\n",
    "        'Mean Difference': diffs[0],\n",
    "        'Median Difference': diffs[1],\n",
    "        'KNN Difference': diffs[2]\n",
    "    })\n",
    "    \n",
    "evaluation_data = pd.DataFrame(evaluation)"
   ]
  },
  {
   "cell_type": "code",
   "execution_count": 48,
   "id": "dbac6f44-5b98-41a4-8b3f-31d23cfe6b25",
   "metadata": {
    "tags": []
   },
   "outputs": [
    {
     "data": {
      "text/html": [
       "<div>\n",
       "<style scoped>\n",
       "    .dataframe tbody tr th:only-of-type {\n",
       "        vertical-align: middle;\n",
       "    }\n",
       "\n",
       "    .dataframe tbody tr th {\n",
       "        vertical-align: top;\n",
       "    }\n",
       "\n",
       "    .dataframe thead th {\n",
       "        text-align: right;\n",
       "    }\n",
       "</style>\n",
       "<table border=\"1\" class=\"dataframe\">\n",
       "  <thead>\n",
       "    <tr style=\"text-align: right;\">\n",
       "      <th></th>\n",
       "      <th>Column</th>\n",
       "      <th>Mean Difference</th>\n",
       "      <th>Median Difference</th>\n",
       "      <th>KNN Difference</th>\n",
       "    </tr>\n",
       "  </thead>\n",
       "  <tbody>\n",
       "    <tr>\n",
       "      <th>0</th>\n",
       "      <td>bmi</td>\n",
       "      <td>0.069556</td>\n",
       "      <td>0.097299</td>\n",
       "      <td>0.051823</td>\n",
       "    </tr>\n",
       "    <tr>\n",
       "      <th>1</th>\n",
       "      <td>glycohemoglobin</td>\n",
       "      <td>0.131906</td>\n",
       "      <td>0.165118</td>\n",
       "      <td>0.062903</td>\n",
       "    </tr>\n",
       "    <tr>\n",
       "      <th>2</th>\n",
       "      <td>mode_freq</td>\n",
       "      <td>1.744275</td>\n",
       "      <td>1.832929</td>\n",
       "      <td>0.815943</td>\n",
       "    </tr>\n",
       "    <tr>\n",
       "      <th>3</th>\n",
       "      <td>mode_min</td>\n",
       "      <td>7.008896</td>\n",
       "      <td>8.679645</td>\n",
       "      <td>5.394402</td>\n",
       "    </tr>\n",
       "    <tr>\n",
       "      <th>4</th>\n",
       "      <td>sed_min</td>\n",
       "      <td>0.779453</td>\n",
       "      <td>1.193322</td>\n",
       "      <td>0.799348</td>\n",
       "    </tr>\n",
       "    <tr>\n",
       "      <th>5</th>\n",
       "      <td>k_calories</td>\n",
       "      <td>103.035263</td>\n",
       "      <td>129.525360</td>\n",
       "      <td>83.106942</td>\n",
       "    </tr>\n",
       "    <tr>\n",
       "      <th>6</th>\n",
       "      <td>carb</td>\n",
       "      <td>13.119987</td>\n",
       "      <td>16.735006</td>\n",
       "      <td>10.471078</td>\n",
       "    </tr>\n",
       "    <tr>\n",
       "      <th>7</th>\n",
       "      <td>sugar</td>\n",
       "      <td>8.065537</td>\n",
       "      <td>10.977931</td>\n",
       "      <td>6.464544</td>\n",
       "    </tr>\n",
       "    <tr>\n",
       "      <th>8</th>\n",
       "      <td>fat</td>\n",
       "      <td>5.444318</td>\n",
       "      <td>6.988298</td>\n",
       "      <td>4.299608</td>\n",
       "    </tr>\n",
       "  </tbody>\n",
       "</table>\n",
       "</div>"
      ],
      "text/plain": [
       "            Column  Mean Difference  Median Difference  KNN Difference\n",
       "0              bmi         0.069556           0.097299        0.051823\n",
       "1  glycohemoglobin         0.131906           0.165118        0.062903\n",
       "2        mode_freq         1.744275           1.832929        0.815943\n",
       "3         mode_min         7.008896           8.679645        5.394402\n",
       "4          sed_min         0.779453           1.193322        0.799348\n",
       "5       k_calories       103.035263         129.525360       83.106942\n",
       "6             carb        13.119987          16.735006       10.471078\n",
       "7            sugar         8.065537          10.977931        6.464544\n",
       "8              fat         5.444318           6.988298        4.299608"
      ]
     },
     "metadata": {},
     "output_type": "display_data"
    }
   ],
   "source": [
    "display(evaluation_data)"
   ]
  },
  {
   "cell_type": "markdown",
   "id": "87902033",
   "metadata": {},
   "source": [
    "We can see that the KNN imputation method has the lowest total deviation for all columns. This means that the KNN imputation method is the best method for this dataset. We will use the KNN imputation method for the rest of the analysis."
   ]
  },
  {
   "cell_type": "code",
   "execution_count": 49,
   "id": "bcd21b54-28d3-4f9a-8941-58aa4b411fd5",
   "metadata": {
    "tags": []
   },
   "outputs": [],
   "source": [
    "for col in numeric_cols:\n",
    "    clean_data[col] = data_knn[col]"
   ]
  },
  {
   "cell_type": "markdown",
   "id": "44a02e3d-707d-42b1-810f-4bdda01e662a",
   "metadata": {},
   "source": [
    "### C. Impute Categorical Columns\n",
    "\n",
    "For categorical columns, we can simply use the mode, retrieved by the `mode()` method to fill in the missing values.\n"
   ]
  },
  {
   "cell_type": "code",
   "execution_count": 50,
   "id": "f71231b6",
   "metadata": {},
   "outputs": [
    {
     "name": "stdout",
     "output_type": "stream",
     "text": [
      "Index(['gender', 'ethnicity', 'mode_unit', 'monthly_income_category',\n",
      "       'diagnosed'],\n",
      "      dtype='object')\n"
     ]
    }
   ],
   "source": [
    "categorical_cols = clean_data.select_dtypes(include=['category', 'object']).columns\n",
    "print(categorical_cols)"
   ]
  },
  {
   "cell_type": "code",
   "execution_count": 51,
   "id": "a07c7128",
   "metadata": {
    "tags": []
   },
   "outputs": [],
   "source": [
    "for col in categorical_cols:\n",
    "    clean_data[col].fillna(clean_data[col].mode()[0], inplace=True)"
   ]
  },
  {
   "cell_type": "markdown",
   "id": "fc5ed58f-a0ea-41d1-a89f-8f3805f9492d",
   "metadata": {},
   "source": [
    "### D. Final Observation"
   ]
  },
  {
   "cell_type": "markdown",
   "id": "053d18f5",
   "metadata": {},
   "source": [
    "We perform a final check on the cleaned dataset to ensure that all missing values have been properly handled by using `info()` method. This method provides a concise summary of the DataFrame, including the number of non-null values in each column and the data types."
   ]
  },
  {
   "cell_type": "code",
   "execution_count": 52,
   "id": "a71c06fe",
   "metadata": {
    "tags": []
   },
   "outputs": [
    {
     "name": "stdout",
     "output_type": "stream",
     "text": [
      "<class 'pandas.core.frame.DataFrame'>\n",
      "RangeIndex: 6337 entries, 0 to 6336\n",
      "Data columns (total 16 columns):\n",
      " #   Column                   Non-Null Count  Dtype   \n",
      "---  ------                   --------------  -----   \n",
      " 0   SEQN                     6337 non-null   float64 \n",
      " 1   gender                   6337 non-null   category\n",
      " 2   age                      6337 non-null   int64   \n",
      " 3   ethnicity                6337 non-null   category\n",
      " 4   bmi                      6337 non-null   float64 \n",
      " 5   glycohemoglobin          6337 non-null   float64 \n",
      " 6   mode_freq                6337 non-null   float64 \n",
      " 7   mode_unit                6337 non-null   category\n",
      " 8   mode_min                 6337 non-null   float64 \n",
      " 9   sed_min                  6337 non-null   float64 \n",
      " 10  monthly_income_category  6337 non-null   category\n",
      " 11  diagnosed                6337 non-null   category\n",
      " 12  k_calories               6337 non-null   float64 \n",
      " 13  carb                     6337 non-null   float64 \n",
      " 14  sugar                    6337 non-null   float64 \n",
      " 15  fat                      6337 non-null   float64 \n",
      "dtypes: category(5), float64(10), int64(1)\n",
      "memory usage: 576.5 KB\n",
      "None\n"
     ]
    }
   ],
   "source": [
    "print(clean_data.info())"
   ]
  },
  {
   "cell_type": "markdown",
   "id": "5b752e54",
   "metadata": {},
   "source": [
    "## IV. EDA and Data Visualization"
   ]
  },
  {
   "cell_type": "markdown",
   "id": "922d1eed",
   "metadata": {},
   "source": [
    "In this section, we will perform some exploratory data analysis (EDA) on the cleaned dataset, then visualize the analysis with various interative plots. As mentioned in the Introduction, we will focus on the diabetes risk fators and their relationship with the health level of the participants.\n",
    "\n",
    "We first analyze the distribution of diabetes status across all categorical variables, including age group, gender, ethnicity, and BMI category. This analysis will help us understand how these factors are associated with diabetes risk and identify any significant trends or patterns. \n",
    "\n",
    "The second analysis will focus on finding the major factors that lead to diabetes risk. We will use the Random Forest Classifier to identify the most important features in the dataset that contribute to diabetes risk. This analysis will help us understand the key factors that influence diabetes risk and inform future research and interventions.\n",
    "\n",
    "The next analysis will explore the relationship between income and diabetes risk. We will analyze the distribution of having diabetes across different income level from low to high and visualize the results using interactive plots. This analysis will help us understand how income affects diabetes risk and identify any significant trends or patterns.\n",
    "\n",
    "The final analysis will cluster the participants based on various factors. We will use the KMeans clustering algorithm to group the participants into different clusters based on their health level and diabetes risk factors. This analysis will help us identify any significant trends or patterns in the data and inform future research and interventions.\n",
    "\n",
    "The section will be divided into 5 subsections, the first one defining necessary functions and the remaining for analysis, each of which focusing on a different aspect of the data. We will use the `bokeh` library to visualize the results of each analysis and provide interactive plots that allow us to explore the data in more detail."
   ]
  },
  {
   "cell_type": "markdown",
   "id": "56da789b-8d15-4f6d-bfdf-d459e5491457",
   "metadata": {},
   "source": [
    "### A. Necessary Functions and Create New Columns"
   ]
  },
  {
   "cell_type": "markdown",
   "id": "d6fce3dc",
   "metadata": {},
   "source": [
    "Before we start the analysis, we need to define some necessary functions and create new columns in the dataset."
   ]
  },
  {
   "cell_type": "markdown",
   "id": "9c3bfd07-83e1-42e6-81c1-05e6040c7a75",
   "metadata": {},
   "source": [
    "#### 1. Determine diabetes status"
   ]
  },
  {
   "cell_type": "markdown",
   "id": "2c9df4a5",
   "metadata": {},
   "source": [
    "This function will determine the diabetes status of the participants based on their glycohemoglobin level and self-reported diabetes diagnosis. The function takes the glycohemoglobin level and self-reported diabetes diagnosis as input and returns the diabetes status as output.\n",
    "\n",
    "There are 4 possible diabetes status:\n",
    "- Normal\n",
    "- Prediabetes\n",
    "- Diagnosed Diabetes\n",
    "- Undiagnosed Diabetes"
   ]
  },
  {
   "cell_type": "code",
   "execution_count": 53,
   "id": "eed25f78-2d3a-4f7e-bd2d-9ae069d352c7",
   "metadata": {
    "tags": []
   },
   "outputs": [],
   "source": [
    "def diabetes_status(row):\n",
    "    if row['diagnosed'] == 1.0:\n",
    "        return 'Diagnosed Diabetes'\n",
    "    elif row['diagnosed'] != 1.0 and row['glycohemoglobin'] >= 6.5:\n",
    "        return 'Undiagnosed Diabetes'\n",
    "    elif row['diagnosed'] != 1.0 and 5.7 <= row['glycohemoglobin'] < 6.5:\n",
    "        return 'Prediabetes'\n",
    "    else:\n",
    "        return 'Normal'"
   ]
  },
  {
   "cell_type": "markdown",
   "id": "543efc65-4959-4414-80b2-a6a4c2033200",
   "metadata": {},
   "source": [
    "#### 2. Get age group"
   ]
  },
  {
   "cell_type": "markdown",
   "id": "82f156b9",
   "metadata": {},
   "source": [
    "This function will divide the age of the participants into a number of groups, where the number of groups is flexible. The function takes the age of the participants and the number of groups as input and returns the age group as output."
   ]
  },
  {
   "cell_type": "code",
   "execution_count": 54,
   "id": "70ce5847-ae00-43eb-ba14-31aa128cfbdc",
   "metadata": {
    "tags": []
   },
   "outputs": [],
   "source": [
    "def get_age_group(age, bin_size=10):\n",
    "    bin_start = (age // bin_size) * bin_size\n",
    "    max_regular_bin = 90\n",
    "    \n",
    "    if bin_start >= max_regular_bin:\n",
    "        return f\"{int(max_regular_bin)}+\"\n",
    "\n",
    "    bin_end = bin_start + bin_size - 1\n",
    "    return f\"{int(bin_start)}-{int(bin_end)}\""
   ]
  },
  {
   "cell_type": "markdown",
   "id": "5b74cbf7-0ded-4773-8a50-3ac1bdd3d8b0",
   "metadata": {},
   "source": [
    "#### 3. Get BMI Category "
   ]
  },
  {
   "cell_type": "markdown",
   "id": "c46eef82",
   "metadata": {},
   "source": [
    "This function will parse the BMI of the participants into 4 categories:\n",
    "- Underweight\n",
    "- Normal\n",
    "- Overweight\n",
    "- Obese"
   ]
  },
  {
   "cell_type": "code",
   "execution_count": 55,
   "id": "f2aa9368-528e-4076-baad-3a27753d262a",
   "metadata": {
    "tags": []
   },
   "outputs": [],
   "source": [
    "def determine_bmi(row):\n",
    "    if row['bmi'] < 18.5:\n",
    "        return 'Underweight'\n",
    "    elif 18.5 <= row['bmi'] < 25:\n",
    "        return 'Normal'\n",
    "    elif 25 <= row['bmi'] < 30:\n",
    "        return 'Overweight'\n",
    "    else:  # bmi >= 30\n",
    "        return 'Obese'"
   ]
  },
  {
   "cell_type": "markdown",
   "id": "71629e52-96ea-4a0c-8c23-29254f8c3ee4",
   "metadata": {},
   "source": [
    "#### 4. Create necessary columns"
   ]
  },
  {
   "cell_type": "markdown",
   "id": "670b63cf",
   "metadata": {},
   "source": [
    "Now we have all the necessary functions, we will create new columns in the dataset using the functions we defined earlier and other relevant information. \n",
    "\n",
    "First we will create a new column called `active_min`. This column will standardize the physical activity data by converting all activity durations to a common unit of minutes per week. Later in the analysis of major factors and clustering, we will use this column to apply in the Random Forest Classifier and KMeans clustering algorithm.\n",
    "\n",
    "We first map the unit codes to their corresponding multipliers, then calculate the frequency per week. Finally, we will calculate the total active minutes per week by multiplying the frequency and duration of each physical activity time.\n",
    "\n",
    "The table below shows the mapping of the unit codes to their corresponding multipliers:\n",
    "| Unit Code | Multiplier |\n",
    "|-----------|------------|\n",
    "| D         | 7          |\n",
    "| W         | 1          |\n",
    "| M         | 1/4.345    |\n",
    "| Y         | 1/52       |\n"
   ]
  },
  {
   "cell_type": "code",
   "execution_count": 56,
   "id": "a33bf47f-0e97-4963-a3fa-60481ae102cb",
   "metadata": {
    "tags": []
   },
   "outputs": [],
   "source": [
    "unit_to_week = {\n",
    "    'D': 7,\n",
    "    'W': 1,\n",
    "    'M': 1/4.345,\n",
    "    'Y': 1/52\n",
    "}\n",
    "\n",
    "clean_data['freq_factor'] = clean_data['mode_unit'].map(unit_to_week)\n",
    "clean_data['weekly_freq'] = clean_data['mode_freq'] * clean_data['freq_factor']\n",
    "clean_data['active_min'] = clean_data['weekly_freq'] * clean_data['mode_min']"
   ]
  },
  {
   "cell_type": "markdown",
   "id": "498d712b",
   "metadata": {},
   "source": [
    "We have the `active_min` column now, we then create a new 3 columns using the functions we defined earlier, including `diabetes_status`, `age_group`, and `bmi_cat` for diabetes status, age group, and BMI category respectively."
   ]
  },
  {
   "cell_type": "code",
   "execution_count": 57,
   "id": "39d684bf-a078-4b21-8509-8e1c22be31d8",
   "metadata": {
    "tags": []
   },
   "outputs": [],
   "source": [
    "clean_data['diabetes_status'] = clean_data.apply(diabetes_status, axis=1).astype('category')\n",
    "clean_data['age_group'] = clean_data['age'].apply(get_age_group)\n",
    "clean_data['bmi_cat'] = clean_data.apply(determine_bmi, axis=1).astype('category')"
   ]
  },
  {
   "cell_type": "markdown",
   "id": "2dcd4d08",
   "metadata": {},
   "source": [
    "The last necessary column we will create is `has_diabetes`. Besides the diabetes status, we should also create a binary column that indicates whether the participant has diabetes or not because we will use this column in the Random Forest Classifier and KMeans clustering algorithm. The function takes the diabetes status as input and returns 1 if the participant has diabetes and 0 if not."
   ]
  },
  {
   "cell_type": "code",
   "execution_count": 58,
   "id": "a42d8da9-8a82-4393-b475-d2866d1cf1bf",
   "metadata": {
    "tags": []
   },
   "outputs": [],
   "source": [
    "clean_data['has_diabetes'] = clean_data['diabetes_status'].isin(\n",
    "    ['Diagnosed Diabetes', 'Undiagnosed Diabetes']\n",
    ").astype(int)"
   ]
  },
  {
   "cell_type": "markdown",
   "id": "aa84c4a5-249f-4def-90cc-ade3bc99fcaa",
   "metadata": {},
   "source": [
    "### B. Diabetes Group By Categories"
   ]
  },
  {
   "cell_type": "markdown",
   "id": "01c98256-9925-4786-b663-8214d67d55f9",
   "metadata": {},
   "source": [
    "In this section, we will analyze the distribution of diabetes status across all categorical variables, including age group, BMI category, ethnicity, and gender. This analysis will help us understand how these factors are associated with diabetes risk and identify any significant trends or patterns. Additionally, the initial overview of the factors will help us determine which factors are most important for diabetes risk and inform future research and analysis for validation.\n",
    "\n",
    "For an effective observation of the distribution of diabetes status across different categorical variables, we will create an interactive stacked bar plot, which allows us to visualize the proportions of each diabetes status within each category. Along with the stacked bar plot for each categorical variable, we will also create a complete table to show the count of each diabetes status within each category.\n",
    "\n",
    "First we create a dropdown menu for different categorical variables to select from. The dropdown menu will allow us to select the categorical variable we want to see the distribution of diabetes status across. \n",
    "\n",
    "The dropdown menu will be created using the Dropdown widget from the `ipywidgets` library. \n",
    "- The `options` parameter will contain the list of categorical variables we want to select from. \n",
    "- The `value` parameter will contain the default value of the dropdown menu. \n",
    "- The `description` parameter will contain the label of the dropdown menu."
   ]
  },
  {
   "cell_type": "code",
   "execution_count": 59,
   "id": "43206cf2-a4a0-41f4-b5bb-053fb5e2731f",
   "metadata": {
    "tags": []
   },
   "outputs": [],
   "source": [
    "groupby_widget = Dropdown(\n",
    "    options=[\n",
    "        ('Age Group', 'age_group'), \n",
    "        ('BMI Categories', 'bmi_cat'),\n",
    "        ('Ethnicity', 'ethnicity'),\n",
    "        ('Gender', 'gender')],\n",
    "    value='age_group',\n",
    "    description='Group by:',\n",
    ")"
   ]
  },
  {
   "cell_type": "markdown",
   "id": "bf4e3ad2",
   "metadata": {},
   "source": [
    "Now we apply the widget to the function generating the interactive stacked bar plot. In this plot, we create a stacked bar plot using the `vbar_stack()` method, which allows us to stack the bars for each diabetes status within each category. The `x` parameter specifies the x-axis values, and the `color` parameter specifies the colors for each diabetes status. After that, we will show the plot using the `show()` method and display the table of the same data for the plot using `display()`."
   ]
  },
  {
   "cell_type": "code",
   "execution_count": 60,
   "id": "20abf846-9dec-4e6c-8af4-bc09b5944fa0",
   "metadata": {
    "tags": []
   },
   "outputs": [
    {
     "data": {
      "application/vnd.jupyter.widget-view+json": {
       "model_id": "b949fb24d89946078af1a863bb3b69f6",
       "version_major": 2,
       "version_minor": 0
      },
      "text/plain": [
       "interactive(children=(Dropdown(description='Group by:', options=(('Age Group', 'age_group'), ('BMI Categories'…"
      ]
     },
     "metadata": {},
     "output_type": "display_data"
    }
   ],
   "source": [
    "@interact(groupby_var=groupby_widget)\n",
    "def plot_diabetes_distribution(groupby_var):\n",
    "    category_label = groupby_widget.options[groupby_widget.index][0]\n",
    "    statuses = ['Diagnosed Diabetes', 'Undiagnosed Diabetes', 'Prediabetes', 'Normal']\n",
    "    palette = Category10[4][:4]\n",
    "\n",
    "    plot_data = clean_data.groupby([groupby_var, 'diabetes_status'], observed=True).size().unstack(fill_value=0)\n",
    "    props = plot_data.div(plot_data.sum(axis=1), axis=0)\n",
    "\n",
    "    x = list(plot_data.index.astype(str))\n",
    "    \n",
    "    source_data = {'x': x}\n",
    "    for status in statuses:\n",
    "        source_data[status] = props[status].values\n",
    "\n",
    "    p = figure(\n",
    "        title=f\"Diabetes Distribution by {category_label}\",\n",
    "        x_range=x, \n",
    "        height=400, width=800\n",
    "    )\n",
    "    \n",
    "    p.vbar_stack(statuses, x='x', width=0.6, color=palette, \n",
    "                 source=ColumnDataSource(source_data), legend_label=statuses)\n",
    "\n",
    "    p.yaxis.axis_label = \"Proportion\"\n",
    "    p.y_range = Range1d(0, 1)\n",
    "    legend = p.legend[0]\n",
    "    p.add_layout(legend, 'right')\n",
    "    p.xaxis.major_label_orientation = np.pi/6\n",
    "\n",
    "    show(p)\n",
    "    display(plot_data)"
   ]
  },
  {
   "cell_type": "markdown",
   "id": "6f46c71c",
   "metadata": {},
   "source": [
    "The figure for the distribution of diabetes diagnosis by age group demonstrates an age‑risk gradient: normal glucose dominates youth, pre‑diabetes emerges in the thirties, overt diabetes rises after mid‑life, and under‑diagnosis becomes a concern in later years. Specifically, diabetes is rare in people below 40 years old, where very few have glycohemoglobin problems. However, early glycohemoglobin drift starts in the 30-year-olds and in the 40s age band, one in three is already pre‑diabetic. For those 50 years old and onward, diagnosed diabetes alone tops approximately 20 %; when taking undiagnosed diabetes and pre‑diabetes into account, they take up half or more of the cohort. Undiagnosed diabetes advances after the age of 60, for which the proportion is lower than that of diagnosed, but clinically salient because these individuals are untreated. \n",
    "\n",
    "In addition, there is a similar BMI‑to‑diabetes pattern: the higher the BMI, the more profound the shift from normal to diabetic symptoms. Underweight and normal individuals rarely show dysglycaemia, even though the latter shows a modest pre‑diabetes load that is higher than that of the former. Elevated BMI that categorize people into overweight push many into pre‑diabetes and some into diagnosed diabetes. Obesity flips the ratio: approximately 55 % already have high glycohemoglobin levels, and diagnosed cases in this group are five‑fold higher than in the normal BMI. It is also worth noticing that undiagnosed cases stay marginal everywhere but do widen in the \"Obese\" bar, which suggests that screening still misses about 1 in 7 diabetic individuals at high BMI.\n",
    "\n",
    "Moreover, the chart for ethnicity quantifies a familiar but urgent public‑health message - diabetic risk is not distributed evenly by ethnicity, with Non‑Hispanic Black adults facing the steepest odds and Non‑Hispanic White adults the lowest. Diabetes (diagnosed and undiagnosed) affects roughly one in four Black adults, the highest among the ethnic groups. Undiagnosed diabetes is smaller than diagnosed in every group, but it doubles from roughly 2 % (\"Non-Hispanic White\") to 5 % (\"Non-Hispanic Black\" & \"Mexican American”), signaling detection gaps. On the other hand, Non-Hispanic Whites are the healthiest distribution, as two‑thirds are normoglycaemic. These ethnic differences in diabetic diagnosis can be explained by underlying systematic influences, such as socioeconomic factors, healthcare access, and structural inequities.\n",
    "\n",
    "Lastly, gender differences are modest. The proportion of males diagnosed with diabetes is about 2% higher than that of women. Prediabetes and undiagnosed proportions for both females and males are identical, indicating broadly similar metabolic trajectories and healthcare access across sexes in this NHANES wave."
   ]
  },
  {
   "cell_type": "markdown",
   "id": "b199f215-f3d4-47f4-bafb-532daeaa4400",
   "metadata": {},
   "source": [
    "### C. Applying Random Forest To Determine Major Factor of Diabetes."
   ]
  },
  {
   "cell_type": "markdown",
   "id": "6b6630b4",
   "metadata": {},
   "source": [
    "In this section, we will apply the Random Forest Classifier to identify the major factors that contribute to diabetes risk. The Random Forest Classifier is a powerful machine learning algorithm that can handle both categorical and continuous variables, making it suitable for this dataset. It works by constructing multiple decision trees and combining their predictions to improve accuracy and reduce overfitting. The Random Forest Classifier is particularly useful for feature selection, as it can provide insights into the importance of each feature in predicting the target variable.\n",
    "\n",
    "We will use the `RandomForestClassifier` class from the `sklearn.ensemble` module to perform the analysis. Before we do that, we need to follow a consistent process to prepare the data for the Random Forest Classifier.\n"
   ]
  },
  {
   "cell_type": "markdown",
   "id": "6f406b7e",
   "metadata": {},
   "source": [
    "#### 1. Define the target variable and features\n",
    "\n",
    "In terms of data preparation, we will separate the features and target variable, then split the data into training and testing sets. The target variable will be `has_diabetes`, while the features will include all other columns in the dataset."
   ]
  },
  {
   "cell_type": "code",
   "execution_count": 61,
   "id": "aeb67a70-2ae8-4478-a09a-d0dd01a4c2f0",
   "metadata": {
    "tags": []
   },
   "outputs": [],
   "source": [
    "factors = ['age', 'bmi', 'active_min', 'sed_min', 'k_calories', 'carb', 'sugar', 'fat']\n",
    "categorical_factors = ['gender', 'ethnicity', 'monthly_income_category']\n",
    "target = 'has_diabetes'"
   ]
  },
  {
   "cell_type": "markdown",
   "id": "18230274",
   "metadata": {},
   "source": [
    "#### 2. Expand the categorical variables for Random Forest Classifier\n",
    "\n",
    "Now because Random Forest Classifier can only handle numeric data, we need to convert the categorical variables into numeric format using one-hot encoding. This process creates binary columns for each category, allowing the Random Forest Classifier to interpret categorical data correctly.\n",
    "\n",
    "We will use the `pd.get_dummies()` method to do this. The `pd.get_dummies()` method takes the DataFrame as input and returns a new DataFrame with the categorical variables converted into binary columns."
   ]
  },
  {
   "cell_type": "code",
   "execution_count": 62,
   "id": "c91d6d4a-0b86-4b31-9043-7104468347bb",
   "metadata": {
    "tags": []
   },
   "outputs": [
    {
     "name": "stdout",
     "output_type": "stream",
     "text": [
      "Model data shape: (6337, 32)\n",
      "Number of features after one-hot encoding: 31\n"
     ]
    }
   ],
   "source": [
    "data_model = pd.get_dummies(clean_data, columns=categorical_factors)\n",
    "\n",
    "print(f\"Model data shape: {data_model.shape}\")\n",
    "print(f\"Number of features after one-hot encoding: {len(data_model.columns) - 1}\")"
   ]
  },
  {
   "cell_type": "markdown",
   "id": "0fd79c6a",
   "metadata": {},
   "source": [
    "We can see the model data shape after the one-hot encoding. The shape of the model data is (6337, 32), which means that we have 6337 rows and 32 columns. This means that we have 32 features to use for the Random Forest Classifier.\n"
   ]
  },
  {
   "cell_type": "markdown",
   "id": "7df01509",
   "metadata": {},
   "source": [
    "#### 3. Split the data into training and testing sets\n",
    "\n",
    "Afterwards, we will define the X and y variables for the Random Forest Classifier. The `X` variable contains all the features, while the `y` variable contains the target variable. We will use the `train_test_split()` method from the `sklearn.model_selection` module to split the data into training and testing sets.\n",
    "\n",
    "In this case, we set the `test_size` parameter to 0.3, which means that 30% of the data will be used for testing and 70% for training. We also set the `random_state` parameter to 42 to ensure that the results are reproducible. This is because the `train_test_split()` method randomly splits the data into training and testing sets, setting the `random_state` parameter ensures that the same random split is used each time we run the code."
   ]
  },
  {
   "cell_type": "code",
   "execution_count": 63,
   "id": "71efeed7-3c0c-42c1-8af9-92db740e5f08",
   "metadata": {
    "tags": []
   },
   "outputs": [
    {
     "name": "stdout",
     "output_type": "stream",
     "text": [
      "Training set: 4435 samples\n",
      "Test set: 1902 samples\n"
     ]
    }
   ],
   "source": [
    "X = data_model[factors + [col for col in data_model.columns if any(cat in col for cat in categorical_factors)]]\n",
    "y = data_model[target]\n",
    "\n",
    "X_train, X_test, y_train, y_test = train_test_split(X, y, test_size=0.3, random_state=42)\n",
    "\n",
    "print(f\"Training set: {X_train.shape[0]} samples\")\n",
    "print(f\"Test set: {X_test.shape[0]} samples\")\n"
   ]
  },
  {
   "cell_type": "markdown",
   "id": "5a52db5c",
   "metadata": {},
   "source": [
    "After splitting the data into training and testing sets, we can see the number of samples in the training and testing sets. The training set contains 4435 samples, while the testing set contains 1902 samples. Look like we have a good amount of data to train the model and test its performance.\n"
   ]
  },
  {
   "cell_type": "markdown",
   "id": "1ea5e283",
   "metadata": {},
   "source": [
    "#### 4. Standardize the factors and train the model\n",
    "\n",
    "Now we will create a scaler object to standardize the features. Standardization is important because it ensures that all features have the same scale, which can improve the performance of the Random Forest Classifier.\n",
    "\n",
    "We will create a `StandardScaler` object and use the `fit_transform()` method to standardize the training data. We will then use the `transform()` method to standardize the testing data."
   ]
  },
  {
   "cell_type": "code",
   "execution_count": 64,
   "id": "e92f3a69-9b88-4ac4-a419-d56fa451a623",
   "metadata": {
    "tags": []
   },
   "outputs": [],
   "source": [
    "scaler = StandardScaler()\n",
    "X_train_scaled = X_train.copy()\n",
    "X_test_scaled = X_test.copy()\n",
    "\n",
    "for factor in factors:\n",
    "    X_train_scaled[factor] = scaler.fit_transform(X_train[[factor]])\n",
    "    X_test_scaled[factor] = scaler.transform(X_test[[factor]])"
   ]
  },
  {
   "cell_type": "markdown",
   "id": "eb6a962d",
   "metadata": {},
   "source": [
    "Now we will train the Random Forest Classifier on the scaled training data. First we create a `RandomForestClassifier` object and set the number of estimators to 100. The `n_estimators` parameter specifies the number of trees in the forest. We then use the `fit()` method to train the model on the scaled training data. We set the number of estimators to 100 to ensure that the model is robust and can handle the complexity of the data, and the `random_state` parameter to 42 to be similar to the previous steps.\n"
   ]
  },
  {
   "cell_type": "code",
   "execution_count": 65,
   "id": "85cd9632-5d45-4b07-a8b9-d24a12dc019d",
   "metadata": {
    "tags": []
   },
   "outputs": [
    {
     "data": {
      "text/html": [
       "<style>#sk-container-id-1 {\n",
       "  /* Definition of color scheme common for light and dark mode */\n",
       "  --sklearn-color-text: #000;\n",
       "  --sklearn-color-text-muted: #666;\n",
       "  --sklearn-color-line: gray;\n",
       "  /* Definition of color scheme for unfitted estimators */\n",
       "  --sklearn-color-unfitted-level-0: #fff5e6;\n",
       "  --sklearn-color-unfitted-level-1: #f6e4d2;\n",
       "  --sklearn-color-unfitted-level-2: #ffe0b3;\n",
       "  --sklearn-color-unfitted-level-3: chocolate;\n",
       "  /* Definition of color scheme for fitted estimators */\n",
       "  --sklearn-color-fitted-level-0: #f0f8ff;\n",
       "  --sklearn-color-fitted-level-1: #d4ebff;\n",
       "  --sklearn-color-fitted-level-2: #b3dbfd;\n",
       "  --sklearn-color-fitted-level-3: cornflowerblue;\n",
       "\n",
       "  /* Specific color for light theme */\n",
       "  --sklearn-color-text-on-default-background: var(--sg-text-color, var(--theme-code-foreground, var(--jp-content-font-color1, black)));\n",
       "  --sklearn-color-background: var(--sg-background-color, var(--theme-background, var(--jp-layout-color0, white)));\n",
       "  --sklearn-color-border-box: var(--sg-text-color, var(--theme-code-foreground, var(--jp-content-font-color1, black)));\n",
       "  --sklearn-color-icon: #696969;\n",
       "\n",
       "  @media (prefers-color-scheme: dark) {\n",
       "    /* Redefinition of color scheme for dark theme */\n",
       "    --sklearn-color-text-on-default-background: var(--sg-text-color, var(--theme-code-foreground, var(--jp-content-font-color1, white)));\n",
       "    --sklearn-color-background: var(--sg-background-color, var(--theme-background, var(--jp-layout-color0, #111)));\n",
       "    --sklearn-color-border-box: var(--sg-text-color, var(--theme-code-foreground, var(--jp-content-font-color1, white)));\n",
       "    --sklearn-color-icon: #878787;\n",
       "  }\n",
       "}\n",
       "\n",
       "#sk-container-id-1 {\n",
       "  color: var(--sklearn-color-text);\n",
       "}\n",
       "\n",
       "#sk-container-id-1 pre {\n",
       "  padding: 0;\n",
       "}\n",
       "\n",
       "#sk-container-id-1 input.sk-hidden--visually {\n",
       "  border: 0;\n",
       "  clip: rect(1px 1px 1px 1px);\n",
       "  clip: rect(1px, 1px, 1px, 1px);\n",
       "  height: 1px;\n",
       "  margin: -1px;\n",
       "  overflow: hidden;\n",
       "  padding: 0;\n",
       "  position: absolute;\n",
       "  width: 1px;\n",
       "}\n",
       "\n",
       "#sk-container-id-1 div.sk-dashed-wrapped {\n",
       "  border: 1px dashed var(--sklearn-color-line);\n",
       "  margin: 0 0.4em 0.5em 0.4em;\n",
       "  box-sizing: border-box;\n",
       "  padding-bottom: 0.4em;\n",
       "  background-color: var(--sklearn-color-background);\n",
       "}\n",
       "\n",
       "#sk-container-id-1 div.sk-container {\n",
       "  /* jupyter's `normalize.less` sets `[hidden] { display: none; }`\n",
       "     but bootstrap.min.css set `[hidden] { display: none !important; }`\n",
       "     so we also need the `!important` here to be able to override the\n",
       "     default hidden behavior on the sphinx rendered scikit-learn.org.\n",
       "     See: https://github.com/scikit-learn/scikit-learn/issues/21755 */\n",
       "  display: inline-block !important;\n",
       "  position: relative;\n",
       "}\n",
       "\n",
       "#sk-container-id-1 div.sk-text-repr-fallback {\n",
       "  display: none;\n",
       "}\n",
       "\n",
       "div.sk-parallel-item,\n",
       "div.sk-serial,\n",
       "div.sk-item {\n",
       "  /* draw centered vertical line to link estimators */\n",
       "  background-image: linear-gradient(var(--sklearn-color-text-on-default-background), var(--sklearn-color-text-on-default-background));\n",
       "  background-size: 2px 100%;\n",
       "  background-repeat: no-repeat;\n",
       "  background-position: center center;\n",
       "}\n",
       "\n",
       "/* Parallel-specific style estimator block */\n",
       "\n",
       "#sk-container-id-1 div.sk-parallel-item::after {\n",
       "  content: \"\";\n",
       "  width: 100%;\n",
       "  border-bottom: 2px solid var(--sklearn-color-text-on-default-background);\n",
       "  flex-grow: 1;\n",
       "}\n",
       "\n",
       "#sk-container-id-1 div.sk-parallel {\n",
       "  display: flex;\n",
       "  align-items: stretch;\n",
       "  justify-content: center;\n",
       "  background-color: var(--sklearn-color-background);\n",
       "  position: relative;\n",
       "}\n",
       "\n",
       "#sk-container-id-1 div.sk-parallel-item {\n",
       "  display: flex;\n",
       "  flex-direction: column;\n",
       "}\n",
       "\n",
       "#sk-container-id-1 div.sk-parallel-item:first-child::after {\n",
       "  align-self: flex-end;\n",
       "  width: 50%;\n",
       "}\n",
       "\n",
       "#sk-container-id-1 div.sk-parallel-item:last-child::after {\n",
       "  align-self: flex-start;\n",
       "  width: 50%;\n",
       "}\n",
       "\n",
       "#sk-container-id-1 div.sk-parallel-item:only-child::after {\n",
       "  width: 0;\n",
       "}\n",
       "\n",
       "/* Serial-specific style estimator block */\n",
       "\n",
       "#sk-container-id-1 div.sk-serial {\n",
       "  display: flex;\n",
       "  flex-direction: column;\n",
       "  align-items: center;\n",
       "  background-color: var(--sklearn-color-background);\n",
       "  padding-right: 1em;\n",
       "  padding-left: 1em;\n",
       "}\n",
       "\n",
       "\n",
       "/* Toggleable style: style used for estimator/Pipeline/ColumnTransformer box that is\n",
       "clickable and can be expanded/collapsed.\n",
       "- Pipeline and ColumnTransformer use this feature and define the default style\n",
       "- Estimators will overwrite some part of the style using the `sk-estimator` class\n",
       "*/\n",
       "\n",
       "/* Pipeline and ColumnTransformer style (default) */\n",
       "\n",
       "#sk-container-id-1 div.sk-toggleable {\n",
       "  /* Default theme specific background. It is overwritten whether we have a\n",
       "  specific estimator or a Pipeline/ColumnTransformer */\n",
       "  background-color: var(--sklearn-color-background);\n",
       "}\n",
       "\n",
       "/* Toggleable label */\n",
       "#sk-container-id-1 label.sk-toggleable__label {\n",
       "  cursor: pointer;\n",
       "  display: flex;\n",
       "  width: 100%;\n",
       "  margin-bottom: 0;\n",
       "  padding: 0.5em;\n",
       "  box-sizing: border-box;\n",
       "  text-align: center;\n",
       "  align-items: start;\n",
       "  justify-content: space-between;\n",
       "  gap: 0.5em;\n",
       "}\n",
       "\n",
       "#sk-container-id-1 label.sk-toggleable__label .caption {\n",
       "  font-size: 0.6rem;\n",
       "  font-weight: lighter;\n",
       "  color: var(--sklearn-color-text-muted);\n",
       "}\n",
       "\n",
       "#sk-container-id-1 label.sk-toggleable__label-arrow:before {\n",
       "  /* Arrow on the left of the label */\n",
       "  content: \"▸\";\n",
       "  float: left;\n",
       "  margin-right: 0.25em;\n",
       "  color: var(--sklearn-color-icon);\n",
       "}\n",
       "\n",
       "#sk-container-id-1 label.sk-toggleable__label-arrow:hover:before {\n",
       "  color: var(--sklearn-color-text);\n",
       "}\n",
       "\n",
       "/* Toggleable content - dropdown */\n",
       "\n",
       "#sk-container-id-1 div.sk-toggleable__content {\n",
       "  max-height: 0;\n",
       "  max-width: 0;\n",
       "  overflow: hidden;\n",
       "  text-align: left;\n",
       "  /* unfitted */\n",
       "  background-color: var(--sklearn-color-unfitted-level-0);\n",
       "}\n",
       "\n",
       "#sk-container-id-1 div.sk-toggleable__content.fitted {\n",
       "  /* fitted */\n",
       "  background-color: var(--sklearn-color-fitted-level-0);\n",
       "}\n",
       "\n",
       "#sk-container-id-1 div.sk-toggleable__content pre {\n",
       "  margin: 0.2em;\n",
       "  border-radius: 0.25em;\n",
       "  color: var(--sklearn-color-text);\n",
       "  /* unfitted */\n",
       "  background-color: var(--sklearn-color-unfitted-level-0);\n",
       "}\n",
       "\n",
       "#sk-container-id-1 div.sk-toggleable__content.fitted pre {\n",
       "  /* unfitted */\n",
       "  background-color: var(--sklearn-color-fitted-level-0);\n",
       "}\n",
       "\n",
       "#sk-container-id-1 input.sk-toggleable__control:checked~div.sk-toggleable__content {\n",
       "  /* Expand drop-down */\n",
       "  max-height: 200px;\n",
       "  max-width: 100%;\n",
       "  overflow: auto;\n",
       "}\n",
       "\n",
       "#sk-container-id-1 input.sk-toggleable__control:checked~label.sk-toggleable__label-arrow:before {\n",
       "  content: \"▾\";\n",
       "}\n",
       "\n",
       "/* Pipeline/ColumnTransformer-specific style */\n",
       "\n",
       "#sk-container-id-1 div.sk-label input.sk-toggleable__control:checked~label.sk-toggleable__label {\n",
       "  color: var(--sklearn-color-text);\n",
       "  background-color: var(--sklearn-color-unfitted-level-2);\n",
       "}\n",
       "\n",
       "#sk-container-id-1 div.sk-label.fitted input.sk-toggleable__control:checked~label.sk-toggleable__label {\n",
       "  background-color: var(--sklearn-color-fitted-level-2);\n",
       "}\n",
       "\n",
       "/* Estimator-specific style */\n",
       "\n",
       "/* Colorize estimator box */\n",
       "#sk-container-id-1 div.sk-estimator input.sk-toggleable__control:checked~label.sk-toggleable__label {\n",
       "  /* unfitted */\n",
       "  background-color: var(--sklearn-color-unfitted-level-2);\n",
       "}\n",
       "\n",
       "#sk-container-id-1 div.sk-estimator.fitted input.sk-toggleable__control:checked~label.sk-toggleable__label {\n",
       "  /* fitted */\n",
       "  background-color: var(--sklearn-color-fitted-level-2);\n",
       "}\n",
       "\n",
       "#sk-container-id-1 div.sk-label label.sk-toggleable__label,\n",
       "#sk-container-id-1 div.sk-label label {\n",
       "  /* The background is the default theme color */\n",
       "  color: var(--sklearn-color-text-on-default-background);\n",
       "}\n",
       "\n",
       "/* On hover, darken the color of the background */\n",
       "#sk-container-id-1 div.sk-label:hover label.sk-toggleable__label {\n",
       "  color: var(--sklearn-color-text);\n",
       "  background-color: var(--sklearn-color-unfitted-level-2);\n",
       "}\n",
       "\n",
       "/* Label box, darken color on hover, fitted */\n",
       "#sk-container-id-1 div.sk-label.fitted:hover label.sk-toggleable__label.fitted {\n",
       "  color: var(--sklearn-color-text);\n",
       "  background-color: var(--sklearn-color-fitted-level-2);\n",
       "}\n",
       "\n",
       "/* Estimator label */\n",
       "\n",
       "#sk-container-id-1 div.sk-label label {\n",
       "  font-family: monospace;\n",
       "  font-weight: bold;\n",
       "  display: inline-block;\n",
       "  line-height: 1.2em;\n",
       "}\n",
       "\n",
       "#sk-container-id-1 div.sk-label-container {\n",
       "  text-align: center;\n",
       "}\n",
       "\n",
       "/* Estimator-specific */\n",
       "#sk-container-id-1 div.sk-estimator {\n",
       "  font-family: monospace;\n",
       "  border: 1px dotted var(--sklearn-color-border-box);\n",
       "  border-radius: 0.25em;\n",
       "  box-sizing: border-box;\n",
       "  margin-bottom: 0.5em;\n",
       "  /* unfitted */\n",
       "  background-color: var(--sklearn-color-unfitted-level-0);\n",
       "}\n",
       "\n",
       "#sk-container-id-1 div.sk-estimator.fitted {\n",
       "  /* fitted */\n",
       "  background-color: var(--sklearn-color-fitted-level-0);\n",
       "}\n",
       "\n",
       "/* on hover */\n",
       "#sk-container-id-1 div.sk-estimator:hover {\n",
       "  /* unfitted */\n",
       "  background-color: var(--sklearn-color-unfitted-level-2);\n",
       "}\n",
       "\n",
       "#sk-container-id-1 div.sk-estimator.fitted:hover {\n",
       "  /* fitted */\n",
       "  background-color: var(--sklearn-color-fitted-level-2);\n",
       "}\n",
       "\n",
       "/* Specification for estimator info (e.g. \"i\" and \"?\") */\n",
       "\n",
       "/* Common style for \"i\" and \"?\" */\n",
       "\n",
       ".sk-estimator-doc-link,\n",
       "a:link.sk-estimator-doc-link,\n",
       "a:visited.sk-estimator-doc-link {\n",
       "  float: right;\n",
       "  font-size: smaller;\n",
       "  line-height: 1em;\n",
       "  font-family: monospace;\n",
       "  background-color: var(--sklearn-color-background);\n",
       "  border-radius: 1em;\n",
       "  height: 1em;\n",
       "  width: 1em;\n",
       "  text-decoration: none !important;\n",
       "  margin-left: 0.5em;\n",
       "  text-align: center;\n",
       "  /* unfitted */\n",
       "  border: var(--sklearn-color-unfitted-level-1) 1pt solid;\n",
       "  color: var(--sklearn-color-unfitted-level-1);\n",
       "}\n",
       "\n",
       ".sk-estimator-doc-link.fitted,\n",
       "a:link.sk-estimator-doc-link.fitted,\n",
       "a:visited.sk-estimator-doc-link.fitted {\n",
       "  /* fitted */\n",
       "  border: var(--sklearn-color-fitted-level-1) 1pt solid;\n",
       "  color: var(--sklearn-color-fitted-level-1);\n",
       "}\n",
       "\n",
       "/* On hover */\n",
       "div.sk-estimator:hover .sk-estimator-doc-link:hover,\n",
       ".sk-estimator-doc-link:hover,\n",
       "div.sk-label-container:hover .sk-estimator-doc-link:hover,\n",
       ".sk-estimator-doc-link:hover {\n",
       "  /* unfitted */\n",
       "  background-color: var(--sklearn-color-unfitted-level-3);\n",
       "  color: var(--sklearn-color-background);\n",
       "  text-decoration: none;\n",
       "}\n",
       "\n",
       "div.sk-estimator.fitted:hover .sk-estimator-doc-link.fitted:hover,\n",
       ".sk-estimator-doc-link.fitted:hover,\n",
       "div.sk-label-container:hover .sk-estimator-doc-link.fitted:hover,\n",
       ".sk-estimator-doc-link.fitted:hover {\n",
       "  /* fitted */\n",
       "  background-color: var(--sklearn-color-fitted-level-3);\n",
       "  color: var(--sklearn-color-background);\n",
       "  text-decoration: none;\n",
       "}\n",
       "\n",
       "/* Span, style for the box shown on hovering the info icon */\n",
       ".sk-estimator-doc-link span {\n",
       "  display: none;\n",
       "  z-index: 9999;\n",
       "  position: relative;\n",
       "  font-weight: normal;\n",
       "  right: .2ex;\n",
       "  padding: .5ex;\n",
       "  margin: .5ex;\n",
       "  width: min-content;\n",
       "  min-width: 20ex;\n",
       "  max-width: 50ex;\n",
       "  color: var(--sklearn-color-text);\n",
       "  box-shadow: 2pt 2pt 4pt #999;\n",
       "  /* unfitted */\n",
       "  background: var(--sklearn-color-unfitted-level-0);\n",
       "  border: .5pt solid var(--sklearn-color-unfitted-level-3);\n",
       "}\n",
       "\n",
       ".sk-estimator-doc-link.fitted span {\n",
       "  /* fitted */\n",
       "  background: var(--sklearn-color-fitted-level-0);\n",
       "  border: var(--sklearn-color-fitted-level-3);\n",
       "}\n",
       "\n",
       ".sk-estimator-doc-link:hover span {\n",
       "  display: block;\n",
       "}\n",
       "\n",
       "/* \"?\"-specific style due to the `<a>` HTML tag */\n",
       "\n",
       "#sk-container-id-1 a.estimator_doc_link {\n",
       "  float: right;\n",
       "  font-size: 1rem;\n",
       "  line-height: 1em;\n",
       "  font-family: monospace;\n",
       "  background-color: var(--sklearn-color-background);\n",
       "  border-radius: 1rem;\n",
       "  height: 1rem;\n",
       "  width: 1rem;\n",
       "  text-decoration: none;\n",
       "  /* unfitted */\n",
       "  color: var(--sklearn-color-unfitted-level-1);\n",
       "  border: var(--sklearn-color-unfitted-level-1) 1pt solid;\n",
       "}\n",
       "\n",
       "#sk-container-id-1 a.estimator_doc_link.fitted {\n",
       "  /* fitted */\n",
       "  border: var(--sklearn-color-fitted-level-1) 1pt solid;\n",
       "  color: var(--sklearn-color-fitted-level-1);\n",
       "}\n",
       "\n",
       "/* On hover */\n",
       "#sk-container-id-1 a.estimator_doc_link:hover {\n",
       "  /* unfitted */\n",
       "  background-color: var(--sklearn-color-unfitted-level-3);\n",
       "  color: var(--sklearn-color-background);\n",
       "  text-decoration: none;\n",
       "}\n",
       "\n",
       "#sk-container-id-1 a.estimator_doc_link.fitted:hover {\n",
       "  /* fitted */\n",
       "  background-color: var(--sklearn-color-fitted-level-3);\n",
       "}\n",
       "</style><div id=\"sk-container-id-1\" class=\"sk-top-container\"><div class=\"sk-text-repr-fallback\"><pre>RandomForestClassifier(random_state=42)</pre><b>In a Jupyter environment, please rerun this cell to show the HTML representation or trust the notebook. <br />On GitHub, the HTML representation is unable to render, please try loading this page with nbviewer.org.</b></div><div class=\"sk-container\" hidden><div class=\"sk-item\"><div class=\"sk-estimator fitted sk-toggleable\"><input class=\"sk-toggleable__control sk-hidden--visually\" id=\"sk-estimator-id-1\" type=\"checkbox\" checked><label for=\"sk-estimator-id-1\" class=\"sk-toggleable__label fitted sk-toggleable__label-arrow\"><div><div>RandomForestClassifier</div></div><div><a class=\"sk-estimator-doc-link fitted\" rel=\"noreferrer\" target=\"_blank\" href=\"https://scikit-learn.org/1.6/modules/generated/sklearn.ensemble.RandomForestClassifier.html\">?<span>Documentation for RandomForestClassifier</span></a><span class=\"sk-estimator-doc-link fitted\">i<span>Fitted</span></span></div></label><div class=\"sk-toggleable__content fitted\"><pre>RandomForestClassifier(random_state=42)</pre></div> </div></div></div></div>"
      ],
      "text/plain": [
       "RandomForestClassifier(random_state=42)"
      ]
     },
     "execution_count": 65,
     "metadata": {},
     "output_type": "execute_result"
    }
   ],
   "source": [
    "rf = RandomForestClassifier(n_estimators=100, random_state=42)\n",
    "rf.fit(X_train_scaled, y_train)\n"
   ]
  },
  {
   "cell_type": "markdown",
   "id": "2f092e1d",
   "metadata": {},
   "source": [
    "#### 5. Retrieve the feature importance\n",
    "\n",
    "After those steps above, we have the data about the factor importance. The `feature_importances_` attribute of the Random Forest Classifier object contains the importance of each feature in predicting the target variable. We will create a DataFrame to show the factor importance and sort it by importance in descending order.\n",
    "\n",
    "We will use the `pd.DataFrame()` method to create a DataFrame from the feature importances. The DataFrame will contain two columns: `Factor` and `Importance`. The `Factor` column will contain the names of the features, while the `Importance` column will contain the importance of each feature. We will then sort the DataFrame by importance in descending order.\n",
    "\n",
    "Finally, we will display the top 5 most important factors using the `display()` method.\n"
   ]
  },
  {
   "cell_type": "code",
   "execution_count": 66,
   "id": "0e070a46-ff5e-4a7a-a1f2-41ee3f0aeabf",
   "metadata": {
    "tags": []
   },
   "outputs": [
    {
     "data": {
      "text/html": [
       "<div>\n",
       "<style scoped>\n",
       "    .dataframe tbody tr th:only-of-type {\n",
       "        vertical-align: middle;\n",
       "    }\n",
       "\n",
       "    .dataframe tbody tr th {\n",
       "        vertical-align: top;\n",
       "    }\n",
       "\n",
       "    .dataframe thead th {\n",
       "        text-align: right;\n",
       "    }\n",
       "</style>\n",
       "<table border=\"1\" class=\"dataframe\">\n",
       "  <thead>\n",
       "    <tr style=\"text-align: right;\">\n",
       "      <th></th>\n",
       "      <th>Factor</th>\n",
       "      <th>Importance</th>\n",
       "    </tr>\n",
       "  </thead>\n",
       "  <tbody>\n",
       "    <tr>\n",
       "      <th>0</th>\n",
       "      <td>age</td>\n",
       "      <td>0.150258</td>\n",
       "    </tr>\n",
       "    <tr>\n",
       "      <th>1</th>\n",
       "      <td>bmi</td>\n",
       "      <td>0.142674</td>\n",
       "    </tr>\n",
       "    <tr>\n",
       "      <th>7</th>\n",
       "      <td>fat</td>\n",
       "      <td>0.108397</td>\n",
       "    </tr>\n",
       "    <tr>\n",
       "      <th>6</th>\n",
       "      <td>sugar</td>\n",
       "      <td>0.108273</td>\n",
       "    </tr>\n",
       "    <tr>\n",
       "      <th>4</th>\n",
       "      <td>k_calories</td>\n",
       "      <td>0.105579</td>\n",
       "    </tr>\n",
       "  </tbody>\n",
       "</table>\n",
       "</div>"
      ],
      "text/plain": [
       "       Factor  Importance\n",
       "0         age    0.150258\n",
       "1         bmi    0.142674\n",
       "7         fat    0.108397\n",
       "6       sugar    0.108273\n",
       "4  k_calories    0.105579"
      ]
     },
     "metadata": {},
     "output_type": "display_data"
    }
   ],
   "source": [
    "factor_importance = pd.DataFrame({\n",
    "    'Factor': X_train_scaled.columns,\n",
    "    'Importance': rf.feature_importances_\n",
    "}).sort_values('Importance', ascending=False)\n",
    "\n",
    "display(factor_importance.head(5))"
   ]
  },
  {
   "cell_type": "markdown",
   "id": "3d00d960",
   "metadata": {},
   "source": [
    "Look at the top 5 most important factors, we can see that the rank is quite meaningful to the previous section of distribution of diabetes across different categorical variables and even in real world.\n"
   ]
  },
  {
   "cell_type": "markdown",
   "id": "517cfd72",
   "metadata": {},
   "source": [
    "#### 6. Data Visualization of Feature Importance\n",
    "\n",
    "Now from that information, we can visualize the factor importance using a horizontal bar plot. The horizontal bar plot will show the importance of each feature in predicting the target variable. \n",
    "\n",
    "Additionally, we also draw a ROC curve to show the performance of the model. The ROC curve is a graphical representation of the performance of a binary classifier system as its discrimination threshold is varied. The area under the ROC curve (AUC) is a measure of the accuracy of the classifier, with a value of 1 indicating perfect accuracy and a value of 0.5 indicating no discrimination. A good classifier should have an AUC value greater than 0.7, while a value greater than 0.8 is considered excellent."
   ]
  },
  {
   "cell_type": "markdown",
   "id": "aa6237a9",
   "metadata": {},
   "source": [
    "##### a. AUC Score\n",
    "\n",
    "To calculate the AUC score, we first need to get the predicted probabilities of the positive class using the `predict_proba()` method. The `predict_proba()` method returns the predicted probabilities for each class, and we will use the probabilities of the positive class (class 1) for the ROC curve.\n",
    "\n",
    "We then use the `roc_curve()` function from the `sklearn.metrics` module to calculate the false positive rate (FPR), true positive rate (TPR), and thresholds for the ROC curve. The `roc_curve()` function takes the true labels and predicted probabilities as input and returns the FPR, TPR, and thresholds.\n",
    "\n",
    "Finally, we use the `auc()` function from the same module to calculate the AUC score through the FPR and TPR."
   ]
  },
  {
   "cell_type": "code",
   "execution_count": 67,
   "id": "37e896b4-e9f6-4e95-9913-08ec37e05e7c",
   "metadata": {
    "tags": []
   },
   "outputs": [
    {
     "name": "stdout",
     "output_type": "stream",
     "text": [
      "ROC AUC Score: 0.741\n"
     ]
    }
   ],
   "source": [
    "y_pred_proba = rf.predict_proba(X_test_scaled)[:, 1]\n",
    "\n",
    "fpr, tpr, thresholds = roc_curve(y_test, y_pred_proba)\n",
    "roc_auc = auc(fpr, tpr)\n",
    "\n",
    "print(f\"ROC AUC Score: {roc_auc:.3f}\")"
   ]
  },
  {
   "cell_type": "markdown",
   "id": "494f5fcd",
   "metadata": {},
   "source": [
    "As we can see, the AUC score is 0.737 (> 0.7), which indicates that the model has a sufficiently good performance in predicting diabetes risk."
   ]
  },
  {
   "cell_type": "markdown",
   "id": "274f95eb",
   "metadata": {},
   "source": [
    "##### b. Data Visualization\n",
    "\n",
    "Now we can visualize the interactive plot for the feature importance and ROC curve. First, we define the dropdown menu for the plot. \n",
    "- The Dropdown menu will allow us to select the plot we want to see. \n",
    "- The IntSlider widget will allow us to select the number of features we want to see in the feature importance plot.\n"
   ]
  },
  {
   "cell_type": "code",
   "execution_count": 68,
   "id": "c13098a7-c267-4468-8c07-14adf607d27c",
   "metadata": {
    "tags": []
   },
   "outputs": [],
   "source": [
    "plot_type = Dropdown(\n",
    "    options=[('Factor Importance', 'importance'), ('ROC Curve', 'roc')],\n",
    "    value='importance',\n",
    "    description='Plot type:',\n",
    ")\n",
    "factor_num = IntSlider(\n",
    "    min=3, max=len(factor_importance), \n",
    "    step=1, value=10,\n",
    "    description='Top features:'\n",
    ")"
   ]
  },
  {
   "cell_type": "markdown",
   "id": "331638bf",
   "metadata": {},
   "source": [
    "Now we define 2 functions to plot the feature importance and ROC curve. The first function will plot the feature importance, while the second function will plot the ROC curve.\n",
    "\n",
    "The first function will plot the feature importance using the `hbar()` method, which allows us to create a horizontal bar plot."
   ]
  },
  {
   "cell_type": "code",
   "execution_count": 69,
   "id": "138ed2a4-135e-4861-a2e4-874b967bce8c",
   "metadata": {
    "tags": []
   },
   "outputs": [],
   "source": [
    "def plot_feature_importance(factor_num):\n",
    "    top = factor_importance.iloc[:factor_num].iloc[::-1]\n",
    "    p = figure(\n",
    "        title=\"Factor Importance\",\n",
    "        y_range=top['Factor'].tolist(),\n",
    "        height=400, width=800\n",
    "    )\n",
    "    bars = p.hbar(\n",
    "        y='Factor', right='Importance', height=0.7,\n",
    "        source=top\n",
    "    )\n",
    "    p.add_tools(HoverTool(\n",
    "        renderers=[bars],\n",
    "        tooltips=[(\"Factor\", \"@Factor\"), (\"Importance\", \"@Importance{0.00}\")]\n",
    "    ))\n",
    "    p.xaxis.axis_label = \"Importance\"\n",
    "    show(p)"
   ]
  },
  {
   "cell_type": "markdown",
   "id": "0b36a910",
   "metadata": {},
   "source": [
    "The second function will plot the ROC curve using the `line()` method, which allows us to create a line plot.\n"
   ]
  },
  {
   "cell_type": "code",
   "execution_count": 70,
   "id": "83e1ea86-f39a-469b-843b-abbfe1580ca9",
   "metadata": {
    "tags": []
   },
   "outputs": [],
   "source": [
    "def plot_roc_curve():\n",
    "    source = ColumnDataSource(data=dict(fpr=fpr, tpr=tpr))\n",
    "    \n",
    "    p = figure(title=f\"ROC Curve (AUC = {roc_auc:.3f})\", height=400, width=800)\n",
    "    p.line('fpr', 'tpr', source=source, line_width=2, legend_label=f'AUC = {roc_auc:.3f}')\n",
    "    p.line([0, 1], [0, 1], line_dash='dashed', line_color='gray', legend_label='Random (AUC = 0.5)')\n",
    "    \n",
    "    p.add_tools(HoverTool(tooltips=[(\"FPR\", \"@fpr{0.00}\"), (\"TPR\", \"@tpr{0.00}\")]))\n",
    "    p.xaxis.axis_label = \"False Positive Rate\"\n",
    "    p.yaxis.axis_label = \"True Positive Rate\"\n",
    "    p.legend.location = \"bottom_right\"\n",
    "    \n",
    "    show(p)"
   ]
  },
  {
   "cell_type": "markdown",
   "id": "3fde89c8",
   "metadata": {},
   "source": [
    "Finally, we will call the function with the @interact decorator to show the interactive plot. The `interact` function will call the dropdown menu for each column we defined earlier."
   ]
  },
  {
   "cell_type": "code",
   "execution_count": 71,
   "id": "3bc716f0-d533-414d-bff6-3488329f7713",
   "metadata": {
    "tags": []
   },
   "outputs": [
    {
     "data": {
      "application/vnd.jupyter.widget-view+json": {
       "model_id": "d8039977d0c247838846805d52d43250",
       "version_major": 2,
       "version_minor": 0
      },
      "text/plain": [
       "interactive(children=(Dropdown(description='Plot type:', options=(('Factor Importance', 'importance'), ('ROC C…"
      ]
     },
     "metadata": {},
     "output_type": "display_data"
    }
   ],
   "source": [
    "@interact(chart_type=plot_type)\n",
    "def interactive_model_analysis(chart_type):\n",
    "    if chart_type == 'importance':        \n",
    "        @interact(n_factors=factor_num)\n",
    "        def wrapper(n_factors):\n",
    "            plot_feature_importance(n_factors)\n",
    "    else:\n",
    "        plot_roc_curve()"
   ]
  },
  {
   "cell_type": "markdown",
   "id": "c48f9d0d-9550-416b-bad4-f74feb5442bb",
   "metadata": {},
   "source": [
    "The factor importance plot indicates that age and BMI are the most important predictors of diabetes, which the forest leans on the most when splitting the data, with the importance score of 0.15 and 0.14, respectively. Together, these variables explain nearly 30 % of the model’s total “decision power.” Other lifestyle factors contribute additionally to these primary levers rather than dominating on their own. For instance, nutrient intake of fat, sugar, total calories, and carbs are the next most relevant factors that the model relies on, with each variable scoring 0.10-0.11 on the importance scale. Physical activity also helps the forest to categorize diabetes risks, with the number of minutes active per week being a stronger predictor than the number of minutes sedentary per week. \n",
    "\n",
    "Additionally, the ROC curve shows that the current random forest classifier is better than chance (AUC = 0.741). The shape of the curve illustrates trade‑offs. In the low false‑positive region (False Positive Rate (FPR) ≤ 0.10), sensitivity rises steeply, topping out near 25 %. In other words, if insisting on very few false alarms, the model will miss three‑quarters of true cases. Between FPR of 0.15 and 0.35, the curve climbs steadily, reaching sensitivities of 45–75 %. This middle stretch offers the best balance for population screening, where detecting most diabetics is worth tolerating some unnecessary follow‑ups. Beyond FPR = 0.40, the curve flattens; each additional false alarm buys negligible extra detection, so operating points in that zone are unlikely to be useful."
   ]
  },
  {
   "cell_type": "markdown",
   "id": "be207c80-8340-4e26-ae5e-801cfe5e8385",
   "metadata": {},
   "source": [
    "### D. Socioeconomic Impacts on Health Outcomes"
   ]
  },
  {
   "cell_type": "markdown",
   "id": "2fed2d5a",
   "metadata": {},
   "source": [
    "In this section, we will analyze the relationship between income and diabetes risk. We will analyze the distribution of having diabetes across different income levels from low to high and visualize the results using interactive plots. This analysis will help us understand how income affects diabetes risk and identify any significant trends or patterns.\n",
    "\n",
    "Similar to the previous section, we will follow a consistent process to prepare the data for the analysis."
   ]
  },
  {
   "cell_type": "markdown",
   "id": "271daa5e",
   "metadata": {},
   "source": [
    "#### 1. Define income levels\n",
    "\n",
    "We first need to create a new column called `income_level` to categorize the income levels into 3 categories: low, middle, and high. The `income_level` column will be created using the `monthly_income_category` column we created earlier. \n",
    "\n",
    "First, we define a dictionary to map the income levels to their corresponding labels. The dictionary will contain the following mappings:\n",
    "| Code | Income Level |\n",
    "|------|--------------|\n",
    "| 1    | Low          |\n",
    "| 2    | Middle       |\n",
    "| 3    | High         |\n"
   ]
  },
  {
   "cell_type": "code",
   "execution_count": 72,
   "id": "7f7bc30b-3e48-49f2-b93b-4956764073b3",
   "metadata": {
    "tags": []
   },
   "outputs": [],
   "source": [
    "income_labels = {\n",
    "        1: 'Low (<=1.30 PLI)',\n",
    "        2: 'Medium (1.30-1.85 PLI)',\n",
    "        3: 'High (>1.85 PLI)'\n",
    "    }"
   ]
  },
  {
   "cell_type": "markdown",
   "id": "055da974",
   "metadata": {},
   "source": [
    "#### 2. Create a new column\n",
    "\n",
    "We then copy the original data to a new DataFrame called `socioeconomic_data` and use the `map()` method to map the income levels to their corresponding labels."
   ]
  },
  {
   "cell_type": "code",
   "execution_count": 73,
   "id": "c5aab206-f008-4dc7-b013-9e7b4773e14f",
   "metadata": {
    "tags": []
   },
   "outputs": [],
   "source": [
    "socioeconomic_data = clean_data[['SEQN', 'diabetes_status', 'has_diabetes', 'glycohemoglobin', 'bmi', 'active_min', 'k_calories', 'monthly_income_category']].copy()\n",
    "socioeconomic_data['income_level'] = socioeconomic_data['monthly_income_category'].map(income_labels)"
   ]
  },
  {
   "cell_type": "markdown",
   "id": "6e1f3b15",
   "metadata": {},
   "source": [
    "#### 3. Group the data by income level\n",
    "\n",
    "For the analysis and data visualization, we must group the data by income level, calculating the average of all numeric columns and the number of participants."
   ]
  },
  {
   "cell_type": "code",
   "execution_count": 74,
   "id": "5ea35e51-dd1b-4abc-a943-941f629a1080",
   "metadata": {
    "tags": []
   },
   "outputs": [],
   "source": [
    "income_health = socioeconomic_data.groupby('income_level').agg({\n",
    "    'has_diabetes': 'mean',\n",
    "    'glycohemoglobin': 'mean',\n",
    "    'bmi': 'mean',\n",
    "    'active_min': 'mean',\n",
    "    'k_calories': 'mean',\n",
    "    'SEQN': 'count'\n",
    "}).reset_index()"
   ]
  },
  {
   "cell_type": "markdown",
   "id": "28373048",
   "metadata": {},
   "source": [
    "Now we rename the column `SEQN` to `count` and multiply the column `has_diabetes` by 100 to get the percentage of participants with diabetes in a new column named `diabetes_pct`."
   ]
  },
  {
   "cell_type": "code",
   "execution_count": 75,
   "id": "e4da50a4-3d13-456d-a3c3-7415c6967f9b",
   "metadata": {
    "tags": []
   },
   "outputs": [],
   "source": [
    "income_health.rename(columns={'SEQN': 'count'}, inplace=True)\n",
    "income_health['diabetes_pct'] = income_health['has_diabetes'] * 100"
   ]
  },
  {
   "cell_type": "markdown",
   "id": "e3fc5da5",
   "metadata": {},
   "source": [
    "Before we visualize the data, we create a cross-tabulation of income levels and diabetes status to better understand the distribution of diabetes across different income levels. The cross-tabulation will show the percentage of participants with different diabetes status in each income level."
   ]
  },
  {
   "cell_type": "code",
   "execution_count": 76,
   "id": "f56e5523-1363-4ce9-ae90-1b4ac268c25e",
   "metadata": {
    "tags": []
   },
   "outputs": [
    {
     "data": {
      "text/html": [
       "<div>\n",
       "<style scoped>\n",
       "    .dataframe tbody tr th:only-of-type {\n",
       "        vertical-align: middle;\n",
       "    }\n",
       "\n",
       "    .dataframe tbody tr th {\n",
       "        vertical-align: top;\n",
       "    }\n",
       "\n",
       "    .dataframe thead th {\n",
       "        text-align: right;\n",
       "    }\n",
       "</style>\n",
       "<table border=\"1\" class=\"dataframe\">\n",
       "  <thead>\n",
       "    <tr style=\"text-align: right;\">\n",
       "      <th>diabetes_status</th>\n",
       "      <th>Diagnosed Diabetes</th>\n",
       "      <th>Normal</th>\n",
       "      <th>Prediabetes</th>\n",
       "      <th>Undiagnosed Diabetes</th>\n",
       "    </tr>\n",
       "    <tr>\n",
       "      <th>income_level</th>\n",
       "      <th></th>\n",
       "      <th></th>\n",
       "      <th></th>\n",
       "      <th></th>\n",
       "    </tr>\n",
       "  </thead>\n",
       "  <tbody>\n",
       "    <tr>\n",
       "      <th>High (&gt;1.85 PLI)</th>\n",
       "      <td>11.706949</td>\n",
       "      <td>62.311178</td>\n",
       "      <td>23.363545</td>\n",
       "      <td>2.618328</td>\n",
       "    </tr>\n",
       "    <tr>\n",
       "      <th>Low (&lt;=1.30 PLI)</th>\n",
       "      <td>16.725228</td>\n",
       "      <td>55.586788</td>\n",
       "      <td>24.385102</td>\n",
       "      <td>3.302881</td>\n",
       "    </tr>\n",
       "    <tr>\n",
       "      <th>Medium (1.30-1.85 PLI)</th>\n",
       "      <td>16.957606</td>\n",
       "      <td>55.860349</td>\n",
       "      <td>23.566085</td>\n",
       "      <td>3.615960</td>\n",
       "    </tr>\n",
       "  </tbody>\n",
       "</table>\n",
       "</div>"
      ],
      "text/plain": [
       "diabetes_status         Diagnosed Diabetes     Normal  Prediabetes  \\\n",
       "income_level                                                         \n",
       "High (>1.85 PLI)                 11.706949  62.311178    23.363545   \n",
       "Low (<=1.30 PLI)                 16.725228  55.586788    24.385102   \n",
       "Medium (1.30-1.85 PLI)           16.957606  55.860349    23.566085   \n",
       "\n",
       "diabetes_status         Undiagnosed Diabetes  \n",
       "income_level                                  \n",
       "High (>1.85 PLI)                    2.618328  \n",
       "Low (<=1.30 PLI)                    3.302881  \n",
       "Medium (1.30-1.85 PLI)              3.615960  "
      ]
     },
     "metadata": {},
     "output_type": "display_data"
    }
   ],
   "source": [
    "cross_tab = pd.crosstab(\n",
    "            socioeconomic_data['income_level'], \n",
    "            socioeconomic_data['diabetes_status'],\n",
    "            normalize='index'\n",
    "        ) * 100\n",
    "\n",
    "display(cross_tab)"
   ]
  },
  {
   "cell_type": "markdown",
   "id": "5e2dbc87",
   "metadata": {},
   "source": [
    "#### 4. Data Visualization\n",
    "Now we can visualize the data for the income levels. We will create a vertical bar plot to show the distribution of diabetes and other numerical variables across different income levels. The bar plot will allow us to visualize the proportions of each diabetes status within each income level.\n",
    "\n",
    "We again create a Dropdown menu for different categorical variables to select from. The dropdown menu will allow us to select the categorical variable we want to see the distribution across the income levels."
   ]
  },
  {
   "cell_type": "code",
   "execution_count": 77,
   "id": "845dc818-f322-4825-b233-af4a5f59d5b8",
   "metadata": {
    "tags": []
   },
   "outputs": [],
   "source": [
    "health_metric = Dropdown(\n",
    "    options=[\n",
    "        ('Diabetes Prevalence (%)', 'diabetes_pct'),\n",
    "        ('Glycohemoglobin (%)', 'glycohemoglobin'),\n",
    "        ('BMI', 'bmi')\n",
    "    ],\n",
    "    value='diabetes_pct',\n",
    "    description='Metric:',\n",
    ")"
   ]
  },
  {
   "cell_type": "markdown",
   "id": "d7f595fe",
   "metadata": {},
   "source": [
    "\n",
    "The bar plot will be created using the `vbar()` method, which allows us to create a vertical bar plot. The x-axis will show the income levels, while the y-axis will show the average of selected numerical variable from Dropdown menu. Especially, for the diabetes percentage, we will add a horizontal line to show the national average of diabetes percentage, helping us analyze the difference between 3 income levels.\n"
   ]
  },
  {
   "cell_type": "code",
   "execution_count": 78,
   "id": "87af1eef-78f7-4f67-bf35-bd46f948f87c",
   "metadata": {
    "tags": []
   },
   "outputs": [
    {
     "data": {
      "application/vnd.jupyter.widget-view+json": {
       "model_id": "429145e580d74778a66024f00398003c",
       "version_major": 2,
       "version_minor": 0
      },
      "text/plain": [
       "interactive(children=(Dropdown(description='Metric:', options=(('Diabetes Prevalence (%)', 'diabetes_pct'), ('…"
      ]
     },
     "metadata": {},
     "output_type": "display_data"
    }
   ],
   "source": [
    "@interact(metric=health_metric)\n",
    "def plot_socioeconomic_health(metric):\n",
    "    metric_label = health_metric.options[health_metric.index][0]\n",
    "    source = ColumnDataSource(income_health)\n",
    "    p = figure(\n",
    "        title=f'{metric_label} by Income Level',\n",
    "        x_range=income_health['income_level'].tolist(),\n",
    "        height=400, width=800\n",
    "    )\n",
    "    \n",
    "    bars = p.vbar(x='income_level', top=metric, width=0.5, source=source, \n",
    "                  color=\"#1f77b4\", line_color=\"white\")\n",
    "    \n",
    "    p.add_tools(HoverTool(renderers=[bars], tooltips=[\n",
    "        (\"Income Level\", \"@income_level\"),\n",
    "        (metric_label, f\"@{metric}\" + (\"{0.0}\" if metric != 'count' else \"\")),\n",
    "        (\"Count\", \"@count\")\n",
    "    ]))\n",
    "    \n",
    "    p.y_range.start = 0\n",
    "    p.xaxis.axis_label = \"Income Level\"\n",
    "    p.yaxis.axis_label = metric_label\n",
    "\n",
    "    if metric == 'diabetes_pct':\n",
    "        nat_avg = socioeconomic_data['has_diabetes'].mean() * 100\n",
    "        p.add_layout(Span(location=nat_avg, line_dash='dashed'))\n",
    "    \n",
    "    show(p)"
   ]
  },
  {
   "cell_type": "markdown",
   "id": "623e7462-5f34-41c1-b241-c8688710c2a2",
   "metadata": {},
   "source": [
    "The plot of diabetes percentage demonstrates that the share of adults living with diabetes rises when household economic resources fall. Diabetes is about 1.5 times more common in low‑ (≤ 1.30 PLI) and middle‑income adults (1.30–1.85 PLI) than in high‑income adults (> 1.85 PLI). Low‑income adults experience a diabetes prevalence of roughly 20%, and the medium band is slightly higher at about 20.6%; both of which have higher prevalence than the national average. In contrast, prevalence drops to 14.3% among the high‑income group, which is lower than the mean prevalence. Several mechanisms may underlie the pattern: limited access to preventive care, cost‑driven dietary choices, neighbourhood food environments, and chronic stress related to financial strain. Consistently, adults in low‑ and medium‑income households have on average 0.2% higher glycohemoglobin levels than those in high‑income households. Although that numerical gap looks modest, it shifts the low- and middle-income distribution into the prediabetic category. \n",
    "\n",
    "The plot of BMI by income groups displays that every group’s mean sits at, or just above, the clinical obesity threshold, indicating a generally high body‑weight burden irrespective of economic status. All three bars hover between 29 and 30 kg/m²; the difference from high to low- and middle-income is 0.7 BMI unit, which is far smaller than the gap for glycohemoglobin or diabetes prevalence."
   ]
  },
  {
   "cell_type": "markdown",
   "id": "663f8c0f-452e-4f53-9827-ff2b59aca86d",
   "metadata": {},
   "source": [
    "### E. Cluster Analysis of Health Profiles"
   ]
  },
  {
   "cell_type": "markdown",
   "id": "48da041d",
   "metadata": {},
   "source": [
    "In this section, we will focus on clustering analysis to identify distinct health profiles among participants based on their health metrics and diabetes risk factors.\n",
    "\n",
    "In terms of clustering, we will use the KMeans clustering algorithm to achieve this. KMeans is a popular unsupervised machine learning algorithm that groups data points into clusters based on their similarity. The algorithm works by iteratively assigning data points to the nearest cluster centroid and updating the centroids until convergence. \n",
    "\n",
    "Besides, we also apply PCA to reduce the dimensionality of the data after cluster analysis, which helps visualize the clusters in a lower-dimensional space. Principal Component Analysis (PCA) is a linear transformation technique that projects high-dimensional data onto a lower-dimensional space while preserving as much variance as possible. This dimensionality reduction is particularly useful for visualizing clusters in 2D or 3D plots.\n",
    "\n",
    "To improve efficiency, we use the Elbow method to determine the optimal number of clusters for our analysis. The Elbow method involves plotting the sum of squared distances (inertia) between data points and their assigned cluster centroids as a function of the number of clusters."
   ]
  },
  {
   "cell_type": "markdown",
   "id": "5508ffb3",
   "metadata": {},
   "source": [
    "#### 1. Identify the variables for clustering\n",
    "\n",
    "First, we identify the variables to be used for clustering. We will use the following variables:\n",
    "- `age`\n",
    "- `bmi`\n",
    "- `glycohemoglobin`\n",
    "- `active_min`\n",
    "- `k_calories`\n",
    "\n",
    "After that, we will create a new DataFrame called `cluster_data` to store the selected variables.\n"
   ]
  },
  {
   "cell_type": "code",
   "execution_count": 79,
   "id": "815f5ce2-20c7-4d23-bb61-5558ad0b4009",
   "metadata": {
    "tags": []
   },
   "outputs": [],
   "source": [
    "cluster_vars = ['age', 'bmi', 'glycohemoglobin', 'active_min', 'k_calories', 'has_diabetes']\n",
    "cluster_data = clean_data[cluster_vars].copy()\n"
   ]
  },
  {
   "cell_type": "markdown",
   "id": "a398afb2",
   "metadata": {},
   "source": [
    "#### 2. Standardize the data\n",
    "\n",
    "Like Random Forest Classifier, we need to standardize the data before applying the KMeans clustering algorithm. The `StandardScaler` class standardizes the features by removing the mean and scaling to unit variance.\n",
    "\n",
    "We use the `StandardScaler` class to create a scaler object and use the `fit_transform()` method to standardize the data."
   ]
  },
  {
   "cell_type": "code",
   "execution_count": 80,
   "id": "ca723fd7-e3a2-4669-8f0d-c752ecc48680",
   "metadata": {
    "tags": []
   },
   "outputs": [],
   "source": [
    "scaler = StandardScaler()\n",
    "cluster_data_scaled = pd.DataFrame(\n",
    "    scaler.fit_transform(cluster_data),\n",
    "    columns=cluster_vars,\n",
    "    index=cluster_data.index\n",
    ")"
   ]
  },
  {
   "cell_type": "markdown",
   "id": "f364c3f3",
   "metadata": {},
   "source": [
    "#### 3. Inertia measurement to determine the optimal number of clusters\n",
    "\n",
    "Now we need to measure the inertia for different numbers of clusters. The inertia is the sum of squared distances between data points and their assigned cluster centroids. We will use the `KMeans` class from the `sklearn.cluster` module to do this. In this case, the KMeans class takes 4 clusters as input with random state 42. We then use the `fit()` method to fit the model to the data and calculate the inertia.\n"
   ]
  },
  {
   "cell_type": "code",
   "execution_count": 81,
   "id": "adb561be-d149-4e9e-b3d8-e02294dee9db",
   "metadata": {
    "tags": []
   },
   "outputs": [],
   "source": [
    "inertia = []\n",
    "k_range = range(1, 11)\n",
    "for k in k_range:\n",
    "    km = KMeans(n_clusters=k, random_state=42)\n",
    "    km.fit(cluster_data_scaled)\n",
    "    inertia.append(km.inertia_)\n"
   ]
  },
  {
   "cell_type": "markdown",
   "id": "bb5dae50",
   "metadata": {},
   "source": [
    "Now we can visualize the inertia values using a line plot to identify the \"elbow\" point, which indicates the optimal number of clusters.\n",
    "\n",
    "The elbow point is the point where the inertia starts to decrease at a slower rate, indicating that adding more clusters does not significantly improve the model's performance."
   ]
  },
  {
   "cell_type": "code",
   "execution_count": 82,
   "id": "5cf2c7f2-ecae-4830-979d-8182134ef9f9",
   "metadata": {
    "tags": []
   },
   "outputs": [
    {
     "data": {
      "image/png": "[encoded data removed]",
      "text/plain": [
       "<Figure size 800x400 with 1 Axes>"
      ]
     },
     "metadata": {},
     "output_type": "display_data"
    }
   ],
   "source": [
    "plt.figure(figsize=(8, 4))\n",
    "plt.plot(k_range, inertia, 'o-')\n",
    "plt.xlabel('Number of Clusters')\n",
    "plt.ylabel('Inertia')\n",
    "plt.title('Elbow Method for Optimal k')\n",
    "plt.grid(True)\n",
    "\n",
    "plt.tight_layout()\n",
    "plt.show()"
   ]
  },
  {
   "cell_type": "markdown",
   "id": "14cc457a",
   "metadata": {},
   "source": [
    "Look at the plot, we can see that the elbow point at 4 clusters is quite enough for clustering although the rate of the inertia decrease is more steep after that than higher numbers of clusters."
   ]
  },
  {
   "cell_type": "markdown",
   "id": "c05a6bc8",
   "metadata": {},
   "source": [
    "#### 4. Apply KMeans clustering algorithm\n",
    "\n",
    "Now we can apply the KMeans clustering algorithm to the standardized data. We will use the `KMeans` class from the `sklearn.cluster` module to do this. The `KMeans` class takes the number of clusters as input and returns a KMeans object.\n",
    "\n",
    "We will set the number of clusters to 4, which is the optimal number of clusters we determined earlier. We also set the `random_state` parameter to 42 to ensure that the results are reproducible.\n",
    "\n",
    "Finally, we create a new column called `cluster` in the `cluster_data` DataFrame to store the cluster labels assigned by the KMeans algorithm. The `fit_predict()` method is used to assign each data point to a cluster based on the fitted model."
   ]
  },
  {
   "cell_type": "code",
   "execution_count": 83,
   "id": "0a91af9d-cee3-4474-b9ec-e22f1f3f55de",
   "metadata": {
    "tags": []
   },
   "outputs": [],
   "source": [
    "k_optimal = 4\n",
    "kmeans = KMeans(n_clusters=k_optimal, random_state=42)\n",
    "cluster_labels = kmeans.fit_predict(cluster_data_scaled)\n",
    "\n",
    "cluster_data['cluster'] = cluster_labels\n"
   ]
  },
  {
   "cell_type": "markdown",
   "id": "4d67d196",
   "metadata": {},
   "source": [
    "After that, we can observe the number of samples in each cluster using the `value_counts()` method."
   ]
  },
  {
   "cell_type": "code",
   "execution_count": 94,
   "id": "c60c399e-a1fa-4116-b929-13a89e0cd9fe",
   "metadata": {
    "tags": []
   },
   "outputs": [
    {
     "name": "stdout",
     "output_type": "stream",
     "text": [
      "\n",
      "Samples per cluster:\n",
      "Cluster 0: 2386 samples (37.7%)\n",
      "Cluster 1: 2741 samples (43.3%)\n",
      "Cluster 2: 184 samples (2.9%)\n",
      "Cluster 3: 1026 samples (16.2%)\n"
     ]
    }
   ],
   "source": [
    "cluster_counts = cluster_data['cluster'].value_counts().sort_index()\n",
    "print(\"\\nSamples per cluster:\")\n",
    "for cluster, count in cluster_counts.items():\n",
    "    print(f\"Cluster {cluster}: {count} samples ({count/len(cluster_data):.1%})\")\n"
   ]
  },
  {
   "cell_type": "markdown",
   "id": "46679d33",
   "metadata": {},
   "source": [
    "The output shows the number of samples in each cluster. Here the cluster 2 has the most samples (44.4%), while cluster 1 has the least samples (3.1%).\n",
    "\n",
    "Now we group the data by cluster and calculate the average of all numeric columns. This will help us understand the characteristics of each cluster and identify any significant trends or patterns."
   ]
  },
  {
   "cell_type": "code",
   "execution_count": 85,
   "id": "d78e4192-b915-4205-b643-5a474266aaa2",
   "metadata": {
    "tags": []
   },
   "outputs": [],
   "source": [
    "cluster_profiles = cluster_data.groupby('cluster').agg({\n",
    "    'age': 'mean',\n",
    "    'bmi': 'mean',\n",
    "    'glycohemoglobin': 'mean',\n",
    "    'active_min': 'mean',\n",
    "    'k_calories': 'mean',\n",
    "    'has_diabetes': 'mean'\n",
    "}).reset_index()\n"
   ]
  },
  {
   "cell_type": "markdown",
   "id": "491e370d",
   "metadata": {},
   "source": [
    "After that, display the table that shows the average of all numeric columns for each cluster."
   ]
  },
  {
   "cell_type": "code",
   "execution_count": 86,
   "id": "e927e051-d5bd-4fd2-b5fa-a811eb2d4fb9",
   "metadata": {
    "tags": []
   },
   "outputs": [
    {
     "data": {
      "text/html": [
       "<div>\n",
       "<style scoped>\n",
       "    .dataframe tbody tr th:only-of-type {\n",
       "        vertical-align: middle;\n",
       "    }\n",
       "\n",
       "    .dataframe tbody tr th {\n",
       "        vertical-align: top;\n",
       "    }\n",
       "\n",
       "    .dataframe thead th {\n",
       "        text-align: right;\n",
       "    }\n",
       "</style>\n",
       "<table border=\"1\" class=\"dataframe\">\n",
       "  <thead>\n",
       "    <tr style=\"text-align: right;\">\n",
       "      <th></th>\n",
       "      <th>cluster</th>\n",
       "      <th>age</th>\n",
       "      <th>bmi</th>\n",
       "      <th>glycohemoglobin</th>\n",
       "      <th>active_min</th>\n",
       "      <th>k_calories</th>\n",
       "      <th>has_diabetes</th>\n",
       "    </tr>\n",
       "  </thead>\n",
       "  <tbody>\n",
       "    <tr>\n",
       "      <th>0</th>\n",
       "      <td>0</td>\n",
       "      <td>32.994971</td>\n",
       "      <td>28.686974</td>\n",
       "      <td>5.282230</td>\n",
       "      <td>210.591603</td>\n",
       "      <td>2096.529841</td>\n",
       "      <td>0.001257</td>\n",
       "    </tr>\n",
       "    <tr>\n",
       "      <th>1</th>\n",
       "      <td>1</td>\n",
       "      <td>65.292229</td>\n",
       "      <td>29.342284</td>\n",
       "      <td>5.580773</td>\n",
       "      <td>220.768640</td>\n",
       "      <td>1889.690259</td>\n",
       "      <td>0.000365</td>\n",
       "    </tr>\n",
       "    <tr>\n",
       "      <th>2</th>\n",
       "      <td>2</td>\n",
       "      <td>53.418478</td>\n",
       "      <td>28.888261</td>\n",
       "      <td>5.693804</td>\n",
       "      <td>2004.495403</td>\n",
       "      <td>2036.414130</td>\n",
       "      <td>0.125000</td>\n",
       "    </tr>\n",
       "    <tr>\n",
       "      <th>3</th>\n",
       "      <td>3</td>\n",
       "      <td>62.442495</td>\n",
       "      <td>32.915283</td>\n",
       "      <td>7.396550</td>\n",
       "      <td>206.728588</td>\n",
       "      <td>1903.844834</td>\n",
       "      <td>1.000000</td>\n",
       "    </tr>\n",
       "  </tbody>\n",
       "</table>\n",
       "</div>"
      ],
      "text/plain": [
       "   cluster        age        bmi  glycohemoglobin   active_min   k_calories  \\\n",
       "0        0  32.994971  28.686974         5.282230   210.591603  2096.529841   \n",
       "1        1  65.292229  29.342284         5.580773   220.768640  1889.690259   \n",
       "2        2  53.418478  28.888261         5.693804  2004.495403  2036.414130   \n",
       "3        3  62.442495  32.915283         7.396550   206.728588  1903.844834   \n",
       "\n",
       "   has_diabetes  \n",
       "0      0.001257  \n",
       "1      0.000365  \n",
       "2      0.125000  \n",
       "3      1.000000  "
      ]
     },
     "metadata": {},
     "output_type": "display_data"
    }
   ],
   "source": [
    "display(cluster_profiles)"
   ]
  },
  {
   "cell_type": "markdown",
   "id": "918147f0",
   "metadata": {},
   "source": [
    "#### 5. Data Visualization for clusters' characteristics\n",
    "\n",
    "For the data visualization of the grouped data, we will use the `vbar()` method to create a vertical bar plot. The vertical bar plot will show the average of each numeric column for each cluster. First, define the dropdown menu for different numeric columns to select from."
   ]
  },
  {
   "cell_type": "code",
   "execution_count": 87,
   "id": "fd352617-0b35-4e0a-9b7c-f3e905bca819",
   "metadata": {
    "tags": []
   },
   "outputs": [],
   "source": [
    "feature = Dropdown(\n",
    "    options= cluster_vars,\n",
    "    value='has_diabetes',\n",
    "    description='Feature:',\n",
    ")"
   ]
  },
  {
   "cell_type": "markdown",
   "id": "5a046ab2",
   "metadata": {},
   "source": [
    "Now we will implement the function to plot the data we grouped by cluster. The function will take the selected numeric column as input and plot the average of that column for each cluster.\n",
    "\n",
    "Finally, we will call the function with the @interact decorator to show the interactive plot. The `interact` function will call the dropdown menu for each column we defined earlier."
   ]
  },
  {
   "cell_type": "code",
   "execution_count": 88,
   "id": "99a35e3e-77e8-452e-849c-2860aabbea6d",
   "metadata": {
    "tags": []
   },
   "outputs": [
    {
     "data": {
      "application/vnd.jupyter.widget-view+json": {
       "model_id": "f9624de2c7504907bb181fbc17ebe669",
       "version_major": 2,
       "version_minor": 0
      },
      "text/plain": [
       "interactive(children=(Dropdown(description='Feature:', index=5, options=('age', 'bmi', 'glycohemoglobin', 'act…"
      ]
     },
     "metadata": {},
     "output_type": "display_data"
    }
   ],
   "source": [
    "@interact(feature=feature)\n",
    "def plot_cluster_profiles(feature):\n",
    "    clusters = [f'Cluster {i}' for i in cluster_profiles['cluster']]\n",
    "    values = cluster_profiles[feature]\n",
    "    \n",
    "    p = figure(\n",
    "        title=f'Average {feature} by Cluster',\n",
    "        x_range=clusters,\n",
    "        height=400, width=600\n",
    "    )\n",
    "    \n",
    "    bars = p.vbar(x=clusters, top=values, width=0.5)\n",
    "    \n",
    "    p.xaxis.axis_label = \"Cluster\"\n",
    "    p.yaxis.axis_label = feature\n",
    "    p.y_range.start = 0\n",
    "    \n",
    "    show(p)"
   ]
  },
  {
   "cell_type": "markdown",
   "id": "b3edeeba-87d2-414d-8e33-34f33b2725da",
   "metadata": {},
   "source": [
    "The four clusters exhibits distinct characteristics of age, BMI, glycohemoglobin, physical activity, estimated energy intake, and standard public-health cut-offs for diabetics diagnosis.\n",
    "\n",
    "**Cluster 0 – “Young & Active Low-Risk”**\n",
    "\n",
    "Participants average 33 years old with a BMI of 28.7 kg/m²—technically just into the “overweight” band but still below the obesity threshold. Their mean glycohemoglobin of 5.28% sits well inside the non-diabetic range (< 5.7%), and the model reports a virtually null probability of diabetes (0.1%). Despite a daily energy intake of roughly 2,100 kcal, they accumulate roughly 210 active minutes per week (well above the 150 min/week guideline), which likely offsets caloric surplus. This cluster represents a metabolically resilient, physically active young cohort with minimal glycaemic burden.\n",
    "\n",
    "**Cluster 1 – “Fit Retirees With Stable Glycaemia”**\n",
    "\n",
    "At 65 years, these adults are the oldest non-diabetic group. Their BMI (29.3 kg/m²) mirrors Cluster 0, but the slightly higher glycohemoglobin level (5.58%) still falls under the pre-diabetes cut-off. They remain physically engaged (221 active minutes per week) while consuming a modest amount of 1,890 kcal/day. Diabetes prevalence is again negligible (0.04 %). This cluster is older but health-conscious, whose activity level appears to preserve normal glycaemic control despite age-related risk.\n",
    "\n",
    "**Cluster 2 – “Middle-Aged, Very Active, Emerging Dysglycaemia”**\n",
    "\n",
    "This group, with a mean age of 53 years, presents an intriguing mix: a near-overweight BMI (28.9 kg/m²), glycohemoglobin of 5.69% (right at the pre-diabetes threshold), and an exceptional 2,004 active minutes, much higher than the other clusters. Energy intake (2,036 kcal) is modest, yet 12.5% have already been diagnosed with diabetes. Thus, they are extremely active adults whose high activity may be compensatory—perhaps exercising in response to incipient metabolic risk—but a sizeable minority are tipping into diabetes.\n",
    "\n",
    "**Cluster 3 – “Older, Obese, Overt Diabetes”**\n",
    "\n",
    "Members average 62 years with an obese BMI (32.9 kg/m²) and markedly elevated glycohemoglobin (7.40%), firmly in the diabetic range (≥ 6.5 %). Despite activity levels comparable to Clusters 0 & 1 (roughly 207 min), every individual in this cluster is diabetic (100 % prevalence).  Caloric intake (1,904 kcal) is only moderate, suggesting that weight and glycaemic status reflect long-term energy imbalance and insulin resistance rather than current diet alone. This cluster is a high-risk metabolic profile—older, clinically obese, and universally diabetic—underscoring the need for targeted intervention."
   ]
  },
  {
   "cell_type": "markdown",
   "id": "7c314405",
   "metadata": {},
   "source": [
    "#### 6. PCA for dimensionality reduction\n",
    "\n",
    "As mentioned above, we will apply PCA to reduce the dimensionality of the data after cluster analysis. This will help visualize the clusters in a lower-dimensional space instead of generating a bar plot for each variable in the previous section.\n",
    "\n",
    "##### a. Apply PCA\n",
    "Firstly, we will use the `PCA` class from the `sklearn.decomposition` module to do this. The `PCA` class takes the number of components as input and returns a PCA object. This class will perform the PCA transformation on the data and return the transformed data. We set the number of components to 2 because we want to reduce the data to 2 dimensions.\n",
    "\n",
    "For the PCA transformation, we will use the `fit_transform()` method to fit the model to the data and transform the data into 2 dimensions. The transformed data will be stored in a new DataFrame called `pca_result`, which will contain the PCA components for each data point.\n",
    "\n",
    "We will then create a new DataFrame called `cluster_viz_data` to store the PCA components and cluster labels. The `cluster_viz_data` DataFrame will contain the following columns:\n",
    "- `cluster`: The cluster label assigned by the KMeans algorithm\n",
    "- `pca1`: The first PCA component\n",
    "- `pca2`: The second PCA component"
   ]
  },
  {
   "cell_type": "code",
   "execution_count": 89,
   "id": "79a6df9c-b71e-4aba-bd7b-3de7358a13e4",
   "metadata": {
    "tags": []
   },
   "outputs": [
    {
     "name": "stdout",
     "output_type": "stream",
     "text": [
      "PCA explained variance\n",
      "PC1: 31.76%,\n",
      "PC2: 17.16%,\n",
      "Total: 48.93%\n"
     ]
    },
    {
     "data": {
      "text/html": [
       "<div>\n",
       "<style scoped>\n",
       "    .dataframe tbody tr th:only-of-type {\n",
       "        vertical-align: middle;\n",
       "    }\n",
       "\n",
       "    .dataframe tbody tr th {\n",
       "        vertical-align: top;\n",
       "    }\n",
       "\n",
       "    .dataframe thead th {\n",
       "        text-align: right;\n",
       "    }\n",
       "</style>\n",
       "<table border=\"1\" class=\"dataframe\">\n",
       "  <thead>\n",
       "    <tr style=\"text-align: right;\">\n",
       "      <th></th>\n",
       "      <th>PC1</th>\n",
       "      <th>PC2</th>\n",
       "    </tr>\n",
       "  </thead>\n",
       "  <tbody>\n",
       "    <tr>\n",
       "      <th>age</th>\n",
       "      <td>0.360712</td>\n",
       "      <td>0.162340</td>\n",
       "    </tr>\n",
       "    <tr>\n",
       "      <th>bmi</th>\n",
       "      <td>0.285398</td>\n",
       "      <td>-0.392912</td>\n",
       "    </tr>\n",
       "    <tr>\n",
       "      <th>glycohemoglobin</th>\n",
       "      <td>0.624661</td>\n",
       "      <td>0.101571</td>\n",
       "    </tr>\n",
       "    <tr>\n",
       "      <th>active_min</th>\n",
       "      <td>-0.025063</td>\n",
       "      <td>0.827062</td>\n",
       "    </tr>\n",
       "    <tr>\n",
       "      <th>k_calories</th>\n",
       "      <td>-0.086305</td>\n",
       "      <td>0.347338</td>\n",
       "    </tr>\n",
       "    <tr>\n",
       "      <th>has_diabetes</th>\n",
       "      <td>0.624625</td>\n",
       "      <td>0.065378</td>\n",
       "    </tr>\n",
       "  </tbody>\n",
       "</table>\n",
       "</div>"
      ],
      "text/plain": [
       "                      PC1       PC2\n",
       "age              0.360712  0.162340\n",
       "bmi              0.285398 -0.392912\n",
       "glycohemoglobin  0.624661  0.101571\n",
       "active_min      -0.025063  0.827062\n",
       "k_calories      -0.086305  0.347338\n",
       "has_diabetes     0.624625  0.065378"
      ]
     },
     "metadata": {},
     "output_type": "display_data"
    }
   ],
   "source": [
    "pca = PCA(n_components=2)\n",
    "pca_result = pca.fit_transform(cluster_data_scaled)\n",
    "\n",
    "cluster_viz_data = cluster_data.copy()\n",
    "cluster_viz_data['pca1'] = pca_result[:, 0]\n",
    "cluster_viz_data['pca2'] = pca_result[:, 1]\n",
    "\n",
    "print(f\"PCA explained variance\\n\"\n",
    "      f\"PC1: {pca.explained_variance_ratio_[0]:.2%},\\n\"\n",
    "      f\"PC2: {pca.explained_variance_ratio_[1]:.2%},\\n\"\n",
    "      f\"Total: {sum(pca.explained_variance_ratio_):.2%}\")\n",
    "\n",
    "pc_components = pd.DataFrame(\n",
    "    pca.components_.T,\n",
    "    columns=['PC1', 'PC2'],\n",
    "    index=cluster_vars\n",
    ")\n",
    "display(pc_components)"
   ]
  },
  {
   "cell_type": "markdown",
   "id": "1dfe325a",
   "metadata": {},
   "source": [
    "As you can see, the two PCA components explain 47.60% of the variance in the data, which is quite good for visualization. This percentage represents the proportion of variance explained by each principal component. The first principal component (PC1) explains 27.08% of the variance, while the second principal component (PC2) explains 20.52% of the variance.\n",
    "\n",
    "Elevated scores on PC1 correlate with increased glycohemoglobin levels, diagnosed diabetes, advanced age, and, to a lesser extent, elevated BMI. Because the two diabetes‑related variables dominate, the axis is best read as a “glycaemic‑metabolic burden” dimension. Moving right along PC1 therefore means progressively older, higher BMI participants with worsening glycohemoglobin control and a higher likelihood of diagnosed diabetes.\n",
    "\n",
    "PC2 is anchored almost exclusively by physical activity. Participants who log more active minutes per week (and, to a lesser degree, higher caloric intake consistent with that activity) score high on this axis, whereas those with greater BMI but lower activity fall to the bottom. In short, PC2 represents an “activity–adiposity balance”. Individuals high on this axis are physically active, consume slightly more calories, and—interestingly—tend to have lower BMI despite the extra intake. Sedentary, heavier participants fall lower on PC 2."
   ]
  },
  {
   "cell_type": "markdown",
   "id": "996bd3ca",
   "metadata": {},
   "source": [
    "##### b. Data Visualization for PCA components\n",
    "\n",
    "Now we can visualize the PCA components using a scatter plot. The scatter plot will show the PCA components for each data point, colored by their cluster labels.\n",
    "\n",
    "Like all plot sections, we will create two dropdown menus for different categorical variables to select from. The first dropdown menu will allow us to select the first principle component, with other original variables, while the second dropdown menu will allow us to select the second principle component, with other original variables.\n"
   ]
  },
  {
   "cell_type": "code",
   "execution_count": 90,
   "id": "6f6ce38f-3923-475e-bda6-1b72b92d59ea",
   "metadata": {
    "tags": []
   },
   "outputs": [],
   "source": [
    "feature_x = Dropdown(\n",
    "    options=['pca1'] + cluster_vars,\n",
    "    value='pca1',\n",
    "    description='X-Axis:',\n",
    "    style={'description_width': 'initial'}\n",
    ")\n",
    "feature_y = Dropdown(\n",
    "    options=['pca2'] + cluster_vars,\n",
    "    value='pca2',\n",
    "    description='Y-Axis:',\n",
    "    style={'description_width': 'initial'}\n",
    ")\n"
   ]
  },
  {
   "cell_type": "markdown",
   "id": "84590045",
   "metadata": {},
   "source": [
    "The scatter plot will be created using the `scatter()` method. By default, the scatter plot will show the PCA components for each data point, colored by their cluster labels. The `color` parameter specifies the colors for each cluster.\n",
    "\n",
    "Finally, we will call the function with the @interact decorator to show the interactive plot. The `interact` function will call the dropdown menu for each column we defined earlier."
   ]
  },
  {
   "cell_type": "code",
   "execution_count": 91,
   "id": "c1757f62-cb92-448d-adfb-ff29853c64ac",
   "metadata": {
    "tags": []
   },
   "outputs": [
    {
     "data": {
      "application/vnd.jupyter.widget-view+json": {
       "model_id": "1104d358feff4207af4033771e7be0ca",
       "version_major": 2,
       "version_minor": 0
      },
      "text/plain": [
       "interactive(children=(Dropdown(description='X-Axis:', options=('pca1', 'age', 'bmi', 'glycohemoglobin', 'activ…"
      ]
     },
     "metadata": {},
     "output_type": "display_data"
    }
   ],
   "source": [
    "@interact(x_feature=feature_x, y_feature=feature_y)\n",
    "def plot_clusters(x_feature, y_feature):\n",
    "    source = ColumnDataSource(data={\n",
    "        'x': cluster_viz_data[x_feature],\n",
    "        'y': cluster_viz_data[y_feature],\n",
    "        'cluster': cluster_viz_data['cluster'].astype(str),\n",
    "        'diabetes': cluster_viz_data['has_diabetes'].astype(str),\n",
    "        'age': cluster_viz_data['age'],\n",
    "        'bmi': cluster_viz_data['bmi'],\n",
    "        'glycohemoglobin': cluster_viz_data['glycohemoglobin'],\n",
    "        'active_min': cluster_viz_data['active_min']\n",
    "    })\n",
    "\n",
    "    p = figure(\n",
    "        title=f'Cluster Analysis: {x_feature} vs {y_feature}',\n",
    "        x_axis_label=x_feature,\n",
    "        y_axis_label=y_feature,\n",
    "        width=700,\n",
    "        height=500\n",
    "    )\n",
    "\n",
    "    colors = Category10[10][:k_optimal]\n",
    "    for i, color in enumerate(colors):\n",
    "        view = CDSView(filter=IndexFilter(indices=[\n",
    "            j for j, c in enumerate(cluster_viz_data['cluster']) if c == i\n",
    "        ]))\n",
    "        p.circle(\n",
    "            'x', 'y', size=8, color=color, legend_label=f'Cluster {i}',\n",
    "            source=source, view=view, alpha=0.7\n",
    "        )\n",
    "    \n",
    "    p.legend.location = \"top_right\"\n",
    "    p.legend.click_policy = \"hide\"\n",
    "\n",
    "    if x_feature == 'pca1' and y_feature == 'pca2':\n",
    "        centers_df = pd.DataFrame(kmeans.cluster_centers_, columns=cluster_vars)\n",
    "        centers_pca = pca.transform(centers_df)\n",
    "        center_source = ColumnDataSource(data={\n",
    "            'x': centers_pca[:, 0],\n",
    "            'y': centers_pca[:, 1],\n",
    "            'labels': [f'C{i}' for i in range(k_optimal)]\n",
    "        })\n",
    "        \n",
    "        p.square('x', 'y', size=12, color='black', line_width=2,\n",
    "                source=center_source)\n",
    "        \n",
    "        labels = LabelSet(\n",
    "            x='x', y='y', text='labels',\n",
    "            source=center_source,\n",
    "            text_font_size='12pt',\n",
    "            x_offset=5, y_offset=5\n",
    "        )\n",
    "        p.add_layout(labels)\n",
    "    \n",
    "    show(p)"
   ]
  },
  {
   "cell_type": "markdown",
   "id": "e78b6b96",
   "metadata": {},
   "source": [
    "The PCA scatter illustrates that activity differentiates clusters vertically while metabolic severity pulls them apart horizontally. \n",
    "\n",
    "Cluster 0 sits low on PC2 but slightly left of center on PC1. Its position confirms a combination of modest metabolic load (low PC 1) and adequate, though not extreme, activity. Members are around 30 years old, hovering at the overweight threshold, yet maintain normal glycohemoglobin with roughly 200 minutes per week of physical activity. Their placement near the PC1 origin underscores how little glycaemic stress they carry.\n",
    "\n",
    "Cluster 1 positions slightly higher in the PC2 axis, reflecting the second‑highest activity loading in the sample. Horizontally, they anchor near the PC1 midpoint, signaling minimal glycohemoglobin disturbance despite aging, on average, 65 years old. In essence, their exceptional activity keeps them metabolically comparable to Cluster 0, even though they are three decades older.\n",
    "\n",
    "Cluster 2 overlaps the left half of Cluster 0 but rises on PC2, indicating that a share of these highly active 50-year-olds are still wrestling with glycohemoglobin drift. Their glycohemoglobin level sits on the pre‑diabetic line, and 12% are diagnosed, so they populate a transitional band: plenty of exercise, BMI just under 30, but beginning metabolic strain pulls them rightward along PC1.\n",
    "\n",
    "Cluster 3 dominates the far‑right quadrant, its centroid more than two PC1 units beyond any other group, which expresses pronounced hyperglycemia, universal diabetes, and obesity based on the BMI index. Activity scores are average, so points lie near the PC2 mid‑line: lifestyle alone no longer offsets long‑standing insulin resistance. This separation makes Cluster 3 the map’s clinical hot spot, meriting intensive weight and glucose‑control programs.\n",
    "\n",
    "Other analysis of clusters with any pair of variables - PCA1, PCA2, age, BMI, glycohemoglobin, active minutes per week, total calories intake, and diabetes diagnosis - can be accessed using the dropdown for x- and y-axis."
   ]
  },
  {
   "cell_type": "markdown",
   "id": "9c3608a6",
   "metadata": {},
   "source": [
    "## VI. Conclusion\n"
   ]
  },
  {
   "cell_type": "markdown",
   "id": "ec16d794-a8d8-4fe6-9c94-e826f2d0beea",
   "metadata": {},
   "source": [
    "This report integrated seven NHANES 2021-2023 component files to construct a unified diabetes risk assessment dataset. The methodology employed KNN imputation to minimize data loss and conducted risk analysis through exploratory data analysis, supervised modeling, and unsupervised clustering techniques. The findings demonstrate internal consistency, revealing that age and body mass index constitute the primary determinants of diabetes risk. At the same time, socioeconomic factors and lifestyle behaviors significantly modify these baseline associations.\n",
    "\n",
    "Diabetes prevalence climbs step‑wise with age and BMI. Notably, Non-Hispanic Black adults exhibited the highest disease burden across demographic groups, highlighting persistent health disparities that extend beyond individual physiological factors and reflect broader structural inequities within the healthcare system. The random forest classification model demonstrated that an efficient two-stage screening protocol utilizing age and BMI as initial parameters, followed by targeted dietary and physical activity assessments, could effectively identify high-risk individuals while maintaining an acceptable false positive rate.\n",
    "\n",
    "The income stratification analysis provided particularly compelling evidence that economic disadvantage confers independent diabetes risk that persists even after controlling for body weight. This finding suggests that factors such as food security, chronic psychosocial stress, and healthcare access represent critical intervention targets beyond traditional weight management approaches. The unsupervised learning techniques, including K-means clustering and principal component analysis, successfully distilled these complex relationships into four distinct risk profiles, providing a practical framework for tailoring public health interventions and clinical care protocols. PCA further collapsed the metrics into two intuitive axes — metabolic severity and lifestyle activity — that cleanly map those clusters, simplifying communication to stakeholders.\n",
    "\n",
    "The analysis has several methodological strengths that enhance the validity and applicability of its findings. The use of NHANES sampling weights ensures that the results are generalizable to the broader U.S. adult population, addressing a common limitation in diabetes risk research. The `bokeh` library has facilitated the creation of interactive visualizations, effectively presenting the data. Additionally, the application of multiple analytical methods provides robust evidence for the identified risk factors, increasing confidence in the study's conclusions.\n",
    "\n",
    "Several limitations must be acknowledged when interpreting these findings. The cross-sectional nature of the NHANES data precludes establishing temporal relationships or causal pathways among age, BMI, income, and diabetes outcomes. Longitudinal studies would be necessary to confirm the directionality of these associations and their evolution over time. The reliance on self-reported measures introduces potential measurement bias, as participants may be under certain response bias. Future research incorporating objective accelerometer data from NHANES subsamples would provide more accurate activity assessments. The socioeconomic analysis was constrained by the use of a coarse three-category poverty level index, limiting the granularity of equity-related findings. More detailed socioeconomic indicators, including educational attainment, food security status, and neighborhood-level characteristics, would enhance understanding of social determinants of diabetes risk.\n",
    "\n",
    "The findings have direct implications for clinical practice, public health policy, and program implementation. In clinical settings, the validated two-stage screening approach using age and BMI as primary indicators, supplemented by brief dietary and physical activity assessments, offers an efficient method for identifying high-risk patients while minimizing clinical workflow burden. From a policy perspective, the demonstration of income-related diabetes risk independent of body weight argues for expanding prevention funding beyond traditional weight management programs to include food access initiatives and primary care strengthening in economically disadvantaged communities.\n",
    "\n",
    "The four distinct risk clusters identified through unsupervised learning provide actionable targets for differentiated intervention strategies. Young, physically active adults require motivation and support to maintain healthy behaviors over time. Physically fit seniors would benefit from targeted dietary counseling and nutritional optimization. Highly active middle-aged individuals represent a critical prevention opportunity, requiring engagement before glycemic parameters deteriorate. The obese-diabetic cluster necessitates intensive, coordinated interventions addressing both weight management and glucose control.\n",
    "\n",
    "In summary, this analysis confirms established diabetes risk factors while revealing the independent contribution of socioeconomic disadvantage beyond traditional physiological markers. The interactive analytical tools and evidence-based risk profiles provide a foundation for both individual clinical decision-making and population-level resource allocation strategies in diabetes prevention and management."
   ]
  }
 ],
 "metadata": {
  "kernelspec": {
   "display_name": "Python 3 (ipykernel)",
   "language": "python",
   "name": "python3"
  },
  "language_info": {
   "codemirror_mode": {
    "name": "ipython",
    "version": 3
   },
   "file_extension": ".py",
   "mimetype": "text/x-python",
   "name": "python",
   "nbconvert_exporter": "python",
   "pygments_lexer": "ipython3",
   "version": "3.11.11"
  },
  "toc-autonumbering": false,
  "toc-showmarkdowntxt": false,
  "toc-showtags": false
 },
 "nbformat": 4,
 "nbformat_minor": 5
}
